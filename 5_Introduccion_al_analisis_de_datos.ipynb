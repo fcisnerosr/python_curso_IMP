{
 "cells": [
  {
   "cell_type": "markdown",
   "metadata": {
    "id": "AepNAZLxspn0"
   },
   "source": [
    "# La estructura de datos en serie"
   ]
  },
  {
   "cell_type": "markdown",
   "metadata": {
    "id": "S2hmDUl_IiZj"
   },
   "source": [
    "Una serie es un n-arreglo unidimensional con etiquetas.\n",
    "\n",
    "Es un arreglo que te permite almacenar información de diferentes tipos sea por medio de cadenas de texto, flotantes o enteros, entre otros."
   ]
  },
  {
   "cell_type": "code",
   "execution_count": 1,
   "metadata": {
    "id": "jaALG1qQspn2"
   },
   "outputs": [
    {
     "name": "stdout",
     "output_type": "stream",
     "text": [
      "\u001b[31mInit signature:\u001b[39m\n",
      "pd.Series(\n",
      "    data=\u001b[38;5;28;01mNone\u001b[39;00m,\n",
      "    index=\u001b[38;5;28;01mNone\u001b[39;00m,\n",
      "    dtype: \u001b[33m'Dtype | None'\u001b[39m = \u001b[38;5;28;01mNone\u001b[39;00m,\n",
      "    name=\u001b[38;5;28;01mNone\u001b[39;00m,\n",
      "    copy: \u001b[33m'bool | None'\u001b[39m = \u001b[38;5;28;01mNone\u001b[39;00m,\n",
      "    fastpath: \u001b[33m'bool | lib.NoDefault'\u001b[39m = <no_default>,\n",
      ") -> \u001b[33m'None'\u001b[39m\n",
      "\u001b[31mDocstring:\u001b[39m     \n",
      "One-dimensional ndarray with axis labels (including time series).\n",
      "\n",
      "Labels need not be unique but must be a hashable type. The object\n",
      "supports both integer- and label-based indexing and provides a host of\n",
      "methods for performing operations involving the index. Statistical\n",
      "methods from ndarray have been overridden to automatically exclude\n",
      "missing data (currently represented as NaN).\n",
      "\n",
      "Operations between Series (+, -, /, \\*, \\*\\*) align values based on their\n",
      "associated index values-- they need not be the same length. The result\n",
      "index will be the sorted union of the two indexes.\n",
      "\n",
      "Parameters\n",
      "----------\n",
      "data : array-like, Iterable, dict, or scalar value\n",
      "    Contains data stored in Series. If data is a dict, argument order is\n",
      "    maintained.\n",
      "index : array-like or Index (1d)\n",
      "    Values must be hashable and have the same length as `data`.\n",
      "    Non-unique index values are allowed. Will default to\n",
      "    RangeIndex (0, 1, 2, ..., n) if not provided. If data is dict-like\n",
      "    and index is None, then the keys in the data are used as the index. If the\n",
      "    index is not None, the resulting Series is reindexed with the index values.\n",
      "dtype : str, numpy.dtype, or ExtensionDtype, optional\n",
      "    Data type for the output Series. If not specified, this will be\n",
      "    inferred from `data`.\n",
      "    See the :ref:`user guide <basics.dtypes>` for more usages.\n",
      "name : Hashable, default None\n",
      "    The name to give to the Series.\n",
      "copy : bool, default False\n",
      "    Copy input data. Only affects Series or 1d ndarray input. See examples.\n",
      "\n",
      "Notes\n",
      "-----\n",
      "Please reference the :ref:`User Guide <basics.series>` for more information.\n",
      "\n",
      "Examples\n",
      "--------\n",
      "Constructing Series from a dictionary with an Index specified\n",
      "\n",
      ">>> d = {'a': 1, 'b': 2, 'c': 3}\n",
      ">>> ser = pd.Series(data=d, index=['a', 'b', 'c'])\n",
      ">>> ser\n",
      "a   1\n",
      "b   2\n",
      "c   3\n",
      "dtype: int64\n",
      "\n",
      "The keys of the dictionary match with the Index values, hence the Index\n",
      "values have no effect.\n",
      "\n",
      ">>> d = {'a': 1, 'b': 2, 'c': 3}\n",
      ">>> ser = pd.Series(data=d, index=['x', 'y', 'z'])\n",
      ">>> ser\n",
      "x   NaN\n",
      "y   NaN\n",
      "z   NaN\n",
      "dtype: float64\n",
      "\n",
      "Note that the Index is first build with the keys from the dictionary.\n",
      "After this the Series is reindexed with the given Index values, hence we\n",
      "get all NaN as a result.\n",
      "\n",
      "Constructing Series from a list with `copy=False`.\n",
      "\n",
      ">>> r = [1, 2]\n",
      ">>> ser = pd.Series(r, copy=False)\n",
      ">>> ser.iloc[0] = 999\n",
      ">>> r\n",
      "[1, 2]\n",
      ">>> ser\n",
      "0    999\n",
      "1      2\n",
      "dtype: int64\n",
      "\n",
      "Due to input data type the Series has a `copy` of\n",
      "the original data even though `copy=False`, so\n",
      "the data is unchanged.\n",
      "\n",
      "Constructing Series from a 1d ndarray with `copy=False`.\n",
      "\n",
      ">>> r = np.array([1, 2])\n",
      ">>> ser = pd.Series(r, copy=False)\n",
      ">>> ser.iloc[0] = 999\n",
      ">>> r\n",
      "array([999,   2])\n",
      ">>> ser\n",
      "0    999\n",
      "1      2\n",
      "dtype: int64\n",
      "\n",
      "Due to input data type the Series has a `view` on\n",
      "the original data, so\n",
      "the data is changed as well.\n",
      "\u001b[31mFile:\u001b[39m           ~/miniforge3/envs/python_curso_IMP/lib/python3.12/site-packages/pandas/core/series.py\n",
      "\u001b[31mType:\u001b[39m           type\n",
      "\u001b[31mSubclasses:\u001b[39m     SubclassedSeries"
     ]
    }
   ],
   "source": [
    "import pandas as pd\n",
    "pd.Series?"
   ]
  },
  {
   "cell_type": "code",
   "execution_count": 2,
   "metadata": {
    "id": "u1mggkP-spoJ"
   },
   "outputs": [
    {
     "data": {
      "text/plain": [
       "0    Tiger\n",
       "1     Bear\n",
       "2    Moose\n",
       "dtype: object"
      ]
     },
     "execution_count": 2,
     "metadata": {},
     "output_type": "execute_result"
    }
   ],
   "source": [
    "animals = ['Tiger', 'Bear', 'Moose']\n",
    "pd.Series(animals)"
   ]
  },
  {
   "cell_type": "code",
   "execution_count": 3,
   "metadata": {
    "id": "Zf7M94Anspof"
   },
   "outputs": [
    {
     "data": {
      "text/plain": [
       "0    1\n",
       "1    2\n",
       "2    3\n",
       "dtype: int64"
      ]
     },
     "execution_count": 3,
     "metadata": {},
     "output_type": "execute_result"
    }
   ],
   "source": [
    "numbers = [1, 2, 3]\n",
    "pd.Series(numbers)"
   ]
  },
  {
   "cell_type": "code",
   "execution_count": 4,
   "metadata": {
    "id": "2cdVT9_Wspo6"
   },
   "outputs": [
    {
     "data": {
      "text/plain": [
       "0    Tiger\n",
       "1     Bear\n",
       "2     None\n",
       "dtype: object"
      ]
     },
     "execution_count": 4,
     "metadata": {},
     "output_type": "execute_result"
    }
   ],
   "source": [
    "animals = ['Tiger', 'Bear', None]\n",
    "pd.Series(animals)"
   ]
  },
  {
   "cell_type": "code",
   "execution_count": 5,
   "metadata": {
    "id": "e--Zm3SBsppD"
   },
   "outputs": [
    {
     "data": {
      "text/plain": [
       "0      1\n",
       "1     -2\n",
       "2      3\n",
       "3     -4\n",
       "4      5\n",
       "5     -6\n",
       "6      7\n",
       "7     -7\n",
       "8      7\n",
       "9     -7\n",
       "10     8\n",
       "11    -9\n",
       "12    10\n",
       "13   -11\n",
       "14    12\n",
       "dtype: int64"
      ]
     },
     "execution_count": 5,
     "metadata": {},
     "output_type": "execute_result"
    }
   ],
   "source": [
    "numbers = [1, -2, 3, -4, 5, -6, 7, -7, 7, -7, 8, -9, 10, -11, 12]\n",
    "serie = pd.Series(numbers)\n",
    "serie"
   ]
  },
  {
   "cell_type": "code",
   "execution_count": 6,
   "metadata": {
    "id": "ptECui_fbuRo"
   },
   "outputs": [
    {
     "data": {
      "text/plain": [
       "count    15.000000\n",
       "mean      0.466667\n",
       "std       7.529624\n",
       "min     -11.000000\n",
       "25%      -6.500000\n",
       "50%       1.000000\n",
       "75%       7.000000\n",
       "max      12.000000\n",
       "dtype: float64"
      ]
     },
     "execution_count": 6,
     "metadata": {},
     "output_type": "execute_result"
    }
   ],
   "source": [
    "serie.describe()"
   ]
  },
  {
   "cell_type": "code",
   "execution_count": 7,
   "metadata": {
    "id": "3CWwT37cdkvw"
   },
   "outputs": [
    {
     "data": {
      "text/plain": [
       "-11"
      ]
     },
     "execution_count": 7,
     "metadata": {},
     "output_type": "execute_result"
    }
   ],
   "source": [
    "serie.min()"
   ]
  },
  {
   "cell_type": "code",
   "execution_count": 8,
   "metadata": {
    "id": "WxlWpCVsdnkW"
   },
   "outputs": [
    {
     "data": {
      "text/plain": [
       "12"
      ]
     },
     "execution_count": 8,
     "metadata": {},
     "output_type": "execute_result"
    }
   ],
   "source": [
    "serie.max()"
   ]
  },
  {
   "cell_type": "code",
   "execution_count": 9,
   "metadata": {
    "id": "OawlsM7Jd_ef"
   },
   "outputs": [
    {
     "data": {
      "text/plain": [
       "0      1\n",
       "1      2\n",
       "2      3\n",
       "3      4\n",
       "4      5\n",
       "5      6\n",
       "6      7\n",
       "7      7\n",
       "8      7\n",
       "9      7\n",
       "10     8\n",
       "11     9\n",
       "12    10\n",
       "13    11\n",
       "14    12\n",
       "dtype: int64"
      ]
     },
     "execution_count": 9,
     "metadata": {},
     "output_type": "execute_result"
    }
   ],
   "source": [
    "serie.abs()"
   ]
  },
  {
   "cell_type": "code",
   "execution_count": 10,
   "metadata": {},
   "outputs": [
    {
     "data": {
      "text/plain": [
       "0      1\n",
       "1     -2\n",
       "2      3\n",
       "3     -4\n",
       "4      5\n",
       "5     -6\n",
       "6      7\n",
       "7     -7\n",
       "8      7\n",
       "9     -7\n",
       "10     8\n",
       "11    -9\n",
       "12    10\n",
       "13   -11\n",
       "14    12\n",
       "dtype: int64"
      ]
     },
     "execution_count": 10,
     "metadata": {},
     "output_type": "execute_result"
    }
   ],
   "source": [
    "serie"
   ]
  },
  {
   "cell_type": "code",
   "execution_count": 11,
   "metadata": {
    "id": "ggGPS7_rfCVG"
   },
   "outputs": [
    {
     "data": {
      "text/plain": [
       "0      NaN\n",
       "1      NaN\n",
       "2      3.0\n",
       "3      NaN\n",
       "4      5.0\n",
       "5      NaN\n",
       "6      7.0\n",
       "7      NaN\n",
       "8      7.0\n",
       "9      NaN\n",
       "10     8.0\n",
       "11     NaN\n",
       "12    10.0\n",
       "13     NaN\n",
       "14    12.0\n",
       "dtype: float64"
      ]
     },
     "execution_count": 11,
     "metadata": {},
     "output_type": "execute_result"
    }
   ],
   "source": [
    "serie.where(serie > 1)"
   ]
  },
  {
   "cell_type": "code",
   "execution_count": 12,
   "metadata": {
    "id": "6KTLgl71fft6"
   },
   "outputs": [
    {
     "data": {
      "text/plain": [
       "0      0\n",
       "1      0\n",
       "2      3\n",
       "3      0\n",
       "4      5\n",
       "5      0\n",
       "6      7\n",
       "7      0\n",
       "8      7\n",
       "9      0\n",
       "10     8\n",
       "11     0\n",
       "12    10\n",
       "13     0\n",
       "14    12\n",
       "dtype: int64"
      ]
     },
     "execution_count": 12,
     "metadata": {},
     "output_type": "execute_result"
    }
   ],
   "source": [
    "serie.where(serie > 1, 0)"
   ]
  },
  {
   "cell_type": "code",
   "execution_count": 13,
   "metadata": {
    "id": "IlmpTsptfmfW"
   },
   "outputs": [
    {
     "data": {
      "text/plain": [
       "2      3.0\n",
       "4      5.0\n",
       "6      7.0\n",
       "8      7.0\n",
       "10     8.0\n",
       "12    10.0\n",
       "14    12.0\n",
       "dtype: float64"
      ]
     },
     "execution_count": 13,
     "metadata": {},
     "output_type": "execute_result"
    }
   ],
   "source": [
    "serie.where(serie > 1).dropna()"
   ]
  },
  {
   "cell_type": "code",
   "execution_count": 14,
   "metadata": {
    "id": "sN0BFdvfcWIm"
   },
   "outputs": [],
   "source": [
    "serie1 = pd.Series([1, 2, 3, 5, 7])\n",
    "serie2 = pd.Series([13, 17, 11, 5, 3])\n"
   ]
  },
  {
   "cell_type": "code",
   "execution_count": 15,
   "metadata": {},
   "outputs": [
    {
     "data": {
      "text/plain": [
       "0    1\n",
       "1    2\n",
       "2    3\n",
       "3    5\n",
       "4    7\n",
       "dtype: int64"
      ]
     },
     "execution_count": 15,
     "metadata": {},
     "output_type": "execute_result"
    }
   ],
   "source": [
    "serie1"
   ]
  },
  {
   "cell_type": "code",
   "execution_count": 16,
   "metadata": {},
   "outputs": [
    {
     "data": {
      "text/plain": [
       "0    13\n",
       "1    17\n",
       "2    11\n",
       "3     5\n",
       "4     3\n",
       "dtype: int64"
      ]
     },
     "execution_count": 16,
     "metadata": {},
     "output_type": "execute_result"
    }
   ],
   "source": [
    "serie2"
   ]
  },
  {
   "cell_type": "code",
   "execution_count": 17,
   "metadata": {
    "id": "KUrG1vx_cXiZ"
   },
   "outputs": [
    {
     "data": {
      "text/plain": [
       "0     True\n",
       "1     True\n",
       "2     True\n",
       "3    False\n",
       "4    False\n",
       "dtype: bool"
      ]
     },
     "execution_count": 17,
     "metadata": {},
     "output_type": "execute_result"
    }
   ],
   "source": [
    "serie1 < serie2"
   ]
  },
  {
   "cell_type": "code",
   "execution_count": 22,
   "metadata": {
    "id": "_2ras5g2caYf"
   },
   "outputs": [
    {
     "data": {
      "text/plain": [
       "0    False\n",
       "1    False\n",
       "2    False\n",
       "3    False\n",
       "4     True\n",
       "dtype: bool"
      ]
     },
     "execution_count": 22,
     "metadata": {},
     "output_type": "execute_result"
    }
   ],
   "source": [
    "serie1 > serie2"
   ]
  },
  {
   "cell_type": "code",
   "execution_count": 23,
   "metadata": {
    "id": "THS2pp5DcdgB"
   },
   "outputs": [
    {
     "data": {
      "text/plain": [
       "0    False\n",
       "1    False\n",
       "2    False\n",
       "3     True\n",
       "4    False\n",
       "dtype: bool"
      ]
     },
     "execution_count": 23,
     "metadata": {},
     "output_type": "execute_result"
    }
   ],
   "source": [
    "serie1 == serie2"
   ]
  },
  {
   "cell_type": "markdown",
   "metadata": {
    "id": "TPfvt1sFcjDX"
   },
   "source": [
    "Los diccionarios se pueden convertir en series"
   ]
  },
  {
   "cell_type": "code",
   "execution_count": 30,
   "metadata": {
    "id": "0wDAcAE4cg6l"
   },
   "outputs": [
    {
     "data": {
      "text/plain": [
       "a    10\n",
       "b    20\n",
       "c    30\n",
       "d    40\n",
       "dtype: int64"
      ]
     },
     "execution_count": 30,
     "metadata": {},
     "output_type": "execute_result"
    }
   ],
   "source": [
    "datos = {'a': 10, 'b': 20, 'c': 30, 'd': 40}\n",
    "\n",
    "serie = pd.Series(datos)\n",
    "serie"
   ]
  },
  {
   "cell_type": "code",
   "execution_count": 31,
   "metadata": {
    "id": "1zMpngpjciSG"
   },
   "outputs": [
    {
     "data": {
      "text/plain": [
       "np.int64(10)"
      ]
     },
     "execution_count": 31,
     "metadata": {},
     "output_type": "execute_result"
    }
   ],
   "source": [
    "serie['a']"
   ]
  },
  {
   "cell_type": "code",
   "execution_count": 32,
   "metadata": {
    "id": "5q8ljulzsppS"
   },
   "outputs": [
    {
     "data": {
      "text/plain": [
       "False"
      ]
     },
     "execution_count": 32,
     "metadata": {},
     "output_type": "execute_result"
    }
   ],
   "source": [
    "import numpy as np\n",
    "np.nan == None"
   ]
  },
  {
   "cell_type": "code",
   "execution_count": 35,
   "metadata": {},
   "outputs": [
    {
     "data": {
      "text/plain": [
       "float"
      ]
     },
     "execution_count": 35,
     "metadata": {},
     "output_type": "execute_result"
    }
   ],
   "source": [
    "type(None)\n",
    "type(np.nan)"
   ]
  },
  {
   "cell_type": "code",
   "execution_count": 36,
   "metadata": {
    "id": "PYvaUyS0sppa"
   },
   "outputs": [
    {
     "data": {
      "text/plain": [
       "False"
      ]
     },
     "execution_count": 36,
     "metadata": {},
     "output_type": "execute_result"
    }
   ],
   "source": [
    "np.nan == np.nan"
   ]
  },
  {
   "cell_type": "code",
   "execution_count": 38,
   "metadata": {
    "id": "rmbJfbvLsppi"
   },
   "outputs": [
    {
     "data": {
      "text/plain": [
       "np.True_"
      ]
     },
     "execution_count": 38,
     "metadata": {},
     "output_type": "execute_result"
    }
   ],
   "source": [
    "np.isnan(np.nan)"
   ]
  },
  {
   "cell_type": "code",
   "execution_count": 39,
   "metadata": {
    "id": "XWUMPY1DuUHB"
   },
   "outputs": [
    {
     "data": {
      "text/plain": [
       "np.False_"
      ]
     },
     "execution_count": 39,
     "metadata": {},
     "output_type": "execute_result"
    }
   ],
   "source": [
    "np.isnan(1)"
   ]
  },
  {
   "cell_type": "code",
   "execution_count": 45,
   "metadata": {
    "id": "27RyHmuldw72"
   },
   "outputs": [
    {
     "data": {
      "text/plain": [
       "0       2.3\n",
       "1    Python\n",
       "2        90\n",
       "3       100\n",
       "4       NaN\n",
       "5       0.5\n",
       "6        .9\n",
       "dtype: object"
      ]
     },
     "execution_count": 45,
     "metadata": {},
     "output_type": "execute_result"
    }
   ],
   "source": [
    "datos = ['2.3', 'Python', '90', '100', np.nan, '0.5', '.9']\n",
    "\n",
    "serie = pd.Series(datos)\n",
    "\n",
    "serie"
   ]
  },
  {
   "cell_type": "code",
   "execution_count": 48,
   "metadata": {
    "id": "gjRhDv83d4VN"
   },
   "outputs": [
    {
     "name": "stdout",
     "output_type": "stream",
     "text": [
      "0       2.3\n",
      "1    Python\n",
      "2        90\n",
      "3       100\n",
      "5       0.5\n",
      "6        .9\n",
      "dtype: object\n"
     ]
    }
   ],
   "source": [
    "serie = serie.dropna()\n",
    "print(serie)"
   ]
  },
  {
   "cell_type": "code",
   "execution_count": 50,
   "metadata": {
    "id": "Ewt1RbDwehj7"
   },
   "outputs": [
    {
     "data": {
      "text/plain": [
       "0         1\n",
       "1         3\n",
       "2         7\n",
       "3        11\n",
       "4    Python\n",
       "5      -0.5\n",
       "6       NaN\n",
       "dtype: object"
      ]
     },
     "execution_count": 50,
     "metadata": {},
     "output_type": "execute_result"
    }
   ],
   "source": [
    "datos = [1, 3, 7, 11, 'Python', '-0.5', np.nan]\n",
    "\n",
    "serie = pd.Series(datos)\n",
    "\n",
    "serie"
   ]
  },
  {
   "cell_type": "code",
   "execution_count": 53,
   "metadata": {
    "id": "mc5Sk5_aekh5"
   },
   "outputs": [
    {
     "name": "stdout",
     "output_type": "stream",
     "text": [
      "0         1\n",
      "1         3\n",
      "2         7\n",
      "3        11\n",
      "4    Python\n",
      "5      -0.5\n",
      "6       NaN\n",
      "dtype: object\n",
      "0         1\n",
      "1         3\n",
      "2         7\n",
      "3        11\n",
      "4    Python\n",
      "5      -0.5\n",
      "6        10\n",
      "dtype: object\n"
     ]
    }
   ],
   "source": [
    "serie2 = serie.fillna(10, inplace=False)\n",
    "\n",
    "print(serie)\n",
    "print(serie2)"
   ]
  },
  {
   "cell_type": "markdown",
   "metadata": {
    "collapsed": true,
    "id": "2uvvyKH_spti",
    "jupyter": {
     "outputs_hidden": true
    }
   },
   "source": [
    "# La estructura de datos Data Frame con [pandas][]\n",
    "\n",
    "Pandas DataFrame es una estructura de datos como cualquier tabla con filas y columnas. Los valores de la dataframe pueden ser modficados. Por ello es el objeto de pandas mas comunmente usado. Existen distintas maneras de crear Data Frames. Entre ellas esta la funcion DataFrame().\n",
    "\n",
    "\n",
    "\n",
    "```\n",
    "import pandas as pd\n",
    "pd.DataFrame(data, index, columns)\n",
    "```\n",
    "\n",
    "[pandas]:https://pandas.pydata.org/pandas-docs/stable/user_guide/index.html#user-guide"
   ]
  },
  {
   "cell_type": "markdown",
   "metadata": {
    "id": "0fHF7ymKIiZ8"
   },
   "source": [
    "\n",
    "Para crear un data frame se usa la siguiente sintaxis\n",
    "data: Es el conjunto de datos con el que se crea el Data Frame. Pueden ser una lista, un diccionario, un valor escalar, una serie, un arreglo ndarray, etc.\n",
    "\n",
    "index: Es opcional, por defecto, el indice empieza en 0 y termina en n-1 para una lista de n valores. Define de manera explicita la etiqueta de las filas.\n",
    "\n",
    "columns: Se usa para crear los nombres de las columnas. Si no se define el nombre de las columnas, de manera similar toma valores de 0 a n-1"
   ]
  },
  {
   "cell_type": "code",
   "execution_count": 62,
   "metadata": {
    "id": "U6p7zTOYIiZ8"
   },
   "outputs": [
    {
     "name": "stdout",
     "output_type": "stream",
     "text": [
      "   Uno  dos\n",
      "a  NaN  NaN\n",
      "B  NaN  NaN\n"
     ]
    }
   ],
   "source": [
    "# Importing Pandas to create DataFrame\n",
    "import pandas as pd\n",
    "  \n",
    "# Creating Empty DataFrame and Storing it in variable df\n",
    "df = pd.DataFrame(index=[\"a\",\"B\"],columns=[\"Uno\",\"dos\"])\n",
    "  \n",
    "# Printing Empty DataFrame\n",
    "print(df)"
   ]
  },
  {
   "cell_type": "code",
   "execution_count": 63,
   "metadata": {
    "id": "SLc8LOHtIiZ8"
   },
   "outputs": [
    {
     "data": {
      "text/html": [
       "<div>\n",
       "<style scoped>\n",
       "    .dataframe tbody tr th:only-of-type {\n",
       "        vertical-align: middle;\n",
       "    }\n",
       "\n",
       "    .dataframe tbody tr th {\n",
       "        vertical-align: top;\n",
       "    }\n",
       "\n",
       "    .dataframe thead th {\n",
       "        text-align: right;\n",
       "    }\n",
       "</style>\n",
       "<table border=\"1\" class=\"dataframe\">\n",
       "  <thead>\n",
       "    <tr style=\"text-align: right;\">\n",
       "      <th></th>\n",
       "      <th>Uno</th>\n",
       "      <th>dos</th>\n",
       "    </tr>\n",
       "  </thead>\n",
       "  <tbody>\n",
       "    <tr>\n",
       "      <th>a</th>\n",
       "      <td>NaN</td>\n",
       "      <td>NaN</td>\n",
       "    </tr>\n",
       "    <tr>\n",
       "      <th>B</th>\n",
       "      <td>NaN</td>\n",
       "      <td>NaN</td>\n",
       "    </tr>\n",
       "  </tbody>\n",
       "</table>\n",
       "</div>"
      ],
      "text/plain": [
       "   Uno  dos\n",
       "a  NaN  NaN\n",
       "B  NaN  NaN"
      ]
     },
     "execution_count": 63,
     "metadata": {},
     "output_type": "execute_result"
    }
   ],
   "source": [
    "df"
   ]
  },
  {
   "cell_type": "markdown",
   "metadata": {
    "id": "hYH1Zvnb017E"
   },
   "source": [
    "# Formas de crear data Frames\n",
    "\n",
    "\n",
    "## A partir de listas"
   ]
  },
  {
   "cell_type": "code",
   "execution_count": 67,
   "metadata": {
    "id": "tlWwBd9J017E"
   },
   "outputs": [
    {
     "data": {
      "text/html": [
       "<div>\n",
       "<style scoped>\n",
       "    .dataframe tbody tr th:only-of-type {\n",
       "        vertical-align: middle;\n",
       "    }\n",
       "\n",
       "    .dataframe tbody tr th {\n",
       "        vertical-align: top;\n",
       "    }\n",
       "\n",
       "    .dataframe thead th {\n",
       "        text-align: right;\n",
       "    }\n",
       "</style>\n",
       "<table border=\"1\" class=\"dataframe\">\n",
       "  <thead>\n",
       "    <tr style=\"text-align: right;\">\n",
       "      <th></th>\n",
       "      <th>Numeros</th>\n",
       "    </tr>\n",
       "  </thead>\n",
       "  <tbody>\n",
       "    <tr>\n",
       "      <th>0</th>\n",
       "      <td>10</td>\n",
       "    </tr>\n",
       "    <tr>\n",
       "      <th>1</th>\n",
       "      <td>20</td>\n",
       "    </tr>\n",
       "    <tr>\n",
       "      <th>2</th>\n",
       "      <td>30</td>\n",
       "    </tr>\n",
       "    <tr>\n",
       "      <th>3</th>\n",
       "      <td>40</td>\n",
       "    </tr>\n",
       "    <tr>\n",
       "      <th>4</th>\n",
       "      <td>50</td>\n",
       "    </tr>\n",
       "    <tr>\n",
       "      <th>5</th>\n",
       "      <td>60</td>\n",
       "    </tr>\n",
       "  </tbody>\n",
       "</table>\n",
       "</div>"
      ],
      "text/plain": [
       "   Numeros\n",
       "0       10\n",
       "1       20\n",
       "2       30\n",
       "3       40\n",
       "4       50\n",
       "5       60"
      ]
     },
     "execution_count": 67,
     "metadata": {},
     "output_type": "execute_result"
    }
   ],
   "source": [
    "# Primero se crea la lista de datos a usar.\n",
    "data = [10,20,30,40,50,60]\n",
    "  \n",
    "# Se crea la base de datos usando el nombre Numeros para la columna.\n",
    "df = pd.DataFrame(data, columns=['Numeros'])\n",
    "  \n",
    "# Se imprime \n",
    "df"
   ]
  },
  {
   "cell_type": "code",
   "execution_count": 68,
   "metadata": {
    "id": "Ag4PGLGm017F"
   },
   "outputs": [
    {
     "data": {
      "text/plain": [
       "pandas.core.frame.DataFrame"
      ]
     },
     "execution_count": 68,
     "metadata": {},
     "output_type": "execute_result"
    }
   ],
   "source": [
    "type(df)"
   ]
  },
  {
   "cell_type": "markdown",
   "metadata": {
    "id": "2hyIwaSF017F"
   },
   "source": [
    "## A partir de listas de listas\n"
   ]
  },
  {
   "cell_type": "code",
   "execution_count": 70,
   "metadata": {
    "id": "opsc6Ma_017F"
   },
   "outputs": [
    {
     "data": {
      "text/html": [
       "<div>\n",
       "<style scoped>\n",
       "    .dataframe tbody tr th:only-of-type {\n",
       "        vertical-align: middle;\n",
       "    }\n",
       "\n",
       "    .dataframe tbody tr th {\n",
       "        vertical-align: top;\n",
       "    }\n",
       "\n",
       "    .dataframe thead th {\n",
       "        text-align: right;\n",
       "    }\n",
       "</style>\n",
       "<table border=\"1\" class=\"dataframe\">\n",
       "  <thead>\n",
       "    <tr style=\"text-align: right;\">\n",
       "      <th></th>\n",
       "      <th>Nombre</th>\n",
       "      <th>Edad</th>\n",
       "    </tr>\n",
       "  </thead>\n",
       "  <tbody>\n",
       "    <tr>\n",
       "      <th>Estudiante1</th>\n",
       "      <td>juan</td>\n",
       "      <td>10</td>\n",
       "    </tr>\n",
       "    <tr>\n",
       "      <th>Estudiante2</th>\n",
       "      <td>pepe</td>\n",
       "      <td>15</td>\n",
       "    </tr>\n",
       "    <tr>\n",
       "      <th>Estudiante3</th>\n",
       "      <td>julia</td>\n",
       "      <td>14</td>\n",
       "    </tr>\n",
       "  </tbody>\n",
       "</table>\n",
       "</div>"
      ],
      "text/plain": [
       "            Nombre  Edad\n",
       "Estudiante1   juan    10\n",
       "Estudiante2   pepe    15\n",
       "Estudiante3  julia    14"
      ]
     },
     "execution_count": 70,
     "metadata": {},
     "output_type": "execute_result"
    }
   ],
   "source": [
    "# Primero se crea la lista de listas, cada elemento corresponde al par del nombre y edad de una persona.\n",
    "data = [['juan', 10], ['pepe', 15], ['julia', 14]]\n",
    "  \n",
    "# Luego creamos la base de datos \n",
    "df = pd.DataFrame(data,columns=[\"Nombre\",\"Edad\"],index=[\"Estudiante1\",\"Estudiante2\",\"Estudiante3\"])\n",
    "\n",
    "# Se imprime\n",
    "df"
   ]
  },
  {
   "cell_type": "markdown",
   "metadata": {
    "id": "K7EoDjRh017F"
   },
   "source": [
    "# A partir de diccionarios \n",
    "Se puede crear una Data Frame a partir de uno o varios diccionarios. Para hacerlo a partir de uno simplemente lo convertimos a lista y posteriormente a dataframe, para construirlo a partir de varios unimos los diccionarios en una lista"
   ]
  },
  {
   "cell_type": "code",
   "execution_count": 73,
   "metadata": {
    "id": "4tSaPba9017F"
   },
   "outputs": [
    {
     "data": {
      "text/html": [
       "<div>\n",
       "<style scoped>\n",
       "    .dataframe tbody tr th:only-of-type {\n",
       "        vertical-align: middle;\n",
       "    }\n",
       "\n",
       "    .dataframe tbody tr th {\n",
       "        vertical-align: top;\n",
       "    }\n",
       "\n",
       "    .dataframe thead th {\n",
       "        text-align: right;\n",
       "    }\n",
       "</style>\n",
       "<table border=\"1\" class=\"dataframe\">\n",
       "  <thead>\n",
       "    <tr style=\"text-align: right;\">\n",
       "      <th></th>\n",
       "      <th>Nombre</th>\n",
       "      <th>Edad</th>\n",
       "    </tr>\n",
       "  </thead>\n",
       "  <tbody>\n",
       "    <tr>\n",
       "      <th>0</th>\n",
       "      <td>juan</td>\n",
       "      <td>20</td>\n",
       "    </tr>\n",
       "  </tbody>\n",
       "</table>\n",
       "</div>"
      ],
      "text/plain": [
       "  Nombre  Edad\n",
       "0   juan    20"
      ]
     },
     "execution_count": 73,
     "metadata": {},
     "output_type": "execute_result"
    }
   ],
   "source": [
    "# Creamos el diccionario\n",
    "data_1 = {'Nombre': 'juan','Edad':20}\n",
    "lista = []\n",
    "lista.append(data_1)\n",
    "# Hacemos la base de datos a partir de un diccionario \n",
    "df = pd.DataFrame(lista)\n",
    "  \n",
    "# Imprimimos\n",
    "df"
   ]
  },
  {
   "cell_type": "code",
   "execution_count": 76,
   "metadata": {
    "id": "Bku-6XsY017F"
   },
   "outputs": [
    {
     "data": {
      "text/html": [
       "<div>\n",
       "<style scoped>\n",
       "    .dataframe tbody tr th:only-of-type {\n",
       "        vertical-align: middle;\n",
       "    }\n",
       "\n",
       "    .dataframe tbody tr th {\n",
       "        vertical-align: top;\n",
       "    }\n",
       "\n",
       "    .dataframe thead th {\n",
       "        text-align: right;\n",
       "    }\n",
       "</style>\n",
       "<table border=\"1\" class=\"dataframe\">\n",
       "  <thead>\n",
       "    <tr style=\"text-align: right;\">\n",
       "      <th></th>\n",
       "      <th>Nombre</th>\n",
       "      <th>Edad</th>\n",
       "    </tr>\n",
       "  </thead>\n",
       "  <tbody>\n",
       "    <tr>\n",
       "      <th>0</th>\n",
       "      <td>juan</td>\n",
       "      <td>20</td>\n",
       "    </tr>\n",
       "    <tr>\n",
       "      <th>1</th>\n",
       "      <td>pepe</td>\n",
       "      <td>25</td>\n",
       "    </tr>\n",
       "    <tr>\n",
       "      <th>2</th>\n",
       "      <td>pepe</td>\n",
       "      <td>25</td>\n",
       "    </tr>\n",
       "  </tbody>\n",
       "</table>\n",
       "</div>"
      ],
      "text/plain": [
       "  Nombre  Edad\n",
       "0   juan    20\n",
       "1   pepe    25\n",
       "2   pepe    25"
      ]
     },
     "execution_count": 76,
     "metadata": {},
     "output_type": "execute_result"
    }
   ],
   "source": [
    "# Creamos el segundo diccionario\n",
    "data_2 = {'Nombre': 'pepe','Edad': 25}\n",
    "\n",
    "# Agregamos el nuevo diccionario a lista creada anteriormente\n",
    "lista.append(data_2)\n",
    "\n",
    "df = pd.DataFrame(lista)\n",
    "df"
   ]
  },
  {
   "cell_type": "code",
   "execution_count": 78,
   "metadata": {
    "id": "g1yjCTzi017F"
   },
   "outputs": [
    {
     "data": {
      "text/html": [
       "<div>\n",
       "<style scoped>\n",
       "    .dataframe tbody tr th:only-of-type {\n",
       "        vertical-align: middle;\n",
       "    }\n",
       "\n",
       "    .dataframe tbody tr th {\n",
       "        vertical-align: top;\n",
       "    }\n",
       "\n",
       "    .dataframe thead th {\n",
       "        text-align: right;\n",
       "    }\n",
       "</style>\n",
       "<table border=\"1\" class=\"dataframe\">\n",
       "  <thead>\n",
       "    <tr style=\"text-align: right;\">\n",
       "      <th></th>\n",
       "      <th>a</th>\n",
       "      <th>b</th>\n",
       "      <th>c</th>\n",
       "    </tr>\n",
       "  </thead>\n",
       "  <tbody>\n",
       "    <tr>\n",
       "      <th>0</th>\n",
       "      <td>1</td>\n",
       "      <td>2</td>\n",
       "      <td>3</td>\n",
       "    </tr>\n",
       "    <tr>\n",
       "      <th>1</th>\n",
       "      <td>10</td>\n",
       "      <td>20</td>\n",
       "      <td>30</td>\n",
       "    </tr>\n",
       "  </tbody>\n",
       "</table>\n",
       "</div>"
      ],
      "text/plain": [
       "    a   b   c\n",
       "0   1   2   3\n",
       "1  10  20  30"
      ]
     },
     "execution_count": 78,
     "metadata": {},
     "output_type": "execute_result"
    }
   ],
   "source": [
    "# Se crea la lista con diccionarios\n",
    "data = [{'a': 1, 'b': 2, 'c': 3},\n",
    "        {'a': 10, 'b': 20, 'c': 30}]\n",
    "  \n",
    "# Se convierte en data frame\n",
    "df = pd.DataFrame(data)\n",
    "\n",
    "# Se imprime\n",
    "df"
   ]
  },
  {
   "cell_type": "code",
   "execution_count": 80,
   "metadata": {},
   "outputs": [
    {
     "data": {
      "text/html": [
       "<div>\n",
       "<style scoped>\n",
       "    .dataframe tbody tr th:only-of-type {\n",
       "        vertical-align: middle;\n",
       "    }\n",
       "\n",
       "    .dataframe tbody tr th {\n",
       "        vertical-align: top;\n",
       "    }\n",
       "\n",
       "    .dataframe thead th {\n",
       "        text-align: right;\n",
       "    }\n",
       "</style>\n",
       "<table border=\"1\" class=\"dataframe\">\n",
       "  <thead>\n",
       "    <tr style=\"text-align: right;\">\n",
       "      <th></th>\n",
       "      <th>a</th>\n",
       "      <th>b</th>\n",
       "      <th>c</th>\n",
       "    </tr>\n",
       "  </thead>\n",
       "  <tbody>\n",
       "    <tr>\n",
       "      <th>0</th>\n",
       "      <td>1</td>\n",
       "      <td>2</td>\n",
       "      <td>3</td>\n",
       "    </tr>\n",
       "  </tbody>\n",
       "</table>\n",
       "</div>"
      ],
      "text/plain": [
       "   a  b  c\n",
       "0  1  2  3"
      ]
     },
     "execution_count": 80,
     "metadata": {},
     "output_type": "execute_result"
    }
   ],
   "source": [
    "# Se crea la lista con diccionarios\n",
    "data = [{'a': 1, 'b': 2, 'c': 3}]\n",
    "  \n",
    "# Se convierte en data frame\n",
    "df = pd.DataFrame(data)\n",
    "\n",
    "# Se imprime\n",
    "df"
   ]
  },
  {
   "cell_type": "markdown",
   "metadata": {
    "id": "evVTQHZe017G"
   },
   "source": [
    "# A partir de diccionarios con listas\n",
    "Para crear una Data Frame de un diccionario de arreglos o listas, todos los arreglos deben ser del mismo tamaño. El indice debe ser del mismo tamaño que los arreglos, si no se declara el indice, se toma el tamaño del areglo, n, y el indice es range(n)."
   ]
  },
  {
   "cell_type": "code",
   "execution_count": 81,
   "metadata": {
    "id": "pF2zLfPg017G"
   },
   "outputs": [
    {
     "data": {
      "text/html": [
       "<div>\n",
       "<style scoped>\n",
       "    .dataframe tbody tr th:only-of-type {\n",
       "        vertical-align: middle;\n",
       "    }\n",
       "\n",
       "    .dataframe tbody tr th {\n",
       "        vertical-align: top;\n",
       "    }\n",
       "\n",
       "    .dataframe thead th {\n",
       "        text-align: right;\n",
       "    }\n",
       "</style>\n",
       "<table border=\"1\" class=\"dataframe\">\n",
       "  <thead>\n",
       "    <tr style=\"text-align: right;\">\n",
       "      <th></th>\n",
       "      <th>Nombre</th>\n",
       "      <th>Edad</th>\n",
       "    </tr>\n",
       "  </thead>\n",
       "  <tbody>\n",
       "    <tr>\n",
       "      <th>0</th>\n",
       "      <td>juan</td>\n",
       "      <td>20</td>\n",
       "    </tr>\n",
       "    <tr>\n",
       "      <th>1</th>\n",
       "      <td>pepe</td>\n",
       "      <td>21</td>\n",
       "    </tr>\n",
       "    <tr>\n",
       "      <th>2</th>\n",
       "      <td>julia</td>\n",
       "      <td>19</td>\n",
       "    </tr>\n",
       "    <tr>\n",
       "      <th>3</th>\n",
       "      <td>ana</td>\n",
       "      <td>18</td>\n",
       "    </tr>\n",
       "  </tbody>\n",
       "</table>\n",
       "</div>"
      ],
      "text/plain": [
       "  Nombre  Edad\n",
       "0   juan    20\n",
       "1   pepe    21\n",
       "2  julia    19\n",
       "3    ana    18"
      ]
     },
     "execution_count": 81,
     "metadata": {},
     "output_type": "execute_result"
    }
   ],
   "source": [
    "# Creamos el diccionario\n",
    "data = {'Nombre': ['juan', 'pepe', 'julia', 'ana'],\n",
    "        'Edad': [20, 21, 19, 18]}\n",
    "\n",
    "# Hacemos la base de datos a partir del diccionario \n",
    "df = pd.DataFrame(data)\n",
    "  \n",
    "# Imprimimos\n",
    "df"
   ]
  },
  {
   "cell_type": "markdown",
   "metadata": {
    "id": "skK5FnDY017G"
   },
   "source": [
    "Adicionalmente se pueden dar las etiquetas o índices explícitamente"
   ]
  },
  {
   "cell_type": "code",
   "execution_count": 82,
   "metadata": {
    "id": "lG9yCWcX017G"
   },
   "outputs": [
    {
     "data": {
      "text/html": [
       "<div>\n",
       "<style scoped>\n",
       "    .dataframe tbody tr th:only-of-type {\n",
       "        vertical-align: middle;\n",
       "    }\n",
       "\n",
       "    .dataframe tbody tr th {\n",
       "        vertical-align: top;\n",
       "    }\n",
       "\n",
       "    .dataframe thead th {\n",
       "        text-align: right;\n",
       "    }\n",
       "</style>\n",
       "<table border=\"1\" class=\"dataframe\">\n",
       "  <thead>\n",
       "    <tr style=\"text-align: right;\">\n",
       "      <th></th>\n",
       "      <th>Nombre</th>\n",
       "      <th>Calificacion</th>\n",
       "    </tr>\n",
       "  </thead>\n",
       "  <tbody>\n",
       "    <tr>\n",
       "      <th>Estudiante  1</th>\n",
       "      <td>juan</td>\n",
       "      <td>99</td>\n",
       "    </tr>\n",
       "    <tr>\n",
       "      <th>Estudiante  2</th>\n",
       "      <td>pepe</td>\n",
       "      <td>98</td>\n",
       "    </tr>\n",
       "    <tr>\n",
       "      <th>Estudiante  3</th>\n",
       "      <td>julia</td>\n",
       "      <td>95</td>\n",
       "    </tr>\n",
       "    <tr>\n",
       "      <th>Estudiante  4</th>\n",
       "      <td>ana</td>\n",
       "      <td>90</td>\n",
       "    </tr>\n",
       "  </tbody>\n",
       "</table>\n",
       "</div>"
      ],
      "text/plain": [
       "              Nombre  Calificacion\n",
       "Estudiante  1   juan            99\n",
       "Estudiante  2   pepe            98\n",
       "Estudiante  3  julia            95\n",
       "Estudiante  4    ana            90"
      ]
     },
     "execution_count": 82,
     "metadata": {},
     "output_type": "execute_result"
    }
   ],
   "source": [
    "# Se crea el diccionario\n",
    "data = {'Nombre': ['juan', 'pepe', 'julia', 'ana'],\n",
    "        'Calificacion': [99, 98, 95, 90]}\n",
    "\n",
    "# Se convierte en dataframe y se específica el índice\n",
    "df = pd.DataFrame(data, index=['Estudiante  1','Estudiante  2','Estudiante  3','Estudiante  4'])\n",
    "  \n",
    "# Se imprime    \n",
    "df"
   ]
  },
  {
   "cell_type": "markdown",
   "metadata": {
    "id": "sDYWQt2x017G"
   },
   "source": [
    "También se puede agregar el nombre de las columnas"
   ]
  },
  {
   "cell_type": "code",
   "execution_count": 91,
   "metadata": {
    "id": "t3KLyVli017G"
   },
   "outputs": [
    {
     "data": {
      "text/html": [
       "<div>\n",
       "<style scoped>\n",
       "    .dataframe tbody tr th:only-of-type {\n",
       "        vertical-align: middle;\n",
       "    }\n",
       "\n",
       "    .dataframe tbody tr th {\n",
       "        vertical-align: top;\n",
       "    }\n",
       "\n",
       "    .dataframe thead th {\n",
       "        text-align: right;\n",
       "    }\n",
       "</style>\n",
       "<table border=\"1\" class=\"dataframe\">\n",
       "  <thead>\n",
       "    <tr style=\"text-align: right;\">\n",
       "      <th></th>\n",
       "      <th>Nombre</th>\n",
       "      <th>Edad</th>\n",
       "    </tr>\n",
       "  </thead>\n",
       "  <tbody>\n",
       "    <tr>\n",
       "      <th>Estudiante 1</th>\n",
       "      <td>juan</td>\n",
       "      <td>10</td>\n",
       "    </tr>\n",
       "    <tr>\n",
       "      <th>Estudiante 2</th>\n",
       "      <td>pepe</td>\n",
       "      <td>15</td>\n",
       "    </tr>\n",
       "    <tr>\n",
       "      <th>Estudiante 3</th>\n",
       "      <td>julia</td>\n",
       "      <td>14</td>\n",
       "    </tr>\n",
       "  </tbody>\n",
       "</table>\n",
       "</div>"
      ],
      "text/plain": [
       "             Nombre  Edad\n",
       "Estudiante 1   juan    10\n",
       "Estudiante 2   pepe    15\n",
       "Estudiante 3  julia    14"
      ]
     },
     "execution_count": 91,
     "metadata": {},
     "output_type": "execute_result"
    }
   ],
   "source": [
    "# Primero se crea la lista de listas, cada elemento corresponde al par del nombre y edad de una persona.\n",
    "data = [['juan', 10], ['pepe', 15], ['julia', 14]]\n",
    "  \n",
    "# Luego creamos la base de datos y nombramos las columnas como Nombre y Edad\n",
    "df = pd.DataFrame(data, columns=['Nombre', 'Edad'], index=['Estudiante 1','Estudiante 2','Estudiante 3'])\n",
    "\n",
    "# Se imprime\n",
    "df"
   ]
  },
  {
   "cell_type": "code",
   "execution_count": 95,
   "metadata": {},
   "outputs": [
    {
     "data": {
      "text/plain": [
       "Nombre    juan\n",
       "Edad        10\n",
       "Name: Estudiante 1, dtype: object"
      ]
     },
     "execution_count": 95,
     "metadata": {},
     "output_type": "execute_result"
    }
   ],
   "source": [
    "df.iloc[0]"
   ]
  },
  {
   "cell_type": "code",
   "execution_count": 97,
   "metadata": {},
   "outputs": [
    {
     "data": {
      "text/plain": [
       "'pepe'"
      ]
     },
     "execution_count": 97,
     "metadata": {},
     "output_type": "execute_result"
    }
   ],
   "source": [
    "df.Nombre.iloc[1]"
   ]
  },
  {
   "cell_type": "markdown",
   "metadata": {},
   "source": [
    "**Ejercicio** Una universidad desea organizar la información de sus estudiantes de nuevo ingreso en un DataFrame para facilitar su análisis. Se tiene la siguiente información de 4 estudiantes:\n",
    "\n",
    "| Nombre  | Edad | Carrera      | Promedio |\n",
    "|---------|------|--------------|----------|\n",
    "| Ana     | 23   | Física       | 8.9      |\n",
    "| Luis    | 21   | Matemáticas  | 9.1      |\n",
    "| Marta   | 22   | Biología     | 8.4      |\n",
    "| Carlos  | 24   | Química      | 8.7\n",
    "\n",
    "1. **Crea un DataFrame** utilizando `pandas` que contenga la información de los estudiantes mostrada en la tabla.\n",
    "2. **Define una clase** llamada `Estudiante` que contenga como atributos:\n",
    "   - `nombre`\n",
    "   - `edad`\n",
    "   - `carrera`\n",
    "   - `promedio`      |"
   ]
  },
  {
   "cell_type": "code",
   "execution_count": 101,
   "metadata": {},
   "outputs": [
    {
     "data": {
      "text/html": [
       "<div>\n",
       "<style scoped>\n",
       "    .dataframe tbody tr th:only-of-type {\n",
       "        vertical-align: middle;\n",
       "    }\n",
       "\n",
       "    .dataframe tbody tr th {\n",
       "        vertical-align: top;\n",
       "    }\n",
       "\n",
       "    .dataframe thead th {\n",
       "        text-align: right;\n",
       "    }\n",
       "</style>\n",
       "<table border=\"1\" class=\"dataframe\">\n",
       "  <thead>\n",
       "    <tr style=\"text-align: right;\">\n",
       "      <th></th>\n",
       "      <th>Nombre</th>\n",
       "      <th>Edad</th>\n",
       "      <th>Carrera</th>\n",
       "      <th>Promedio</th>\n",
       "    </tr>\n",
       "  </thead>\n",
       "  <tbody>\n",
       "    <tr>\n",
       "      <th>0</th>\n",
       "      <td>Ana</td>\n",
       "      <td>23</td>\n",
       "      <td>Física</td>\n",
       "      <td>8.9</td>\n",
       "    </tr>\n",
       "    <tr>\n",
       "      <th>1</th>\n",
       "      <td>Luis</td>\n",
       "      <td>21</td>\n",
       "      <td>Matemáticas</td>\n",
       "      <td>9.1</td>\n",
       "    </tr>\n",
       "    <tr>\n",
       "      <th>2</th>\n",
       "      <td>Marta</td>\n",
       "      <td>22</td>\n",
       "      <td>Biología</td>\n",
       "      <td>8.4</td>\n",
       "    </tr>\n",
       "    <tr>\n",
       "      <th>3</th>\n",
       "      <td>Carlos</td>\n",
       "      <td>24</td>\n",
       "      <td>Química</td>\n",
       "      <td>8.7</td>\n",
       "    </tr>\n",
       "  </tbody>\n",
       "</table>\n",
       "</div>"
      ],
      "text/plain": [
       "   Nombre  Edad      Carrera  Promedio\n",
       "0     Ana    23       Física       8.9\n",
       "1    Luis    21  Matemáticas       9.1\n",
       "2   Marta    22     Biología       8.4\n",
       "3  Carlos    24      Química       8.7"
      ]
     },
     "execution_count": 101,
     "metadata": {},
     "output_type": "execute_result"
    }
   ],
   "source": [
    "#%%  Crear el DataFrame con pandas\n",
    "import pandas as pd\n",
    "\n",
    "# Datos de los estudiantes\n",
    "data = {\n",
    "    \"Nombre\": [\"Ana\", \"Luis\", \"Marta\", \"Carlos\"],\n",
    "    \"Edad\": [23, 21, 22, 24],\n",
    "    \"Carrera\": [\"Física\", \"Matemáticas\", \"Biología\", \"Química\"],\n",
    "    \"Promedio\": [8.9, 9.1, 8.4, 8.7]\n",
    "}\n",
    "\n",
    "# Crear DataFrame\n",
    "df_estudiantes = pd.DataFrame(data)\n",
    "df_estudiantes\n"
   ]
  },
  {
   "attachments": {
    "image.png": {
     "image/png": "[encoded data removed]"
    }
   },
   "cell_type": "markdown",
   "metadata": {},
   "source": [
    "![image.png](attachment:image.png)"
   ]
  },
  {
   "cell_type": "code",
   "execution_count": 103,
   "metadata": {},
   "outputs": [
    {
     "name": "stdout",
     "output_type": "stream",
     "text": [
      "    nombre  edad      Depto  Salario\n",
      "0     Luis    33  amueblado  30000.0\n",
      "1  Roberto    73  indigente      0.0\n",
      "2     Hugo    25        NaN      NaN\n"
     ]
    }
   ],
   "source": [
    "df = {\n",
    "    'nombre': ['Luis', 'Roberto', 'Hugo'],\n",
    "    'edad': [33, 73,25],\n",
    "    'Depto': ['amueblado', 'indigente', np.nan],\n",
    "    'Salario' : [30000, 0, np.nan]\n",
    "}\n",
    "df_empleado = pd.DataFrame(df)\n",
    "print(df_empleado)"
   ]
  },
  {
   "cell_type": "markdown",
   "metadata": {},
   "source": [
    "## Guardar DataFrames\n",
    "\n",
    "Para guardar los dataframes se puede usar las siguientes instrucciones:\n",
    "\n",
    "```\n",
    "df.to_csv('df.csv')\n",
    "df.to_excel(\"df.xlsx\")\n",
    "df.to_csv(r'Datos.txt', header=None, index=None, sep='\\t', mode='a')\n",
    "```\n"
   ]
  },
  {
   "cell_type": "code",
   "execution_count": 116,
   "metadata": {},
   "outputs": [
    {
     "data": {
      "text/plain": [
       "{'nombre': ['Luis', 'Roberto', 'Hugo'],\n",
       " 'edad': [33, 73, 25],\n",
       " 'Depto': ['amueblado', 'indigente', nan],\n",
       " 'Salario': [30000, 0, nan]}"
      ]
     },
     "execution_count": 116,
     "metadata": {},
     "output_type": "execute_result"
    }
   ],
   "source": [
    "df\n"
   ]
  },
  {
   "cell_type": "code",
   "execution_count": 117,
   "metadata": {
    "id": "M439FnC6KeTV"
   },
   "outputs": [],
   "source": [
    "import pandas as pd\n",
    "df_empleado.to_csv('/home/fcisnerosr/github/python_curso_IMP/df_prueba1.csv', index = False)"
   ]
  },
  {
   "cell_type": "code",
   "execution_count": 118,
   "metadata": {
    "id": "pEMh38b3017V"
   },
   "outputs": [],
   "source": [
    "df_empleado.to_csv('/home/fcisnerosr/github/python_curso_IMP/df_prueba2.csv',header=None)"
   ]
  },
  {
   "cell_type": "code",
   "execution_count": 119,
   "metadata": {
    "id": "lbnMwGz9017V"
   },
   "outputs": [
    {
     "ename": "ModuleNotFoundError",
     "evalue": "No module named 'openpyxl'",
     "output_type": "error",
     "traceback": [
      "\u001b[31m---------------------------------------------------------------------------\u001b[39m",
      "\u001b[31mModuleNotFoundError\u001b[39m                       Traceback (most recent call last)",
      "\u001b[36mCell\u001b[39m\u001b[36m \u001b[39m\u001b[32mIn[119]\u001b[39m\u001b[32m, line 1\u001b[39m\n\u001b[32m----> \u001b[39m\u001b[32m1\u001b[39m df_empleado.to_excel(\u001b[33m'\u001b[39m\u001b[33m/home/fcisnerosr/github/python_curso_IMP/df_prueba_xls.xlsx\u001b[39m\u001b[33m'\u001b[39m)\n",
      "\u001b[36mFile \u001b[39m\u001b[32m~/miniforge3/envs/python_curso_IMP/lib/python3.12/site-packages/pandas/util/_decorators.py:333\u001b[39m, in \u001b[36mdeprecate_nonkeyword_arguments.<locals>.decorate.<locals>.wrapper\u001b[39m\u001b[34m(*args, **kwargs)\u001b[39m\n\u001b[32m    327\u001b[39m \u001b[38;5;28;01mif\u001b[39;00m \u001b[38;5;28mlen\u001b[39m(args) > num_allow_args:\n\u001b[32m    328\u001b[39m     warnings.warn(\n\u001b[32m    329\u001b[39m         msg.format(arguments=_format_argument_list(allow_args)),\n\u001b[32m    330\u001b[39m         \u001b[38;5;167;01mFutureWarning\u001b[39;00m,\n\u001b[32m    331\u001b[39m         stacklevel=find_stack_level(),\n\u001b[32m    332\u001b[39m     )\n\u001b[32m--> \u001b[39m\u001b[32m333\u001b[39m \u001b[38;5;28;01mreturn\u001b[39;00m func(*args, **kwargs)\n",
      "\u001b[36mFile \u001b[39m\u001b[32m~/miniforge3/envs/python_curso_IMP/lib/python3.12/site-packages/pandas/core/generic.py:2417\u001b[39m, in \u001b[36mNDFrame.to_excel\u001b[39m\u001b[34m(self, excel_writer, sheet_name, na_rep, float_format, columns, header, index, index_label, startrow, startcol, engine, merge_cells, inf_rep, freeze_panes, storage_options, engine_kwargs)\u001b[39m\n\u001b[32m   2404\u001b[39m \u001b[38;5;28;01mfrom\u001b[39;00m\u001b[38;5;250m \u001b[39m\u001b[34;01mpandas\u001b[39;00m\u001b[34;01m.\u001b[39;00m\u001b[34;01mio\u001b[39;00m\u001b[34;01m.\u001b[39;00m\u001b[34;01mformats\u001b[39;00m\u001b[34;01m.\u001b[39;00m\u001b[34;01mexcel\u001b[39;00m\u001b[38;5;250m \u001b[39m\u001b[38;5;28;01mimport\u001b[39;00m ExcelFormatter\n\u001b[32m   2406\u001b[39m formatter = ExcelFormatter(\n\u001b[32m   2407\u001b[39m     df,\n\u001b[32m   2408\u001b[39m     na_rep=na_rep,\n\u001b[32m   (...)\u001b[39m\u001b[32m   2415\u001b[39m     inf_rep=inf_rep,\n\u001b[32m   2416\u001b[39m )\n\u001b[32m-> \u001b[39m\u001b[32m2417\u001b[39m formatter.write(\n\u001b[32m   2418\u001b[39m     excel_writer,\n\u001b[32m   2419\u001b[39m     sheet_name=sheet_name,\n\u001b[32m   2420\u001b[39m     startrow=startrow,\n\u001b[32m   2421\u001b[39m     startcol=startcol,\n\u001b[32m   2422\u001b[39m     freeze_panes=freeze_panes,\n\u001b[32m   2423\u001b[39m     engine=engine,\n\u001b[32m   2424\u001b[39m     storage_options=storage_options,\n\u001b[32m   2425\u001b[39m     engine_kwargs=engine_kwargs,\n\u001b[32m   2426\u001b[39m )\n",
      "\u001b[36mFile \u001b[39m\u001b[32m~/miniforge3/envs/python_curso_IMP/lib/python3.12/site-packages/pandas/io/formats/excel.py:943\u001b[39m, in \u001b[36mExcelFormatter.write\u001b[39m\u001b[34m(self, writer, sheet_name, startrow, startcol, freeze_panes, engine, storage_options, engine_kwargs)\u001b[39m\n\u001b[32m    941\u001b[39m     need_save = \u001b[38;5;28;01mFalse\u001b[39;00m\n\u001b[32m    942\u001b[39m \u001b[38;5;28;01melse\u001b[39;00m:\n\u001b[32m--> \u001b[39m\u001b[32m943\u001b[39m     writer = ExcelWriter(\n\u001b[32m    944\u001b[39m         writer,\n\u001b[32m    945\u001b[39m         engine=engine,\n\u001b[32m    946\u001b[39m         storage_options=storage_options,\n\u001b[32m    947\u001b[39m         engine_kwargs=engine_kwargs,\n\u001b[32m    948\u001b[39m     )\n\u001b[32m    949\u001b[39m     need_save = \u001b[38;5;28;01mTrue\u001b[39;00m\n\u001b[32m    951\u001b[39m \u001b[38;5;28;01mtry\u001b[39;00m:\n",
      "\u001b[36mFile \u001b[39m\u001b[32m~/miniforge3/envs/python_curso_IMP/lib/python3.12/site-packages/pandas/io/excel/_openpyxl.py:57\u001b[39m, in \u001b[36mOpenpyxlWriter.__init__\u001b[39m\u001b[34m(self, path, engine, date_format, datetime_format, mode, storage_options, if_sheet_exists, engine_kwargs, **kwargs)\u001b[39m\n\u001b[32m     44\u001b[39m \u001b[38;5;28;01mdef\u001b[39;00m\u001b[38;5;250m \u001b[39m\u001b[34m__init__\u001b[39m(\n\u001b[32m     45\u001b[39m     \u001b[38;5;28mself\u001b[39m,\n\u001b[32m     46\u001b[39m     path: FilePath | WriteExcelBuffer | ExcelWriter,\n\u001b[32m   (...)\u001b[39m\u001b[32m     55\u001b[39m ) -> \u001b[38;5;28;01mNone\u001b[39;00m:\n\u001b[32m     56\u001b[39m     \u001b[38;5;66;03m# Use the openpyxl module as the Excel writer.\u001b[39;00m\n\u001b[32m---> \u001b[39m\u001b[32m57\u001b[39m     \u001b[38;5;28;01mfrom\u001b[39;00m\u001b[38;5;250m \u001b[39m\u001b[34;01mopenpyxl\u001b[39;00m\u001b[34;01m.\u001b[39;00m\u001b[34;01mworkbook\u001b[39;00m\u001b[38;5;250m \u001b[39m\u001b[38;5;28;01mimport\u001b[39;00m Workbook\n\u001b[32m     59\u001b[39m     engine_kwargs = combine_kwargs(engine_kwargs, kwargs)\n\u001b[32m     61\u001b[39m     \u001b[38;5;28msuper\u001b[39m().\u001b[34m__init__\u001b[39m(\n\u001b[32m     62\u001b[39m         path,\n\u001b[32m     63\u001b[39m         mode=mode,\n\u001b[32m   (...)\u001b[39m\u001b[32m     66\u001b[39m         engine_kwargs=engine_kwargs,\n\u001b[32m     67\u001b[39m     )\n",
      "\u001b[31mModuleNotFoundError\u001b[39m: No module named 'openpyxl'"
     ]
    }
   ],
   "source": [
    "df_empleado.to_excel('/home/fcisnerosr/github/python_curso_IMP/df_prueba_xls.xlsx')"
   ]
  },
  {
   "cell_type": "code",
   "execution_count": null,
   "metadata": {
    "id": "INt_9wQ8017V"
   },
   "outputs": [],
   "source": [
    "df_empleado.to_excel('df_prueba_xls.xlsx',sheet_name='Datos')"
   ]
  },
  {
   "cell_type": "code",
   "execution_count": null,
   "metadata": {
    "id": "b-eNmZaV017V"
   },
   "outputs": [],
   "source": [
    "df_empleado.to_csv(r'Datos_1.txt', sep=',', mode='w')"
   ]
  },
  {
   "cell_type": "code",
   "execution_count": null,
   "metadata": {
    "id": "JZw88jnx017V"
   },
   "outputs": [],
   "source": [
    "df_empleado.to_csv(r'Datos.txt', header=None, index=None, sep='\\t', mode='w')"
   ]
  },
  {
   "cell_type": "markdown",
   "metadata": {
    "id": "NQCR818w017V"
   },
   "source": [
    "## Leer DataFrames\n",
    "\n",
    "Para leer los dataframes se puede usar la siguiente instrucción:\n",
    "\n",
    "```\n",
    "df = pd.read_csv('df.csv')\n",
    "```\n",
    "\n",
    "Un análisis de los tiempos de lectura se puede encontrar en esta [liga][]\n",
    "\n",
    "[liga]:https://pythonspeed.com/articles/pandas-read-csv-fast/"
   ]
  },
  {
   "cell_type": "code",
   "execution_count": null,
   "metadata": {
    "id": "bXLKGiyL017V"
   },
   "outputs": [],
   "source": [
    "df_read = pd.read_csv('df_prueba1.csv')\n",
    "df_read"
   ]
  },
  {
   "cell_type": "code",
   "execution_count": null,
   "metadata": {
    "id": "fnTgPMib017V"
   },
   "outputs": [],
   "source": [
    "df_read = pd.read_csv('df_prueba1.csv')\n",
    "df_read"
   ]
  },
  {
   "cell_type": "code",
   "execution_count": null,
   "metadata": {
    "id": "qs-CScs1017W"
   },
   "outputs": [],
   "source": [
    "df_read = pd.read_csv('df_prueba1.csv', index_col=2)\n",
    "df_read"
   ]
  },
  {
   "cell_type": "code",
   "execution_count": null,
   "metadata": {
    "id": "a_gp_W5Y017W"
   },
   "outputs": [],
   "source": [
    "df_read = pd.read_excel('df_prueba_xls.xlsx', index_col=2)\n",
    "df_read"
   ]
  },
  {
   "cell_type": "code",
   "execution_count": null,
   "metadata": {
    "id": "AYU2g8rB017W"
   },
   "outputs": [],
   "source": [
    "df_read = pd.read_csv('Datos_1.txt', sep=\",\",index_col=0)\n",
    "df_read\n"
   ]
  },
  {
   "cell_type": "code",
   "execution_count": null,
   "metadata": {
    "id": "RtWTHS8O017W"
   },
   "outputs": [],
   "source": [
    "df_read = pd.read_csv('Datos.txt', sep=\"\\t\", header=None)\n",
    "df_read\n"
   ]
  },
  {
   "cell_type": "code",
   "execution_count": null,
   "metadata": {
    "id": "j9FwsviI017W"
   },
   "outputs": [],
   "source": [
    "df_read.iloc[0]"
   ]
  },
  {
   "cell_type": "code",
   "execution_count": null,
   "metadata": {
    "id": "qdUq1keV017W"
   },
   "outputs": [],
   "source": [
    "df_read.iloc[0][0]"
   ]
  },
  {
   "cell_type": "markdown",
   "metadata": {},
   "source": [
    "# Analisis de datos con pandas\n"
   ]
  },
  {
   "cell_type": "code",
   "execution_count": 19,
   "metadata": {},
   "outputs": [
    {
     "data": {
      "text/html": [
       "<div>\n",
       "<style scoped>\n",
       "    .dataframe tbody tr th:only-of-type {\n",
       "        vertical-align: middle;\n",
       "    }\n",
       "\n",
       "    .dataframe tbody tr th {\n",
       "        vertical-align: top;\n",
       "    }\n",
       "\n",
       "    .dataframe thead th {\n",
       "        text-align: right;\n",
       "    }\n",
       "</style>\n",
       "<table border=\"1\" class=\"dataframe\">\n",
       "  <thead>\n",
       "    <tr style=\"text-align: right;\">\n",
       "      <th></th>\n",
       "      <th>Nombre</th>\n",
       "      <th>Edad</th>\n",
       "      <th>Carrera</th>\n",
       "      <th>Promedio</th>\n",
       "    </tr>\n",
       "  </thead>\n",
       "  <tbody>\n",
       "    <tr>\n",
       "      <th>0</th>\n",
       "      <td>Ana</td>\n",
       "      <td>23</td>\n",
       "      <td>Física</td>\n",
       "      <td>8.9</td>\n",
       "    </tr>\n",
       "    <tr>\n",
       "      <th>1</th>\n",
       "      <td>Luis</td>\n",
       "      <td>21</td>\n",
       "      <td>Matemáticas</td>\n",
       "      <td>9.1</td>\n",
       "    </tr>\n",
       "    <tr>\n",
       "      <th>2</th>\n",
       "      <td>Marta</td>\n",
       "      <td>22</td>\n",
       "      <td>Biología</td>\n",
       "      <td>7.4</td>\n",
       "    </tr>\n",
       "    <tr>\n",
       "      <th>3</th>\n",
       "      <td>Carlos</td>\n",
       "      <td>24</td>\n",
       "      <td>Química</td>\n",
       "      <td>8.7</td>\n",
       "    </tr>\n",
       "  </tbody>\n",
       "</table>\n",
       "</div>"
      ],
      "text/plain": [
       "   Nombre  Edad      Carrera  Promedio\n",
       "0     Ana    23       Física       8.9\n",
       "1    Luis    21  Matemáticas       9.1\n",
       "2   Marta    22     Biología       7.4\n",
       "3  Carlos    24      Química       8.7"
      ]
     },
     "execution_count": 19,
     "metadata": {},
     "output_type": "execute_result"
    }
   ],
   "source": [
    "#%%  Crear el DataFrame con pandas\n",
    "import pandas as pd\n",
    "\n",
    "# Datos de los estudiantes\n",
    "data = {\n",
    "    \"Nombre\": [\"Ana\", \"Luis\", \"Marta\", \"Carlos\"],\n",
    "    \"Edad\": [23, 21, 22, 24],\n",
    "    \"Carrera\": [\"Física\", \"Matemáticas\", \"Biología\", \"Química\"],\n",
    "    \"Promedio\": [8.9, 9.1, 7.4, 8.7]\n",
    "}\n",
    "\n",
    "# Crear DataFrame\n",
    "df_estudiantes = pd.DataFrame(data)\n",
    "df_estudiantes"
   ]
  },
  {
   "cell_type": "markdown",
   "metadata": {},
   "source": [
    "Como manipular el dateframe;\n",
    "\n",
    "- **`df.columns`**: Muestra los nombres de las columnas, útil para conocer la estructura de los datos.\n",
    "\n",
    "- **`df.head()`** y **`df.tail()`**: Muestran las primeras o últimas filas respectivamente, para tener un vistazo rápido del contenido.\n",
    "\n",
    "- **`df.info()`**: Proporciona información general sobre el DataFrame, como tipos de datos y número de valores no nulos.\n",
    "\n",
    "- **`df.describe()`**: Calcula estadísticas descriptivas (media, desviación estándar, min, max, percentiles) para columnas numéricas.\n",
    "\n",
    "- **Acceder a una columna**: Usando `df[\"columna\"]` se obtiene la serie correspondiente a esa columna.\n",
    "\n",
    "- **Acceder a un elemento específico**: Con `df.loc[fila, columna]` o `df.iloc[fila_posición, columna_posición]` se accede a un dato puntual.\n",
    "\n",
    "- **Filtrar filas por condición**: Se usa una expresión booleana dentro del DataFrame, por ejemplo `df[df[\"Promedio\"] > 8.8]` devuelve filas que cumplen la condición.\n",
    "\n",
    "- **Filtrar con varias condiciones**: Se combinan con operadores `&` (y) o `|` (o), usando paréntesis para agrupar, por ejemplo `df[(cond1) & (cond2)]`.\n",
    "\n",
    "- **Ordenar datos**: Con `df.sort_values(by=\"columna\", ascending=True/False)` se ordenan las filas según una columna.\n",
    "\n",
    "- **Agregar una nueva columna**: Simplemente asignando, por ejemplo `df[\"NuevaColumna\"] = [valores]`.\n",
    "\n",
    "- **Modificar un valor**: Usando `df.loc[fila, columna] = nuevo_valor` se cambia un dato específico.\n"
   ]
  },
  {
   "cell_type": "code",
   "execution_count": 20,
   "metadata": {},
   "outputs": [
    {
     "name": "stdout",
     "output_type": "stream",
     "text": [
      "DataFrame completo:\n",
      "   Nombre  Edad      Carrera  Promedio\n",
      "0     Ana    23       Física       8.9\n",
      "1    Luis    21  Matemáticas       9.1\n",
      "2   Marta    22     Biología       7.4\n",
      "3  Carlos    24      Química       8.7\n"
     ]
    }
   ],
   "source": [
    "\n",
    "print(\"DataFrame completo:\")\n",
    "print(df_estudiantes)\n"
   ]
  },
  {
   "cell_type": "code",
   "execution_count": 21,
   "metadata": {},
   "outputs": [
    {
     "name": "stdout",
     "output_type": "stream",
     "text": [
      "\n",
      "Nombres de columnas:\n",
      "Index(['Nombre', 'Edad', 'Carrera', 'Promedio'], dtype='object')\n"
     ]
    }
   ],
   "source": [
    "print(\"\\nNombres de columnas:\")\n",
    "print(df_estudiantes.columns)"
   ]
  },
  {
   "cell_type": "code",
   "execution_count": 22,
   "metadata": {},
   "outputs": [
    {
     "name": "stdout",
     "output_type": "stream",
     "text": [
      "\n",
      "Primeras filas:\n",
      "   Nombre  Edad      Carrera  Promedio\n",
      "0     Ana    23       Física       8.9\n",
      "1    Luis    21  Matemáticas       9.1\n",
      "2   Marta    22     Biología       7.4\n",
      "3  Carlos    24      Química       8.7\n"
     ]
    }
   ],
   "source": [
    "print(\"\\nPrimeras filas:\")\n",
    "print(df_estudiantes.head())"
   ]
  },
  {
   "cell_type": "code",
   "execution_count": 23,
   "metadata": {},
   "outputs": [
    {
     "name": "stdout",
     "output_type": "stream",
     "text": [
      "\n",
      "Información general:\n",
      "<class 'pandas.core.frame.DataFrame'>\n",
      "RangeIndex: 4 entries, 0 to 3\n",
      "Data columns (total 4 columns):\n",
      " #   Column    Non-Null Count  Dtype  \n",
      "---  ------    --------------  -----  \n",
      " 0   Nombre    4 non-null      object \n",
      " 1   Edad      4 non-null      int64  \n",
      " 2   Carrera   4 non-null      object \n",
      " 3   Promedio  4 non-null      float64\n",
      "dtypes: float64(1), int64(1), object(2)\n",
      "memory usage: 260.0+ bytes\n",
      "None\n"
     ]
    }
   ],
   "source": [
    "print(\"\\nInformación general:\")\n",
    "print(df_estudiantes.info())"
   ]
  },
  {
   "cell_type": "code",
   "execution_count": 24,
   "metadata": {},
   "outputs": [
    {
     "name": "stdout",
     "output_type": "stream",
     "text": [
      "\n",
      "Estadísticas descriptivas:\n",
      "            Edad  Promedio\n",
      "count   4.000000  4.000000\n",
      "mean   22.500000  8.525000\n",
      "std     1.290994  0.767572\n",
      "min    21.000000  7.400000\n",
      "25%    21.750000  8.375000\n",
      "50%    22.500000  8.800000\n",
      "75%    23.250000  8.950000\n",
      "max    24.000000  9.100000\n"
     ]
    }
   ],
   "source": [
    "print(\"\\nEstadísticas descriptivas:\")\n",
    "print(df_estudiantes.describe())\n"
   ]
  },
  {
   "cell_type": "code",
   "execution_count": 25,
   "metadata": {},
   "outputs": [
    {
     "name": "stdout",
     "output_type": "stream",
     "text": [
      "\n",
      "Acceder a la columna 'Nombre':\n",
      "0       Ana\n",
      "1      Luis\n",
      "2     Marta\n",
      "3    Carlos\n",
      "Name: Nombre, dtype: object\n"
     ]
    }
   ],
   "source": [
    "print(\"\\nAcceder a la columna 'Nombre':\")\n",
    "print(df_estudiantes[\"Nombre\"])\n"
   ]
  },
  {
   "cell_type": "code",
   "execution_count": 26,
   "metadata": {},
   "outputs": [
    {
     "name": "stdout",
     "output_type": "stream",
     "text": [
      "\n",
      "Acceder a elemento específico (fila 0, columna 'Nombre'):\n",
      "Ana\n"
     ]
    }
   ],
   "source": [
    "print(\"\\nAcceder a elemento específico (fila 0, columna 'Nombre'):\")\n",
    "print(df_estudiantes.loc[0, \"Nombre\"])\n"
   ]
  },
  {
   "cell_type": "code",
   "execution_count": 27,
   "metadata": {},
   "outputs": [
    {
     "name": "stdout",
     "output_type": "stream",
     "text": [
      "\n",
      "Filtrar estudiantes con promedio > 8.8:\n",
      "  Nombre  Edad      Carrera  Promedio\n",
      "0    Ana    23       Física       8.9\n",
      "1   Luis    21  Matemáticas       9.1\n"
     ]
    }
   ],
   "source": [
    "print(\"\\nFiltrar estudiantes con promedio > 8.8:\")\n",
    "print(df_estudiantes[df_estudiantes[\"Promedio\"] > 8.8])\n"
   ]
  },
  {
   "cell_type": "code",
   "execution_count": 28,
   "metadata": {},
   "outputs": [
    {
     "name": "stdout",
     "output_type": "stream",
     "text": [
      "\n",
      "Filtrar estudiantes con promedio > 8.5 y edad > 22:\n",
      "   Nombre  Edad  Carrera  Promedio\n",
      "0     Ana    23   Física       8.9\n",
      "3  Carlos    24  Química       8.7\n"
     ]
    }
   ],
   "source": [
    "print(\"\\nFiltrar estudiantes con promedio > 8.5 y edad > 22:\")\n",
    "print(df_estudiantes[(df_estudiantes[\"Promedio\"] > 8.5) & (df_estudiantes[\"Edad\"] > 22)])"
   ]
  },
  {
   "cell_type": "code",
   "execution_count": 29,
   "metadata": {},
   "outputs": [
    {
     "name": "stdout",
     "output_type": "stream",
     "text": [
      "\n",
      "Ordenar por promedio descendente:\n",
      "   Nombre  Edad      Carrera  Promedio\n",
      "1    Luis    21  Matemáticas       9.1\n",
      "0     Ana    23       Física       8.9\n",
      "3  Carlos    24      Química       8.7\n",
      "2   Marta    22     Biología       7.4\n"
     ]
    }
   ],
   "source": [
    "print(\"\\nOrdenar por promedio descendente:\")\n",
    "print(df_estudiantes.sort_values(by=\"Promedio\", ascending=False))"
   ]
  },
  {
   "cell_type": "code",
   "execution_count": 33,
   "metadata": {},
   "outputs": [
    {
     "name": "stdout",
     "output_type": "stream",
     "text": [
      "\n",
      "Agregar columna nueva 'Beca':\n",
      "   Nombre  Edad      Carrera  Promedio   Beca\n",
      "0     Ana    24       Física       8.9   True\n",
      "1    Luis    21  Matemáticas       9.1   True\n",
      "2   Marta    22     Biología       7.4  False\n",
      "3  Carlos    24      Química       8.7  False\n"
     ]
    }
   ],
   "source": [
    "print(\"\\nAgregar columna nueva 'Beca':\")\n",
    "df_estudiantes[\"Beca\"] = [True, True, False, False]\n",
    "print(df_estudiantes)"
   ]
  },
  {
   "cell_type": "code",
   "execution_count": 31,
   "metadata": {},
   "outputs": [
    {
     "name": "stdout",
     "output_type": "stream",
     "text": [
      "\n",
      "Modificar edad de Ana a 24:\n",
      "   Nombre  Edad      Carrera  Promedio   Beca\n",
      "0     Ana    24       Física       8.9   True\n",
      "1    Luis    21  Matemáticas       9.1   True\n",
      "2   Marta    22     Biología       7.4  False\n",
      "3  Carlos    24      Química       8.7  False\n"
     ]
    }
   ],
   "source": [
    "print(\"\\nModificar edad de Ana a 24:\")\n",
    "df_estudiantes.loc[0, \"Edad\"] = 24\n",
    "print(df_estudiantes)"
   ]
  },
  {
   "cell_type": "markdown",
   "metadata": {},
   "source": [
    "## Ejercicio\n",
    "Crea un dataframe con los siguientes diccionarios y guardalo como df_data.csv. \n",
    "\n",
    "Ve las primeras 7 columnas con el comando df.head(7). Que puedes comentar acerca del DataFrame.\n"
   ]
  },
  {
   "cell_type": "code",
   "execution_count": 1,
   "metadata": {},
   "outputs": [],
   "source": [
    "my_data_F = {\n",
    "    'Nombre': 'Francisco',\n",
    "    'Apellidos': 'Cisneros Ruiz',\n",
    "    'Email': 'posfcisneros@imp.mx',\n",
    "    'Edad': '33',\n",
    "    'Grado_de_estudios': 'maestria',\n",
    "    'Formacion': 'ingenieria civil',\n",
    "    'Lenguajes_de_programacion': 'Matlab'\n",
    "}\n",
    "my_data_O = {'Nombres':\"Olivia\",\n",
    "           'Apellidos':\"Flores\",\n",
    "           'E-mail':\"posoflores@imp.mx\",\n",
    "           'Grado de estudios':\"doctorado\",\n",
    "           'Formación':\"geologo\",\n",
    "           'Lenguajes de porgramación':\"python\"}\n",
    "my_data_MC = {'Nombres':\"Milthon Carlos\",\n",
    "         'Apellidos':\"Garcia Pinto\",\n",
    "         'e-mail':\"posmcgarcia@imp.mx\",\n",
    "         'Edad':23,\n",
    "         'Grado de estudios':\"Actualmente maestría\",\n",
    "         'Formación':\"Ingeniero Petrolero\",\n",
    "         'Lenguajes de Programación':\"Python\"}\n",
    "my_data_R = {\n",
    "    \"Nombres\": \"Rodrigo\",\n",
    "    \"Apellidos\": \"Barranco Tamayo\",\n",
    "    \"E-mail\": \"posrbarranco@imp.mx\",\n",
    "    \"Edad\": 25,\n",
    "    \"Grado de estudios\": \"Licenciatura\",\n",
    "    \"Formación\": \"Ingeniero Geofísico\",\n",
    "    \"Lenguajes de programación\": [\"Python\", \"MATLAB\", \"C\"]\n",
    "}\n",
    "my_data_E = {'Nombres': \"Eduardo\",\n",
    "           'Apellidos': \"Tapia Mejía\",\n",
    "            'Email': \"zoyedu@gmail.com\",\n",
    "            'Edad': 25,\n",
    "            'Grado de estudios': \"Ingeniero\",\n",
    "            'Formacion': \"Mecatronico\",\n",
    "            'Lenguajes de programacion' : \"C, C++, C#, Python\"}\n",
    "\n",
    "my_data_S ={'Nombres':\"Sonia\",'Apellidos':\"ER\",'e-mail':\"possreza@imp.mx\",'Edad':\"26\", \n",
    "           \"Grado de estudios\":\"Doctorado\", \"Formación\": \"MIA\", \"Lenguajes de programación\":\"ninguno\"}\n",
    "my_data_M = {\n",
    "    \"Nombres\": \"Marcos \",\n",
    "    \"Apellidos\": \"Aguilar Hernandez\",\n",
    "    \"E-mail\": \"marcosagher@gmail.com\",\n",
    "    \"Edad\": 28,\n",
    "    \"Grado de estudios\": \"Maestría\",\n",
    "    \"Formación\": \"Ingeniería Petrolera\",\n",
    "    \"Lenguajes de programación\": [\"Python\"]\n",
    "}"
   ]
  },
  {
   "cell_type": "code",
   "execution_count": 5,
   "metadata": {},
   "outputs": [
    {
     "name": "stdout",
     "output_type": "stream",
     "text": [
      "[{'Nombre': 'Francisco', 'Apellidos': 'Cisneros Ruiz', 'Email': 'posfcisneros@imp.mx', 'Edad': '33', 'Grado_de_estudios': 'maestria', 'Formacion': 'ingenieria civil', 'Lenguajes_de_programacion': 'Matlab'}, {'Nombres': 'Olivia', 'Apellidos': 'Flores', 'E-mail': 'posoflores@imp.mx', 'Grado de estudios': 'doctorado', 'Formación': 'geologo', 'Lenguajes de porgramación': 'python'}, {'Nombres': 'Milthon Carlos', 'Apellidos': 'Garcia Pinto', 'e-mail': 'posmcgarcia@imp.mx', 'Edad': 23, 'Grado de estudios': 'Actualmente maestría', 'Formación': 'Ingeniero Petrolero', 'Lenguajes de Programación': 'Python'}, {'Nombres': 'Rodrigo', 'Apellidos': 'Barranco Tamayo', 'E-mail': 'posrbarranco@imp.mx', 'Edad': 25, 'Grado de estudios': 'Licenciatura', 'Formación': 'Ingeniero Geofísico', 'Lenguajes de programación': ['Python', 'MATLAB', 'C']}, {'Nombres': 'Eduardo', 'Apellidos': 'Tapia Mejía', 'Email': 'zoyedu@gmail.com', 'Edad': 25, 'Grado de estudios': 'Ingeniero', 'Formacion': 'Mecatronico', 'Lenguajes de programacion': 'C, C++, C#, Python'}, {'Nombres': 'Sonia', 'Apellidos': 'ER', 'e-mail': 'possreza@imp.mx', 'Edad': '26', 'Grado de estudios': 'Doctorado', 'Formación': 'MIA', 'Lenguajes de programación': 'ninguno'}, {'Nombres': 'Marcos ', 'Apellidos': 'Aguilar Hernandez', 'E-mail': 'marcosagher@gmail.com', 'Edad': 28, 'Grado de estudios': 'Maestría', 'Formación': 'Ingeniería Petrolera', 'Lenguajes de programación': ['Python']}]\n"
     ]
    },
    {
     "data": {
      "text/html": [
       "<div>\n",
       "<style scoped>\n",
       "    .dataframe tbody tr th:only-of-type {\n",
       "        vertical-align: middle;\n",
       "    }\n",
       "\n",
       "    .dataframe tbody tr th {\n",
       "        vertical-align: top;\n",
       "    }\n",
       "\n",
       "    .dataframe thead th {\n",
       "        text-align: right;\n",
       "    }\n",
       "</style>\n",
       "<table border=\"1\" class=\"dataframe\">\n",
       "  <thead>\n",
       "    <tr style=\"text-align: right;\">\n",
       "      <th></th>\n",
       "      <th>Nombre</th>\n",
       "      <th>Apellidos</th>\n",
       "      <th>Email</th>\n",
       "      <th>Edad</th>\n",
       "      <th>Grado_de_estudios</th>\n",
       "      <th>Formacion</th>\n",
       "      <th>Lenguajes_de_programacion</th>\n",
       "      <th>Nombres</th>\n",
       "      <th>E-mail</th>\n",
       "      <th>Grado de estudios</th>\n",
       "      <th>Formación</th>\n",
       "      <th>Lenguajes de porgramación</th>\n",
       "      <th>e-mail</th>\n",
       "      <th>Lenguajes de Programación</th>\n",
       "      <th>Lenguajes de programación</th>\n",
       "      <th>Lenguajes de programacion</th>\n",
       "    </tr>\n",
       "  </thead>\n",
       "  <tbody>\n",
       "    <tr>\n",
       "      <th>0</th>\n",
       "      <td>Francisco</td>\n",
       "      <td>Cisneros Ruiz</td>\n",
       "      <td>posfcisneros@imp.mx</td>\n",
       "      <td>33</td>\n",
       "      <td>maestria</td>\n",
       "      <td>ingenieria civil</td>\n",
       "      <td>Matlab</td>\n",
       "      <td>NaN</td>\n",
       "      <td>NaN</td>\n",
       "      <td>NaN</td>\n",
       "      <td>NaN</td>\n",
       "      <td>NaN</td>\n",
       "      <td>NaN</td>\n",
       "      <td>NaN</td>\n",
       "      <td>NaN</td>\n",
       "      <td>NaN</td>\n",
       "    </tr>\n",
       "    <tr>\n",
       "      <th>1</th>\n",
       "      <td>NaN</td>\n",
       "      <td>Flores</td>\n",
       "      <td>NaN</td>\n",
       "      <td>NaN</td>\n",
       "      <td>NaN</td>\n",
       "      <td>NaN</td>\n",
       "      <td>NaN</td>\n",
       "      <td>Olivia</td>\n",
       "      <td>posoflores@imp.mx</td>\n",
       "      <td>doctorado</td>\n",
       "      <td>geologo</td>\n",
       "      <td>python</td>\n",
       "      <td>NaN</td>\n",
       "      <td>NaN</td>\n",
       "      <td>NaN</td>\n",
       "      <td>NaN</td>\n",
       "    </tr>\n",
       "    <tr>\n",
       "      <th>2</th>\n",
       "      <td>NaN</td>\n",
       "      <td>Garcia Pinto</td>\n",
       "      <td>NaN</td>\n",
       "      <td>23</td>\n",
       "      <td>NaN</td>\n",
       "      <td>NaN</td>\n",
       "      <td>NaN</td>\n",
       "      <td>Milthon Carlos</td>\n",
       "      <td>NaN</td>\n",
       "      <td>Actualmente maestría</td>\n",
       "      <td>Ingeniero Petrolero</td>\n",
       "      <td>NaN</td>\n",
       "      <td>posmcgarcia@imp.mx</td>\n",
       "      <td>Python</td>\n",
       "      <td>NaN</td>\n",
       "      <td>NaN</td>\n",
       "    </tr>\n",
       "    <tr>\n",
       "      <th>3</th>\n",
       "      <td>NaN</td>\n",
       "      <td>Barranco Tamayo</td>\n",
       "      <td>NaN</td>\n",
       "      <td>25</td>\n",
       "      <td>NaN</td>\n",
       "      <td>NaN</td>\n",
       "      <td>NaN</td>\n",
       "      <td>Rodrigo</td>\n",
       "      <td>posrbarranco@imp.mx</td>\n",
       "      <td>Licenciatura</td>\n",
       "      <td>Ingeniero Geofísico</td>\n",
       "      <td>NaN</td>\n",
       "      <td>NaN</td>\n",
       "      <td>NaN</td>\n",
       "      <td>[Python, MATLAB, C]</td>\n",
       "      <td>NaN</td>\n",
       "    </tr>\n",
       "    <tr>\n",
       "      <th>4</th>\n",
       "      <td>NaN</td>\n",
       "      <td>Tapia Mejía</td>\n",
       "      <td>zoyedu@gmail.com</td>\n",
       "      <td>25</td>\n",
       "      <td>NaN</td>\n",
       "      <td>Mecatronico</td>\n",
       "      <td>NaN</td>\n",
       "      <td>Eduardo</td>\n",
       "      <td>NaN</td>\n",
       "      <td>Ingeniero</td>\n",
       "      <td>NaN</td>\n",
       "      <td>NaN</td>\n",
       "      <td>NaN</td>\n",
       "      <td>NaN</td>\n",
       "      <td>NaN</td>\n",
       "      <td>C, C++, C#, Python</td>\n",
       "    </tr>\n",
       "    <tr>\n",
       "      <th>5</th>\n",
       "      <td>NaN</td>\n",
       "      <td>ER</td>\n",
       "      <td>NaN</td>\n",
       "      <td>26</td>\n",
       "      <td>NaN</td>\n",
       "      <td>NaN</td>\n",
       "      <td>NaN</td>\n",
       "      <td>Sonia</td>\n",
       "      <td>NaN</td>\n",
       "      <td>Doctorado</td>\n",
       "      <td>MIA</td>\n",
       "      <td>NaN</td>\n",
       "      <td>possreza@imp.mx</td>\n",
       "      <td>NaN</td>\n",
       "      <td>ninguno</td>\n",
       "      <td>NaN</td>\n",
       "    </tr>\n",
       "    <tr>\n",
       "      <th>6</th>\n",
       "      <td>NaN</td>\n",
       "      <td>Aguilar Hernandez</td>\n",
       "      <td>NaN</td>\n",
       "      <td>28</td>\n",
       "      <td>NaN</td>\n",
       "      <td>NaN</td>\n",
       "      <td>NaN</td>\n",
       "      <td>Marcos</td>\n",
       "      <td>marcosagher@gmail.com</td>\n",
       "      <td>Maestría</td>\n",
       "      <td>Ingeniería Petrolera</td>\n",
       "      <td>NaN</td>\n",
       "      <td>NaN</td>\n",
       "      <td>NaN</td>\n",
       "      <td>[Python]</td>\n",
       "      <td>NaN</td>\n",
       "    </tr>\n",
       "  </tbody>\n",
       "</table>\n",
       "</div>"
      ],
      "text/plain": [
       "      Nombre          Apellidos                Email Edad Grado_de_estudios  \\\n",
       "0  Francisco      Cisneros Ruiz  posfcisneros@imp.mx   33          maestria   \n",
       "1        NaN             Flores                  NaN  NaN               NaN   \n",
       "2        NaN       Garcia Pinto                  NaN   23               NaN   \n",
       "3        NaN    Barranco Tamayo                  NaN   25               NaN   \n",
       "4        NaN        Tapia Mejía     zoyedu@gmail.com   25               NaN   \n",
       "5        NaN                 ER                  NaN   26               NaN   \n",
       "6        NaN  Aguilar Hernandez                  NaN   28               NaN   \n",
       "\n",
       "          Formacion Lenguajes_de_programacion         Nombres  \\\n",
       "0  ingenieria civil                    Matlab             NaN   \n",
       "1               NaN                       NaN          Olivia   \n",
       "2               NaN                       NaN  Milthon Carlos   \n",
       "3               NaN                       NaN         Rodrigo   \n",
       "4       Mecatronico                       NaN         Eduardo   \n",
       "5               NaN                       NaN           Sonia   \n",
       "6               NaN                       NaN         Marcos    \n",
       "\n",
       "                  E-mail     Grado de estudios             Formación  \\\n",
       "0                    NaN                   NaN                   NaN   \n",
       "1      posoflores@imp.mx             doctorado               geologo   \n",
       "2                    NaN  Actualmente maestría   Ingeniero Petrolero   \n",
       "3    posrbarranco@imp.mx          Licenciatura   Ingeniero Geofísico   \n",
       "4                    NaN             Ingeniero                   NaN   \n",
       "5                    NaN             Doctorado                   MIA   \n",
       "6  marcosagher@gmail.com              Maestría  Ingeniería Petrolera   \n",
       "\n",
       "  Lenguajes de porgramación              e-mail Lenguajes de Programación  \\\n",
       "0                       NaN                 NaN                       NaN   \n",
       "1                    python                 NaN                       NaN   \n",
       "2                       NaN  posmcgarcia@imp.mx                    Python   \n",
       "3                       NaN                 NaN                       NaN   \n",
       "4                       NaN                 NaN                       NaN   \n",
       "5                       NaN     possreza@imp.mx                       NaN   \n",
       "6                       NaN                 NaN                       NaN   \n",
       "\n",
       "  Lenguajes de programación Lenguajes de programacion  \n",
       "0                       NaN                       NaN  \n",
       "1                       NaN                       NaN  \n",
       "2                       NaN                       NaN  \n",
       "3       [Python, MATLAB, C]                       NaN  \n",
       "4                       NaN        C, C++, C#, Python  \n",
       "5                   ninguno                       NaN  \n",
       "6                  [Python]                       NaN  "
      ]
     },
     "execution_count": 5,
     "metadata": {},
     "output_type": "execute_result"
    }
   ],
   "source": [
    "import pandas as pd\n",
    "lista = []\n",
    "for data in [my_data_F,my_data_O,my_data_MC,my_data_R,my_data_E,my_data_S,my_data_M]:\n",
    "    lista.append(data)\n",
    "print(lista)\n",
    "df_data= pd.DataFrame(lista)\n",
    "df_data.head(7)"
   ]
  },
  {
   "cell_type": "code",
   "execution_count": null,
   "metadata": {},
   "outputs": [],
   "source": [
    "df.to_csv('df_data.csv')"
   ]
  },
  {
   "cell_type": "code",
   "execution_count": null,
   "metadata": {},
   "outputs": [],
   "source": []
  }
 ],
 "metadata": {
  "colab": {
   "provenance": []
  },
  "kernelspec": {
   "display_name": "python_curso_IMP",
   "language": "python",
   "name": "python3"
  },
  "language_info": {
   "codemirror_mode": {
    "name": "ipython",
    "version": 3
   },
   "file_extension": ".py",
   "mimetype": "text/x-python",
   "name": "python",
   "nbconvert_exporter": "python",
   "pygments_lexer": "ipython3",
   "version": "3.12.11"
  }
 },
 "nbformat": 4,
 "nbformat_minor": 4
}
