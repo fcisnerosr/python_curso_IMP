{
 "cells": [
  {
   "cell_type": "markdown",
   "id": "1e9b1d19-1244-4c5f-b9f6-db4bede4dc18",
   "metadata": {},
   "source": [
    "<div style=\"background-color:#f2f2f2; border-left: 8px solid #2e8b57; padding: 20px; border-radius: 10px; font-family: Arial, sans-serif;\">\n",
    "\n",
    "<center>\n",
    "\n",
    "<h1 style=\"color:#2e8b57;\">Introducción a la programación en Python</h1>\n",
    "<h2 style=\"color:#2e8b57;\">Instituto Mexicano del Petróleo</h2>\n",
    "\n",
    "<p style=\"font-size:16px; color:#333;\">\n",
    "<strong>Dra. Gabriela Berenice Díaz Cortés</strong><br>\n",
    "<em>gbdiaz@imp.mx</em>\n",
    "</p>\n",
    "\n",
    "<p style=\"font-size:16px; color:#333;\">\n",
    "<strong>Dr. Luis Antonio López Peña</strong><br>\n",
    "<em>llopezp@imp.mx</em>\n",
    "</p>\n",
    "\n",
    "<p style=\"font-size:15px; color:#555;\">\n",
    "Dirección de Investigación <br>\n",
    "Gerencia de Investigación en Explotación\n",
    "</p>\n",
    "\n",
    "</center>\n",
    "\n",
    "</div>"
   ]
  },
  {
   "cell_type": "markdown",
   "id": "2c804abf",
   "metadata": {
    "id": "2c804abf"
   },
   "source": [
    "## Introducción a programación orientada a objetos\n",
    "\n",
    "# Clases\n",
    "\n",
    "Las clases son un concepto fundamental en programación con python. En este curso ya se han usado las clases, previamente. \n"
   ]
  },
  {
   "cell_type": "code",
   "execution_count": null,
   "id": "Rn9vaQ2tiHdo",
   "metadata": {
    "colab": {
     "base_uri": "https://localhost:8080/"
    },
    "executionInfo": {
     "elapsed": 240,
     "status": "ok",
     "timestamp": 1682631474559,
     "user": {
      "displayName": "Luis Antonio",
      "userId": "10599916469398678728"
     },
     "user_tz": 360
    },
    "id": "Rn9vaQ2tiHdo",
    "outputId": "7a97ad20-056c-479f-8d3a-51b7c5ef43a0"
   },
   "outputs": [],
   "source": [
    "a=int(4)\n",
    "b= 5.5\n",
    "c= [7,4,5,2,1]\n",
    "d= 'Ewan'\n",
    "e= True\n",
    "\n",
    "print(type(a))\n",
    "print(type(b))\n",
    "print(type(c))\n",
    "print(type(d))\n",
    "print(type(e))"
   ]
  },
  {
   "cell_type": "markdown",
   "id": "HdH-cchmjRlo",
   "metadata": {
    "id": "HdH-cchmjRlo"
   },
   "source": [
    "Cada que se crea un entero, se crea un **objeto** (o instancia) de la clase *int*, la clase define como los objetos se comportan y que **métodos (o funciones)** operan sobre ellos. Se han utilizado distintos métodos asociados a clases, como por ejemplo el método *append* asociado a listas y *split* para caracteres.\n",
    "\n"
   ]
  },
  {
   "cell_type": "code",
   "execution_count": null,
   "id": "3OZcUs8NfVIM",
   "metadata": {
    "colab": {
     "base_uri": "https://localhost:8080/"
    },
    "executionInfo": {
     "elapsed": 335,
     "status": "ok",
     "timestamp": 1682631558306,
     "user": {
      "displayName": "Luis Antonio",
      "userId": "10599916469398678728"
     },
     "user_tz": 360
    },
    "id": "3OZcUs8NfVIM",
    "outputId": "50511da4-dc01-4d52-cf52-3d59db2d7fa3"
   },
   "outputs": [],
   "source": [
    "c.append(8)\n",
    "print(c)"
   ]
  },
  {
   "cell_type": "code",
   "execution_count": null,
   "id": "OMUAFPJwgdwp",
   "metadata": {
    "colab": {
     "base_uri": "https://localhost:8080/",
     "height": 166
    },
    "executionInfo": {
     "elapsed": 259,
     "status": "error",
     "timestamp": 1682631573833,
     "user": {
      "displayName": "Luis Antonio",
      "userId": "10599916469398678728"
     },
     "user_tz": 360
    },
    "id": "OMUAFPJwgdwp",
    "outputId": "b2391196-46c7-43ab-8aef-ffa7f60f9bc1"
   },
   "outputs": [],
   "source": [
    "a.append(5)"
   ]
  },
  {
   "cell_type": "code",
   "execution_count": null,
   "id": "ilX4-dkZgHP-",
   "metadata": {
    "colab": {
     "base_uri": "https://localhost:8080/"
    },
    "executionInfo": {
     "elapsed": 278,
     "status": "ok",
     "timestamp": 1682631618254,
     "user": {
      "displayName": "Luis Antonio",
      "userId": "10599916469398678728"
     },
     "user_tz": 360
    },
    "id": "ilX4-dkZgHP-",
    "outputId": "0aff2b49-f4d1-4e9e-fe05-ce52fc8bdbc8"
   },
   "outputs": [],
   "source": [
    "d.split('w')"
   ]
  },
  {
   "cell_type": "markdown",
   "id": "OsK6ECdbgly5",
   "metadata": {
    "id": "OsK6ECdbgly5"
   },
   "source": [
    "Sin embargo, no solo se pueden usar las **clases** y **objetos** definidas dentro del lenguaje de programación python, el usuario puede crear y definir sus propias clases para crear estructuras de datos,  tipo de datos y aplicaciones propias."
   ]
  },
  {
   "cell_type": "markdown",
   "id": "4NEGbkV-hV08",
   "metadata": {
    "id": "4NEGbkV-hV08"
   },
   "source": [
    "## **Características de las clases**\n",
    "\n",
    "Una clase se comporta como una plantilla que se usa para contruir **objetos** (o instancias) con **atributos** y **métodos**. Se utilizan para organizar y estructurar el código.\n",
    "\n",
    "Un **atributo** (o una variable de instancia) es un dato asociado a un objeto.\n",
    "\n",
    "Todos los **objetos** (o instancias) poseen los mismos **atributos** pero contiene su propio valor.\n",
    "\n",
    "Por ejemplo los empleados de una compañía pueden ser representados por una clase que se llame Empleados en donde cada empleado tiene un número de empleado, un nombre, un departamento.\n",
    "\n",
    "\n",
    "Un **método** (o función) es un procedimiento definido dentro de un clase.\n",
    "\n"
   ]
  },
  {
   "cell_type": "markdown",
   "id": "f7e1e320",
   "metadata": {
    "id": "f7e1e320"
   },
   "source": [
    "\n",
    "\n",
    "## Definición de clases en python"
   ]
  },
  {
   "cell_type": "code",
   "execution_count": null,
   "id": "770289a9",
   "metadata": {
    "executionInfo": {
     "elapsed": 143,
     "status": "ok",
     "timestamp": 1682708789885,
     "user": {
      "displayName": "Luis Antonio",
      "userId": "10599916469398678728"
     },
     "user_tz": 360
    },
    "id": "770289a9"
   },
   "outputs": [],
   "source": [
    "class Persona:\n",
    "    def __init__(self, nombre, edad):\n",
    "        self.nombre = nombre\n",
    "        self.edad = edad"
   ]
  },
  {
   "cell_type": "markdown",
   "id": "626a6b97",
   "metadata": {
    "id": "626a6b97"
   },
   "source": [
    "La clase Persona posee 2 atributos o variables de instancia, llamados nombre y edad. También hay un método llamado ___init___, que es el constructor para la clase, e indica que datos se le deben de suministrar a un objeto de la clase Person cuando es creado.\n",
    "\n",
    "Los valores subministrados se guardaran en una instancia de la clase, representada por la variable especial, *self* y en variables de instancia los atributos self.nombre y self.edad.\n",
    "\n",
    "La variable especial *self* es el primer parámetro que se le pasa al método. Sin embargo, cuando se llama al método, no pasamos ningún valor para este parámetro, pero Python lo hace. Se usa para representar al objeto dentro del cual el método se ejecuta. Entonces self, es el objeto.\n"
   ]
  },
  {
   "cell_type": "code",
   "execution_count": null,
   "id": "383bee8e",
   "metadata": {
    "colab": {
     "base_uri": "https://localhost:8080/"
    },
    "executionInfo": {
     "elapsed": 190,
     "status": "ok",
     "timestamp": 1682709190647,
     "user": {
      "displayName": "Luis Antonio",
      "userId": "10599916469398678728"
     },
     "user_tz": 360
    },
    "id": "383bee8e",
    "outputId": "5c301ec9-0a59-41ad-f791-258b5b91a7d7"
   },
   "outputs": [],
   "source": [
    "p1 = Persona('Juan', 36)\n",
    "print(type(p1.edad))\n",
    "p2 = Persona('Sofi', '21')\n",
    "print(type(p2.edad))\n",
    "print(type(p1.edad))"
   ]
  },
  {
   "cell_type": "markdown",
   "id": "0980cf30",
   "metadata": {
    "id": "0980cf30"
   },
   "source": [
    "La variable p1 contiene la referencia de un objeto de la clase Persona, cuyos atributos son 'Juan' (para el atributo 'nombre') y 36 para el atributo 'edad'."
   ]
  },
  {
   "cell_type": "code",
   "execution_count": null,
   "id": "063c3bbc",
   "metadata": {
    "colab": {
     "base_uri": "https://localhost:8080/"
    },
    "executionInfo": {
     "elapsed": 128,
     "status": "ok",
     "timestamp": 1682708793317,
     "user": {
      "displayName": "Luis Antonio",
      "userId": "10599916469398678728"
     },
     "user_tz": 360
    },
    "id": "063c3bbc",
    "outputId": "1ef78e59-86c7-425d-8be8-29c1a0b9e886"
   },
   "outputs": [],
   "source": [
    "type(p1)"
   ]
  },
  {
   "cell_type": "markdown",
   "id": "07759140",
   "metadata": {
    "id": "07759140"
   },
   "source": [
    "## Acceder a los atributos de los objetos"
   ]
  },
  {
   "cell_type": "code",
   "execution_count": null,
   "id": "_UXmKVygQXF2",
   "metadata": {
    "colab": {
     "base_uri": "https://localhost:8080/"
    },
    "executionInfo": {
     "elapsed": 137,
     "status": "ok",
     "timestamp": 1682709197391,
     "user": {
      "displayName": "Luis Antonio",
      "userId": "10599916469398678728"
     },
     "user_tz": 360
    },
    "id": "_UXmKVygQXF2",
    "outputId": "5add7aeb-6dc9-4cf9-fd7d-2ab27a7c2227"
   },
   "outputs": [],
   "source": [
    "print(p1.nombre)\n",
    "print(p1.edad)"
   ]
  },
  {
   "cell_type": "code",
   "execution_count": null,
   "id": "739569bf",
   "metadata": {
    "colab": {
     "base_uri": "https://localhost:8080/"
    },
    "executionInfo": {
     "elapsed": 155,
     "status": "ok",
     "timestamp": 1682709199297,
     "user": {
      "displayName": "Luis Antonio",
      "userId": "10599916469398678728"
     },
     "user_tz": 360
    },
    "id": "739569bf",
    "outputId": "b42acae7-fc73-4b02-9fe8-83f2bd169412"
   },
   "outputs": [],
   "source": [
    "print(p1.nombre, 'tiene', p1.edad)\n",
    "print(p2.nombre, 'tiene', p2.edad)"
   ]
  },
  {
   "cell_type": "code",
   "execution_count": null,
   "id": "twwJ-A_EQdDA",
   "metadata": {
    "colab": {
     "base_uri": "https://localhost:8080/"
    },
    "executionInfo": {
     "elapsed": 147,
     "status": "ok",
     "timestamp": 1682709218898,
     "user": {
      "displayName": "Luis Antonio",
      "userId": "10599916469398678728"
     },
     "user_tz": 360
    },
    "id": "twwJ-A_EQdDA",
    "outputId": "bf62a34d-19c0-46db-cfb6-5c208085e203"
   },
   "outputs": [],
   "source": [
    "print(type(p1.edad))\n",
    "print(type(p2.edad))"
   ]
  },
  {
   "cell_type": "markdown",
   "id": "GvuB8YnCqIeE",
   "metadata": {
    "id": "GvuB8YnCqIeE"
   },
   "source": [
    "## Reasignación de valores a los atributos de la clase"
   ]
  },
  {
   "cell_type": "code",
   "execution_count": null,
   "id": "c2956e06",
   "metadata": {
    "id": "c2956e06"
   },
   "outputs": [],
   "source": [
    "p1.nombre = 'Bob'\n",
    "p1.edad = 54"
   ]
  },
  {
   "cell_type": "code",
   "execution_count": null,
   "id": "8988307d",
   "metadata": {
    "colab": {
     "base_uri": "https://localhost:8080/"
    },
    "executionInfo": {
     "elapsed": 237,
     "status": "ok",
     "timestamp": 1682632321801,
     "user": {
      "displayName": "Luis Antonio",
      "userId": "10599916469398678728"
     },
     "user_tz": 360
    },
    "id": "8988307d",
    "outputId": "6c04333e-bc8f-4b42-9311-0a03f2b37b1d"
   },
   "outputs": [],
   "source": [
    "print(p1.nombre, 'tiene', p1.edad)\n",
    "print(p2.nombre, 'tiene', p2.edad)"
   ]
  },
  {
   "cell_type": "markdown",
   "id": "4c4d287b",
   "metadata": {},
   "source": [
    "1.  Ejemplo. Crear una clase que se llame auto, que tenga los siguientes atributos: 'La marca, el modelo y el año'"
   ]
  },
  {
   "cell_type": "code",
   "execution_count": null,
   "id": "e1da0fe1",
   "metadata": {},
   "outputs": [],
   "source": [
    "class Auto:\n",
    "    def __init__(self,marca,modelo,año):\n",
    "        self.marca = marca\n",
    "        self.modelo = modelo\n",
    "        self.año = año"
   ]
  },
  {
   "cell_type": "code",
   "execution_count": null,
   "id": "ed4988f5",
   "metadata": {},
   "outputs": [],
   "source": [
    "mi_auto = Auto(\"Toyota\", \"Prius\", 2023)"
   ]
  },
  {
   "cell_type": "code",
   "execution_count": null,
   "id": "4cd18a58",
   "metadata": {},
   "outputs": [],
   "source": [
    "mi_auto.marca"
   ]
  },
  {
   "cell_type": "markdown",
   "id": "hVHl5O3WYZB1",
   "metadata": {
    "id": "hVHl5O3WYZB1"
   },
   "source": [
    "### Ejercicio 1\n",
    "\n",
    "Crear una clase que se llame BankAccount, que incluya los siguientes atributos: nombre, apellido, número_de_cuenta, y saldo. \n",
    "\n",
    "Crea 2 objetos de la clase bank Account, que se llamen cliente1 y cliente 2, utilizando los siguientes valores para el \n",
    "\n",
    "cliente 1:\n",
    "\n",
    "nombre = Pedro, apellido=Díaz, cuenta=90673456 y saldo =10000. \n",
    "\n",
    "Mientras que para el \n",
    "\n",
    "cliente 2: \n",
    "\n",
    "nombre= Andrea, apellido= Martínez, cuenta =67892345 y saldo=5000\n",
    "\n",
    "Imprime el nombre y el saldo del cliente 1 y del cliente2.\n",
    "\n",
    "\n"
   ]
  },
  {
   "cell_type": "code",
   "execution_count": null,
   "id": "8d7b3151",
   "metadata": {},
   "outputs": [],
   "source": []
  },
  {
   "cell_type": "markdown",
   "id": "b37ef3f9",
   "metadata": {
    "id": "b37ef3f9"
   },
   "source": [
    "## Definición de métodos de objetos"
   ]
  },
  {
   "cell_type": "markdown",
   "id": "ead75d1c",
   "metadata": {},
   "source": [
    "Un método es una función que se define dentro de la clase. Sirve para definir un procedimiento que un objeto puede hacer"
   ]
  },
  {
   "cell_type": "code",
   "execution_count": null,
   "id": "b196a631",
   "metadata": {},
   "outputs": [],
   "source": [
    "class Persona:\n",
    "    \"\"\" Una clase de ejemplo para guardar el nombre y edad de una persona \"\"\"\n",
    "    \n",
    "    def __init__(self, nombre, edad):\n",
    "        self.nombre = nombre\n",
    "        self.edad = edad\n",
    "\n",
    "    def cumpleaños(self):\n",
    "        print('Feliz cumpleaños, tenías', self.edad)\n",
    "        self.edad += 1\n",
    "        print('Ahora tienes', self.edad)\n",
    "\n",
    "    def es_adolescente(self):\n",
    "        return self.edad < 20"
   ]
  },
  {
   "cell_type": "code",
   "execution_count": null,
   "id": "cfcbba75",
   "metadata": {
    "colab": {
     "base_uri": "https://localhost:8080/"
    },
    "executionInfo": {
     "elapsed": 330,
     "status": "ok",
     "timestamp": 1682633319671,
     "user": {
      "displayName": "Luis Antonio",
      "userId": "10599916469398678728"
     },
     "user_tz": 360
    },
    "id": "cfcbba75",
    "outputId": "dc6698e0-968a-4fa7-f656-8c2e0c554d2e"
   },
   "outputs": [],
   "source": [
    "p3 = Persona('Adam', 19)\n",
    "print(p3)"
   ]
  },
  {
   "cell_type": "code",
   "execution_count": null,
   "id": "183ce565",
   "metadata": {
    "colab": {
     "base_uri": "https://localhost:8080/"
    },
    "executionInfo": {
     "elapsed": 386,
     "status": "ok",
     "timestamp": 1682633356909,
     "user": {
      "displayName": "Luis Antonio",
      "userId": "10599916469398678728"
     },
     "user_tz": 360
    },
    "id": "183ce565",
    "outputId": "b7414e63-67f0-4369-8754-5c8d930fcd95"
   },
   "outputs": [],
   "source": [
    "p3.cumpleaños()"
   ]
  },
  {
   "cell_type": "code",
   "execution_count": null,
   "id": "f8wqGn2ew9FM",
   "metadata": {
    "colab": {
     "base_uri": "https://localhost:8080/"
    },
    "executionInfo": {
     "elapsed": 5,
     "status": "ok",
     "timestamp": 1682633388730,
     "user": {
      "displayName": "Luis Antonio",
      "userId": "10599916469398678728"
     },
     "user_tz": 360
    },
    "id": "f8wqGn2ew9FM",
    "outputId": "cc7c89df-51d1-4c93-c168-ae3dbd83fdb8"
   },
   "outputs": [],
   "source": [
    "p3.edad"
   ]
  },
  {
   "cell_type": "code",
   "execution_count": null,
   "id": "GHf6cHVhfviu",
   "metadata": {
    "colab": {
     "base_uri": "https://localhost:8080/"
    },
    "executionInfo": {
     "elapsed": 251,
     "status": "ok",
     "timestamp": 1682633441423,
     "user": {
      "displayName": "Luis Antonio",
      "userId": "10599916469398678728"
     },
     "user_tz": 360
    },
    "id": "GHf6cHVhfviu",
    "outputId": "a9c5f4c2-7c4a-450a-f501-038d096dc292"
   },
   "outputs": [],
   "source": [
    "p3.es_adolescente()"
   ]
  },
  {
   "cell_type": "markdown",
   "id": "5df53f6c",
   "metadata": {
    "id": "5df53f6c"
   },
   "source": [
    "En el caso del método cumpleaños() no tomo ningún parámetro  y tampoco regreso ningún parámetro. Sin embargo, un método de un objeto puede tomar parámetros de entrada y salida.\n"
   ]
  },
  {
   "cell_type": "markdown",
   "id": "cc209bf1",
   "metadata": {},
   "source": [
    "**Ejemplo 2**. De la clase Auto, definir una método que se llame \"encender\"que nos permita encender el auto y otro método que se llame \"apagar\" que nos permita apagar el auto."
   ]
  },
  {
   "cell_type": "code",
   "execution_count": 1,
   "id": "5d053939",
   "metadata": {},
   "outputs": [],
   "source": [
    "class Auto:\n",
    "    def __init__(self, marca, modelo, año):\n",
    "        self.marca = marca\n",
    "        self.modelo = modelo\n",
    "        self.año = año\n",
    "        self.encendido = False\n",
    "\n",
    "    def encender(self):\n",
    "        if not self.encendido:\n",
    "            self.encendido = True\n",
    "            print(f\"{self.marca} {self.modelo} está encendido.\")\n",
    "        else:\n",
    "            print(f\"{self.marca} {self.modelo} ya estaba encendido.\")\n",
    "\n",
    "    def apagar(self):\n",
    "        if self.encendido:\n",
    "            self.encendido = False\n",
    "            print(f\"{self.marca} {self.modelo} se ha apagado.\")\n",
    "        else:\n",
    "            print(f\"{self.marca} {self.modelo} ya estaba apagado.\")\n",
    "\n",
    "    def info(self):\n",
    "        print(f\"Auto: {self.marca} {self.modelo} ({self.año})\")"
   ]
  },
  {
   "cell_type": "code",
   "execution_count": null,
   "id": "86177498",
   "metadata": {},
   "outputs": [],
   "source": [
    "mi_auto = Auto(\"Toyota\", \"Prius\", 2023)"
   ]
  },
  {
   "cell_type": "code",
   "execution_count": null,
   "id": "6fd07f5e",
   "metadata": {},
   "outputs": [],
   "source": [
    "mi_auto.apagar()"
   ]
  },
  {
   "cell_type": "markdown",
   "id": "9GjJjUyZjNs-",
   "metadata": {
    "id": "9GjJjUyZjNs-"
   },
   "source": [
    "### Ejemplo 2\n",
    "\n",
    "Dentro de la clase BankAccount, crear un método que se llame depósito, que tenga como argumento una cantidad y que actualice el saldo a: saldo + la cantidad depositada."
   ]
  },
  {
   "cell_type": "code",
   "execution_count": null,
   "id": "4489a249",
   "metadata": {},
   "outputs": [],
   "source": [
    "class BankAccount:\n",
    "  def __init__(self, nombre, apellido, numero_de_cuenta,saldo):\n",
    "    self.nombre = nombre\n",
    "    self.apellido = apellido\n",
    "    self.numero_de_cuenta = numero_de_cuenta\n",
    "    self.saldo = saldo\n",
    "  def deposito(self, cantidad):\n",
    "    self.saldo+=cantidad"
   ]
  },
  {
   "cell_type": "code",
   "execution_count": null,
   "id": "7189b610",
   "metadata": {},
   "outputs": [],
   "source": [
    "cliente1 = BankAccount('Pedro', 'Díaz', '90673456', 10000)\n",
    "cliente2 = BankAccount('Andrea', 'Martinez', '67892345', 5000)"
   ]
  },
  {
   "cell_type": "code",
   "execution_count": null,
   "id": "2d29bed3",
   "metadata": {},
   "outputs": [],
   "source": [
    "cliente1.deposito(5000)\n",
    "cliente1.saldo"
   ]
  },
  {
   "cell_type": "markdown",
   "id": "PBxUN3jAl-Xa",
   "metadata": {
    "id": "PBxUN3jAl-Xa"
   },
   "source": [
    "### Ejercicio 3\n",
    "\n",
    "Actualizar la clase BankAccount, creando un método que se llame retiro, que tenga como argumento una cantidad y que regrese el saldo - la cantidad retirada, siempre y cuando el saldo sea mayor a la cantidad que se quiera retirar. En caso contrario que imprima la frase 'Saldo insuficiente'."
   ]
  },
  {
   "cell_type": "markdown",
   "id": "SyJMv83bhatd",
   "metadata": {
    "id": "SyJMv83bhatd"
   },
   "source": [
    "### **Herencia de clases**\n",
    "Se usa la herencia de clases, cuando se requiere extender una clase antes definida. Por ejemplo, se puede construir una clase que se llame Empleado, (que contenga atributos previamente definidos en la calse Persona, como el nombre y la edad de una persona) a partir de la clase Persona."
   ]
  },
  {
   "cell_type": "code",
   "execution_count": null,
   "id": "6d291854",
   "metadata": {
    "id": "6d291854"
   },
   "outputs": [],
   "source": [
    "class Empleado(Persona):\n",
    "    \"\"\" Clase Empleado\"\"\"\n",
    "    def __init__(self, nombre, edad, id):\n",
    "        super().__init__( nombre, edad)\n",
    "        self.id = id\n",
    "        \n",
    "\n",
    "    def calcular_pago(self, horas_trabajadas):\n",
    "        razon_de_pago = 7.50\n",
    "        if self.edad >= 21:\n",
    "            razon_de_pago += 2.50\n",
    "        return horas_trabajadas * razon_de_pago\n",
    "        "
   ]
  },
  {
   "cell_type": "code",
   "execution_count": null,
   "id": "97e18b90",
   "metadata": {
    "id": "97e18b90"
   },
   "outputs": [],
   "source": [
    "e1 = Empleado('Juan', 36, 13456)\n",
    "e2 = Empleado('Sofi', 20, 15467)\n"
   ]
  },
  {
   "cell_type": "code",
   "execution_count": null,
   "id": "ef92fbcc",
   "metadata": {
    "colab": {
     "base_uri": "https://localhost:8080/"
    },
    "executionInfo": {
     "elapsed": 231,
     "status": "ok",
     "timestamp": 1682634186082,
     "user": {
      "displayName": "Luis Antonio",
      "userId": "10599916469398678728"
     },
     "user_tz": 360
    },
    "id": "ef92fbcc",
    "outputId": "12c5ca48-1cd7-42c4-e678-3cc35dbb5031"
   },
   "outputs": [],
   "source": [
    "pago1 = e1.calcular_pago(40)\n",
    "print('Pagar', e1.nombre, pago1)"
   ]
  },
  {
   "cell_type": "code",
   "execution_count": null,
   "id": "031e8336",
   "metadata": {
    "colab": {
     "base_uri": "https://localhost:8080/"
    },
    "executionInfo": {
     "elapsed": 276,
     "status": "ok",
     "timestamp": 1682634205617,
     "user": {
      "displayName": "Luis Antonio",
      "userId": "10599916469398678728"
     },
     "user_tz": 360
    },
    "id": "031e8336",
    "outputId": "0fea5b5b-0bbc-448d-ca47-a525c898a8c4"
   },
   "outputs": [],
   "source": [
    "pago2 = e2.calcular_pago(40)\n",
    "print('Pagar', e2.nombre, pago2)"
   ]
  },
  {
   "cell_type": "code",
   "execution_count": null,
   "id": "MJNMYWQwl3S_",
   "metadata": {
    "colab": {
     "base_uri": "https://localhost:8080/"
    },
    "executionInfo": {
     "elapsed": 254,
     "status": "ok",
     "timestamp": 1682634221569,
     "user": {
      "displayName": "Luis Antonio",
      "userId": "10599916469398678728"
     },
     "user_tz": 360
    },
    "id": "MJNMYWQwl3S_",
    "outputId": "ddf803cf-d5a0-4135-b92f-fc4af411e8b2"
   },
   "outputs": [],
   "source": [
    "e1.cumpleaños()"
   ]
  },
  {
   "cell_type": "code",
   "execution_count": null,
   "id": "LNL95-0w0bl7",
   "metadata": {
    "colab": {
     "base_uri": "https://localhost:8080/"
    },
    "executionInfo": {
     "elapsed": 232,
     "status": "ok",
     "timestamp": 1682634299270,
     "user": {
      "displayName": "Luis Antonio",
      "userId": "10599916469398678728"
     },
     "user_tz": 360
    },
    "id": "LNL95-0w0bl7",
    "outputId": "758a1d24-5239-430f-bce8-6c71f82c73cc"
   },
   "outputs": [],
   "source": [
    "e1.id"
   ]
  },
  {
   "cell_type": "markdown",
   "id": "c2036c5d",
   "metadata": {},
   "source": [
    "**Ejemplo**  Crea una nueva clase que se llame \"Auto eléctrico\" que herede atributos de la clase Auto"
   ]
  },
  {
   "cell_type": "code",
   "execution_count": null,
   "id": "c1c3b280",
   "metadata": {},
   "outputs": [],
   "source": [
    "class AutoElectrico(Auto):\n",
    "    def __init__(self, marca, modelo, año, bateria):\n",
    "        super().__init__(marca, modelo, año)  # llamamos al constructor de Auto\n",
    "        self.bateria = bateria  # capacidad de la batería en kWh\n",
    "\n",
    "    def cargar_bateria(self):\n",
    "        print(f\"Cargando la batería de {self.marca} {self.modelo} ({self.bateria} kWh)...\")\n",
    "\n",
    "    def info(self):\n",
    "        super().info()  # llama al método info de Auto\n",
    "        print(f\"Batería: {self.bateria} kWh\")\n"
   ]
  },
  {
   "cell_type": "code",
   "execution_count": null,
   "id": "ffd6a6fd",
   "metadata": {},
   "outputs": [],
   "source": [
    "tesla = AutoElectrico(\"Tesla\", \"Model 3\", 2022, 75)\n",
    "\n"
   ]
  },
  {
   "cell_type": "code",
   "execution_count": null,
   "id": "87b7071b",
   "metadata": {},
   "outputs": [],
   "source": [
    "tesla.info()\n",
    "# Auto: Tesla Model 3 (2022)\n",
    "# Batería: 75 kWh\n",
    "\n",
    "tesla.encender()        # Tesla Model 3 está encendido.\n",
    "tesla.cargar_bateria()  # Cargando la batería de Tesla Model 3 (75 kWh)..."
   ]
  },
  {
   "cell_type": "markdown",
   "id": "EKa1HeXBsoN2",
   "metadata": {
    "id": "EKa1HeXBsoN2"
   },
   "source": [
    "### Ejercicio 3\n",
    "Crear una clase que se llame BankAccountPremium, que herede los atributos y métodos de la clase Bank Account, pero que el método retiro, permita al cliente hacer un retiro aunque el saldo sea menor a la cantidad a retirar. Nota: La cantidad a retirar cuando el saldo es cero, tendrá un límite y este valor será un atributo en la clase BankAccountPremium."
   ]
  },
  {
   "cell_type": "markdown",
   "id": "8d2f13f3",
   "metadata": {},
   "source": [
    "## Variables públicas, protegidas y privadas"
   ]
  },
  {
   "cell_type": "markdown",
   "id": "51141e59",
   "metadata": {},
   "source": [
    "Las **variables públicas** son las que se pueden accceder libremente desde cualquier parte del código."
   ]
  },
  {
   "cell_type": "code",
   "execution_count": null,
   "id": "201d4aed",
   "metadata": {},
   "outputs": [],
   "source": [
    "p3 = Persona('Adam', 19)"
   ]
  },
  {
   "cell_type": "code",
   "execution_count": null,
   "id": "4c7b4f94",
   "metadata": {},
   "outputs": [],
   "source": [
    "p3.edad"
   ]
  },
  {
   "cell_type": "markdown",
   "id": "136734db",
   "metadata": {},
   "source": [
    "Las **variables protegidas** no tienen protección real pero por convención si se utiliza un guíon bajo _ se sugiere no manipular la variable fuera de la clase "
   ]
  },
  {
   "cell_type": "code",
   "execution_count": null,
   "id": "1d48ba28",
   "metadata": {},
   "outputs": [],
   "source": [
    "class Persona_prot:\n",
    "    def __init__(self, nombre):\n",
    "        self._nombre = nombre  # protegida (convención)\n",
    "\n",
    "p = Persona_prot(\"Ana\")\n",
    "print(p._nombre)  # Se puede acceder, pero es mala práctica"
   ]
  },
  {
   "cell_type": "markdown",
   "id": "621b3f6c",
   "metadata": {},
   "source": [
    "Las **variables privadas** estan más protegidas, Python cambia el nombre interno para evitar que se accedan a ellas facilmente. Se definen con doble guíon bajo"
   ]
  },
  {
   "cell_type": "code",
   "execution_count": null,
   "id": "878a59ca",
   "metadata": {},
   "outputs": [],
   "source": [
    "class Cuenta:\n",
    "    def __init__(self, saldo):\n",
    "        self.__saldo = saldo  # privada\n",
    "\n",
    "cuenta = Cuenta(1000)\n",
    "print(cuenta.__saldo) "
   ]
  },
  {
   "cell_type": "code",
   "execution_count": null,
   "id": "502c0364",
   "metadata": {},
   "outputs": [],
   "source": [
    "print(cuenta._Cuenta__saldo)"
   ]
  },
  {
   "cell_type": "markdown",
   "id": "d2d4bee7-b055-4f6a-9159-dfc9a0bd0402",
   "metadata": {},
   "source": [
    "##  Ejercicio: Clase `Libro` con variables públicas y privadas\n",
    "\n",
    "Crea una clase llamada `Libro` que represente un libro con la siguiente información:\n",
    "\n",
    "- `titulo` (público): el título del libro.  \n",
    "- `autor` (público): el autor del libro.  \n",
    "- `__paginas` (privado): el número total de páginas del libro.  \n",
    "\n",
    "### Métodos\n",
    "\n",
    "Implementa los siguientes métodos en la clase:\n",
    "\n",
    "1. `descripcion()`: muestra una descripción con el título, autor y número de páginas del libro.  \n",
    "2. `leer_paginas(num)`: recibe un número de páginas a leer y muestra un mensaje:\n",
    "   - Si el número es menor o igual al total de páginas, indica que se han leído esas páginas.\n",
    "   - Si es mayor, muestra un mensaje de error indicando que el número es mayor al total.\n",
    "\n",
    "\n",
    "- Las variables `titulo` y `autor` deben ser accesibles directamente (públicas).  \n",
    "- La variable `__paginas` debe ser privada y *no debe ser accesible directamente desde fuera de la clase*.  \n"
   ]
  },
  {
   "cell_type": "code",
   "execution_count": null,
   "id": "b2edce42-263a-43fc-b93f-36aee30d3744",
   "metadata": {},
   "outputs": [],
   "source": []
  }
 ],
 "metadata": {
  "colab": {
   "provenance": []
  },
  "kernelspec": {
   "display_name": "Python 3 (ipykernel)",
   "language": "python",
   "name": "python3"
  },
  "language_info": {
   "codemirror_mode": {
    "name": "ipython",
    "version": 3
   },
   "file_extension": ".py",
   "mimetype": "text/x-python",
   "name": "python",
   "nbconvert_exporter": "python",
   "pygments_lexer": "ipython3",
   "version": "3.11.4"
  }
 },
 "nbformat": 4,
 "nbformat_minor": 5
}
