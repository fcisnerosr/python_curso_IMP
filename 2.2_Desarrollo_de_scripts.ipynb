{
 "cells": [
  {
   "cell_type": "markdown",
   "metadata": {},
   "source": [
    "<div style=\"background-color:#f2f2f2; border-left: 8px solid #2e8b57; padding: 20px; border-radius: 10px; font-family: Arial, sans-serif;\">\n",
    "\n",
    "<center>\n",
    "\n",
    "<h1 style=\"color:#2e8b57;\">Introducción a la programación en Python</h1>\n",
    "<h2 style=\"color:#2e8b57;\">Instituto Mexicano del Petróleo</h2>\n",
    "\n",
    "<p style=\"font-size:16px; color:#333;\">\n",
    "<strong>Dra. Gabriela Berenice Díaz Cortés</strong><br>\n",
    "<em>gbdiaz@imp.mx</em>\n",
    "</p>\n",
    "\n",
    "<p style=\"font-size:16px; color:#333;\">\n",
    "<strong>Dr. Luis Antonio López Peña</strong><br>\n",
    "<em>llopezp@imp.mx</em>\n",
    "</p>\n",
    "\n",
    "<p style=\"font-size:15px; color:#555;\">\n",
    "Dirección de Investigación <br>\n",
    "Gerencia de Investigación en Explotación\n",
    "</p>\n",
    "\n",
    "</center>\n",
    "\n",
    "</div>"
   ]
  },
  {
   "cell_type": "markdown",
   "metadata": {
    "id": "6anX9KDIb5bw"
   },
   "source": [
    "## Desarrollo de scripts 2\n",
    "\n",
    "* **Funciones**\n",
    "    - Definición de funciones\n",
    "    - Funciones con argumentos indeterminados\n",
    "    - Funciones anónimas\n",
    "\n",
    "* **Variables locales y variables globales**\n"
   ]
  },
  {
   "cell_type": "markdown",
   "metadata": {
    "id": "36PXbA8Ob5b5"
   },
   "source": [
    "## Funciones \n",
    "\n",
    "Las funciones son un conjunto de intrucciones que realizan una actividad específica. Se pueden crear funciones si se requiere realizar una operacion constantemente.\n",
    "\n",
    "Las funciones se pueden definir en un lugar y pueden ser llamadas en otro lugar.\n",
    "\n",
    "## ¿Cómo trabajan las funciones?\n",
    "\n",
    "Cuando se llama una función, el programa va de donde se llama la función al punto en donde la función esta definida.\n",
    "El cuerpo de la función se ejecuta antes de que el programa regrese al lugar en donde fue llamada.\n",
    "\n",
    "<center>\n",
    "<img src=\"https://github.com/gbdiazc/Images/blob/6998851d3c940565da46ba3aaa1e004a5b05f667/Functions.jpeg?raw=1\" width=\"300\"> \n",
    "</center>\n",
    "\n",
    "\n",
    "\n",
    "## Tipos de funciones\n",
    "\n",
    "Existen 2 tipos de funciones, funciones que pertenecen al lenguaje Python, como print(), input() y funciones definidas por el programador.\n",
    "\n",
    "\n",
    "\n",
    "\n",
    "## Definición de funciones \n",
    "\n",
    "Las funciones pueden tener o no elementos de entrada (inputs) y de salida (outputs). La sintaxis es la siguiente:\n",
    "\\begin{array}{ll} \n",
    "def   & función(input):     \\\\\n",
    "      & \\text{operaciones} \\\\ \n",
    "      & return(output)     \\\\ \n",
    "\\end{array}\n",
    "La *indentación* es muy importante en Python, al crear funciones, estas tienen que estar bien indentadas. \n",
    "\n",
    "1. Las funciones se definen usando la palabra def \n",
    "2. Una función puede tener un nombre que la define de manera única\n",
    "3. Usualmente se definen usando sólo letras mínusculas\n",
    "4. Una función puede tener párametros de entrada. No todas las funciones necesitan tener parámetros de entrada.\n",
    "5. Se utlizan 2 puntos para ':' para indicar el fin del encabezado de la función y el inicio del cuerpo de la función.\n",
    "6. Se puede incluir texto que describa lo que la función realiza.\n",
    "7. Las instrucciones que integran el cuerpo de la función estan indentadas con respecto a la definición de la función.\n"
   ]
  },
  {
   "cell_type": "code",
   "execution_count": null,
   "metadata": {
    "id": "s1dM_1_iVPGn"
   },
   "outputs": [],
   "source": [
    "# Definición de la función\n",
    "def print_msg():\n",
    "    print('Hello World!')"
   ]
  },
  {
   "cell_type": "code",
   "execution_count": null,
   "metadata": {
    "id": "8TTMTmceVPGo"
   },
   "outputs": [],
   "source": [
    "# Uso de la función\n",
    "print_msg()"
   ]
  },
  {
   "cell_type": "code",
   "execution_count": null,
   "metadata": {
    "id": "_8lq4uNIVPGo"
   },
   "outputs": [],
   "source": [
    "# Definición de la función\n",
    "def print_my_msg(msg):\n",
    "    print(msg)"
   ]
  },
  {
   "cell_type": "code",
   "execution_count": null,
   "metadata": {
    "id": "09rTBPESVPGo"
   },
   "outputs": [],
   "source": [
    "# Uso de la función\n",
    "print_my_msg('Hola')"
   ]
  },
  {
   "cell_type": "markdown",
   "metadata": {},
   "source": [
    "**Ejemplo** Realizar una función que se llame suma y realice la sumar de dos números"
   ]
  },
  {
   "cell_type": "code",
   "execution_count": null,
   "metadata": {},
   "outputs": [],
   "source": [
    "def sumar(a, b):\n",
    "    resultado = a + b\n",
    "    return resultado"
   ]
  },
  {
   "cell_type": "code",
   "execution_count": null,
   "metadata": {},
   "outputs": [],
   "source": [
    "x = 5\n",
    "y = 3\n",
    "suma = sumar(x, y)\n",
    "print('La suma es :', suma)\n"
   ]
  },
  {
   "cell_type": "markdown",
   "metadata": {},
   "source": [
    "**Ejercicio** Realizar una función que tenga dos parámetros de entrada, el total de una cuenta y el procentaje de la propina. La función debe regresar el monto total a pagar (incluyendo la porpina)."
   ]
  },
  {
   "cell_type": "code",
   "execution_count": null,
   "metadata": {},
   "outputs": [],
   "source": [
    "def monto_total(cuenta, porcentaje):\n",
    "    total = ((100+porcentaje)/100)*cuenta\n",
    "    return total\n",
    "resultado = monto_total(100,10)\n",
    "print(resultado)\n"
   ]
  },
  {
   "cell_type": "code",
   "execution_count": null,
   "metadata": {},
   "outputs": [],
   "source": [
    "monto_total(1000,10)"
   ]
  },
  {
   "cell_type": "markdown",
   "metadata": {},
   "source": [
    "**Ejemplo** Definición de la función factorial "
   ]
  },
  {
   "cell_type": "code",
   "execution_count": null,
   "metadata": {},
   "outputs": [],
   "source": [
    "#Definición de la función\n",
    "def factorial(n):\n",
    "    fact = 1\n",
    "    for i in range (2,n+1):\n",
    "        fact= fact*i\n",
    "    return fact\n",
    "\n"
   ]
  },
  {
   "cell_type": "code",
   "execution_count": null,
   "metadata": {},
   "outputs": [],
   "source": [
    "#Uso de la función\n",
    "\n",
    "f = factorial(3)\n",
    "print(f)"
   ]
  },
  {
   "cell_type": "markdown",
   "metadata": {},
   "source": [
    "**Ejercicio** Crear una función que lleve por nombre Gauss, que sume los primeros n números enteros"
   ]
  },
  {
   "cell_type": "code",
   "execution_count": null,
   "metadata": {},
   "outputs": [],
   "source": [
    "def Gauss(n):\n",
    "  suma = 0\n",
    "  for n in range(1,n+1):\n",
    "    suma = suma + n\n",
    "  return suma\n",
    "\n",
    "operacion = Gauss(3)\n",
    "print(operacion)"
   ]
  },
  {
   "cell_type": "markdown",
   "metadata": {},
   "source": [
    "**Ejercicio.** Escribe una función que retorne el mayor de 2 números"
   ]
  },
  {
   "cell_type": "code",
   "execution_count": null,
   "metadata": {},
   "outputs": [],
   "source": []
  },
  {
   "cell_type": "markdown",
   "metadata": {
    "id": "XYhpbHYsb5b6"
   },
   "source": [
    "**Ejemplo** Crear una función que obtenga la suma y la multiplicación de 2 números"
   ]
  },
  {
   "cell_type": "code",
   "execution_count": null,
   "metadata": {
    "id": "rEJhpn0xb5b6"
   },
   "outputs": [],
   "source": [
    "def sumandmult(a, b):\n",
    "    sumc = a+b\n",
    "    multc =  a*b\n",
    "    return sumc, multc"
   ]
  },
  {
   "cell_type": "code",
   "execution_count": null,
   "metadata": {},
   "outputs": [],
   "source": [
    "sumc, multc = sumandmult (5,4)"
   ]
  },
  {
   "cell_type": "code",
   "execution_count": null,
   "metadata": {},
   "outputs": [],
   "source": [
    "print('Esta es la suma de a y b: ',sumc)\n",
    "print('Esta es la múltiplicaicón de a y c: ',multc)"
   ]
  },
  {
   "cell_type": "code",
   "execution_count": null,
   "metadata": {},
   "outputs": [],
   "source": [
    "result = sumandmult (5,4)"
   ]
  },
  {
   "cell_type": "code",
   "execution_count": null,
   "metadata": {},
   "outputs": [],
   "source": [
    "print(result)"
   ]
  },
  {
   "cell_type": "markdown",
   "metadata": {},
   "source": [
    "**Ejercicio** Crear una función que regrese el área superfifical y el vólumen de un prisma rectangular. Que tenga como parametros de entrada la dimensión de sus lados."
   ]
  },
  {
   "cell_type": "code",
   "execution_count": null,
   "metadata": {},
   "outputs": [],
   "source": [
    "def area_volumen_prisma(largo_cara, ancho_cara, largo_prisma):\n",
    "  area      = largo_cara * ancho_cara * largo_prisma\n",
    "  perimetro = ((largo_cara + ancho_cara)*4) * (4*largo_prisma)\n",
    "  return area, perimetro"
   ]
  },
  {
   "cell_type": "code",
   "execution_count": null,
   "metadata": {},
   "outputs": [],
   "source": [
    "largo_cara = 10\n",
    "ancho_cara = 20\n",
    "largo_prisma = 50\n",
    "geometria_prisma = area_volumen_prisma(largo_cara, ancho_cara, largo_prisma)\n",
    "print(geo_prisma)\n"
   ]
  },
  {
   "cell_type": "markdown",
   "metadata": {
    "id": "GTWDNxWRVPGt"
   },
   "source": [
    "**Ejemplo** Escribe una función que realice la multiplicación de un vector por un escalar entrada a entrada, es decir\n",
    "\n",
    "$$\\vec{y} = a*\\vec{x} = \\sum_i a*x_i$$\n",
    "\n",
    "Realiza la multiplicación del escalar a = 10, por la lista\n",
    "\n",
    "x = [10, 56, 258, 16, 24, 18, 265, 893, 52, 39, 82]"
   ]
  },
  {
   "cell_type": "code",
   "execution_count": null,
   "metadata": {
    "id": "zMYYpFqVVPGt"
   },
   "outputs": [],
   "source": [
    "def esc_vec(a,x):\n",
    "  y = []\n",
    "  for i in range(len(x)):\n",
    "    y.append(a*x[i])\n",
    "  return y\n",
    "\n",
    "resultado = esc_vec(2, [1,2,3,4,5])\n",
    "print(resultado)"
   ]
  },
  {
   "cell_type": "code",
   "execution_count": null,
   "metadata": {},
   "outputs": [],
   "source": [
    "a = 10\n",
    "x = [10, 56, 258, 16, 24, 18, 265, 893, 52, 39, 82]\n",
    "len(x)\n",
    "y = esc_vec(a,x)\n",
    "print(y)"
   ]
  },
  {
   "cell_type": "markdown",
   "metadata": {
    "id": "67jnxN9JVPGt"
   },
   "source": [
    "**Ejercicio** Escribe una función que realice el producto punto de dos vectores, recuerda que el producto punto se realiza multiplicando entrada a entrada los vectores y sumando el resultado de las multiplicaciones, \n",
    "\n",
    "$$\\vec{u}\\cdot \\vec{v} =  \\sum_i u_iv_i$$\n",
    "\n",
    "Con la función creada obten el producto punto de los siguientes vectores:\n",
    "\n",
    "> x = [1,1,1], y = [1,1,1]\n",
    "\n",
    "> x = [1,0,0,0,0], y = [0,1,0,0,0]"
   ]
  },
  {
   "cell_type": "code",
   "execution_count": null,
   "metadata": {},
   "outputs": [],
   "source": [
    "x = [1, 2, 5]\n",
    "y = [3, 2, 10]"
   ]
  },
  {
   "cell_type": "markdown",
   "metadata": {},
   "source": [
    "1 * 3 = 3 \n",
    "2 * 2 = 4\n",
    "5 *10 = 50\n",
    "resultado = 3 + 4 + 50 = 57"
   ]
  },
  {
   "cell_type": "code",
   "execution_count": null,
   "metadata": {},
   "outputs": [],
   "source": [
    "def dot_product(x, y):\n",
    "  suma = 0                      # suma que ira almacenando todos los valores de cada i en cada producto de ambas listas \n",
    "  long = range(0,len(x))        # numero final de veces que debe realizar el producto punto\n",
    "  for i in long:                # inicio de ciclo for\n",
    "    suma = x[i] * y[i] + suma   # suma de cada i en cada elemento de las dos listas\n",
    "  return suma                   # dato de salida\n",
    "\n",
    "resultado_producto_punto = dot_product(x, y)\n",
    "print(resultado_producto_punto)"
   ]
  },
  {
   "cell_type": "markdown",
   "metadata": {
    "id": "7IgapPeSVPGu"
   },
   "source": [
    "## Parámetros de las funciones "
   ]
  },
  {
   "cell_type": "markdown",
   "metadata": {
    "id": "4oeHjH9LVPGv"
   },
   "source": [
    "Un **parámetro** es una variable que es parte del encabezado de la función y se usa para hacer el dato disponible dentro del cuerpo de la función.\n",
    "\n",
    "Un **argumento** es el valor que pasa a la función, cuando esta es llamada."
   ]
  },
  {
   "cell_type": "code",
   "execution_count": 3,
   "metadata": {
    "id": "0hz_Cg88VPGv"
   },
   "outputs": [],
   "source": [
    "def greeter(name, message):\n",
    "    print('Bienvenida', name, '-', message)"
   ]
  },
  {
   "cell_type": "code",
   "execution_count": 4,
   "metadata": {
    "id": "WU6TGyJyVPGv"
   },
   "outputs": [
    {
     "name": "stdout",
     "output_type": "stream",
     "text": [
      "Bienvenida Isabel - Este es el curso de python\n"
     ]
    }
   ],
   "source": [
    "greeter('Isabel', 'Este es el curso de python')"
   ]
  },
  {
   "cell_type": "markdown",
   "metadata": {},
   "source": [
    "## Parámetros por default"
   ]
  },
  {
   "cell_type": "code",
   "execution_count": 9,
   "metadata": {
    "id": "EyF9NNnZVPGv"
   },
   "outputs": [],
   "source": [
    "def greeter1(name, message = 'Saludos!', age = 19):\n",
    "    print('Bienvenida', name, '-', message, age)"
   ]
  },
  {
   "cell_type": "code",
   "execution_count": 13,
   "metadata": {
    "id": "TvnKDs1AVPGv"
   },
   "outputs": [
    {
     "name": "stdout",
     "output_type": "stream",
     "text": [
      "Bienvenida Isabel - hola 45\n"
     ]
    }
   ],
   "source": [
    "greeter1('Isabel', 'hola', 45)"
   ]
  },
  {
   "cell_type": "code",
   "execution_count": 8,
   "metadata": {},
   "outputs": [
    {
     "name": "stdout",
     "output_type": "stream",
     "text": [
      "Bienvenida Isabel - ¿Cómo estás?\n"
     ]
    }
   ],
   "source": [
    "greeter1('Isabel', '¿Cómo estás?')"
   ]
  },
  {
   "cell_type": "markdown",
   "metadata": {
    "id": "j6PK8oebVPGv"
   },
   "source": [
    "**Nota** Todos los parámetros pueden tener un valor por default, sin embargo una vez que un parámetro tiene un valor default, los demás parámetros a la derecha, tienen que tener valores por default."
   ]
  },
  {
   "cell_type": "markdown",
   "metadata": {
    "id": "u8--8rnkVPGv"
   },
   "source": [
    "La posición de un valor dentro de los argumentos de la función, determina a que parámetro este valor es asignado. Sin embargo, si una función tiene demasiados parámetros, será más dificil usar solo la posición para saber que un valor se le esta asignando al parámetro deseado"
   ]
  },
  {
   "cell_type": "markdown",
   "metadata": {},
   "source": [
    "**Ejercicio** Definir una función que calcule el precio total de un producto que reciba 2 parámetros. \n",
    "1. El precio base del producto sin impuesto. \n",
    "2. El impuesto del producto en porcentaje. Nota considerar un impuesto por defecto del 16%"
   ]
  },
  {
   "cell_type": "code",
   "execution_count": 37,
   "metadata": {},
   "outputs": [
    {
     "name": "stdout",
     "output_type": "stream",
     "text": [
      "El precio final del producto es $29.58\n"
     ]
    }
   ],
   "source": [
    "def precio_total(precio, impuesto = 16):\n",
    "    precio_total = round(float(precio * ((impuesto+100)/100)),3)\n",
    "    return precio_total\n",
    "\n",
    "por_cobrar = precio_total(25.5)\n",
    "print(f'El precio final del producto es ${por_cobrar}')\n"
   ]
  },
  {
   "cell_type": "markdown",
   "metadata": {},
   "source": [
    "## Orden de los párametros de entrada"
   ]
  },
  {
   "cell_type": "code",
   "execution_count": 14,
   "metadata": {},
   "outputs": [],
   "source": [
    "def greeter2(name,\n",
    "    title ,\n",
    "    prompt ,\n",
    "    message ):\n",
    "    print(prompt, title, name, '-', message)"
   ]
  },
  {
   "cell_type": "code",
   "execution_count": 15,
   "metadata": {},
   "outputs": [
    {
     "name": "stdout",
     "output_type": "stream",
     "text": [
      "Hola Sr Carlos - Bienvenido\n"
     ]
    }
   ],
   "source": [
    "greeter2('Carlos','Sr','Hola', 'Bienvenido') "
   ]
  },
  {
   "cell_type": "code",
   "execution_count": 16,
   "metadata": {},
   "outputs": [
    {
     "name": "stdout",
     "output_type": "stream",
     "text": [
      "Hola Sr. Carlos - Bienvenido\n"
     ]
    }
   ],
   "source": [
    "greeter2(message = 'Bienvenido', name = 'Carlos', title='Sr.', prompt='Hola')"
   ]
  },
  {
   "cell_type": "code",
   "execution_count": 47,
   "metadata": {
    "id": "ZKT9nwsYVPGv"
   },
   "outputs": [],
   "source": [
    "def greeter3(name,\n",
    "    title = 'Dr.',\n",
    "    prompt = 'Hola',\n",
    "    message = 'Bienvenido'):\n",
    "    print(prompt, title, name, '-', message)"
   ]
  },
  {
   "cell_type": "code",
   "execution_count": 48,
   "metadata": {
    "id": "-4SdsflJVPGw"
   },
   "outputs": [
    {
     "name": "stdout",
     "output_type": "stream",
     "text": [
      "Hola Dr. Carlos - Saludos\n"
     ]
    }
   ],
   "source": [
    "greeter3('Carlos', message = 'Saludos')"
   ]
  },
  {
   "cell_type": "code",
   "execution_count": 50,
   "metadata": {
    "id": "zYandtIwVPGw"
   },
   "outputs": [
    {
     "name": "stdout",
     "output_type": "stream",
     "text": [
      "Hola Dr Javier - ¿Cómo estás?\n"
     ]
    }
   ],
   "source": [
    "greeter3('Javier', 'Dr','Hola', '¿Cómo estás?')"
   ]
  },
  {
   "cell_type": "markdown",
   "metadata": {
    "id": "3pOUA2_7VPGw"
   },
   "source": [
    "## Argumentos indeterminados\n",
    "\n",
    "En ciertos casos no se sabe cuantos argumentos usará una función cuando se llame. Python permite pasar un número indeterminado de argumentos en la función y operar con ellos dentro del cuerpo de la función."
   ]
  },
  {
   "cell_type": "code",
   "execution_count": 53,
   "metadata": {
    "id": "DCr2d6TcVPGy"
   },
   "outputs": [],
   "source": [
    "def my_sum(x,y):\n",
    "    return x+y"
   ]
  },
  {
   "cell_type": "code",
   "execution_count": 54,
   "metadata": {
    "id": "kNeOlRJ5VPGy"
   },
   "outputs": [
    {
     "data": {
      "text/plain": [
       "11"
      ]
     },
     "execution_count": 54,
     "metadata": {},
     "output_type": "execute_result"
    }
   ],
   "source": [
    "my_sum(6,5)"
   ]
  },
  {
   "cell_type": "code",
   "execution_count": 55,
   "metadata": {
    "id": "EoJCpmUWVPGy"
   },
   "outputs": [
    {
     "ename": "TypeError",
     "evalue": "my_sum() takes 2 positional arguments but 3 were given",
     "output_type": "error",
     "traceback": [
      "\u001b[31m---------------------------------------------------------------------------\u001b[39m",
      "\u001b[31mTypeError\u001b[39m                                 Traceback (most recent call last)",
      "\u001b[36mCell\u001b[39m\u001b[36m \u001b[39m\u001b[32mIn[55]\u001b[39m\u001b[32m, line 1\u001b[39m\n\u001b[32m----> \u001b[39m\u001b[32m1\u001b[39m my_sum(\u001b[32m6\u001b[39m,\u001b[32m5\u001b[39m,\u001b[32m3\u001b[39m)\n",
      "\u001b[31mTypeError\u001b[39m: my_sum() takes 2 positional arguments but 3 were given"
     ]
    }
   ],
   "source": [
    "my_sum(6,5,3)"
   ]
  },
  {
   "cell_type": "code",
   "execution_count": 65,
   "metadata": {
    "id": "iiGhhiVmVPGy"
   },
   "outputs": [],
   "source": [
    "def my_sum_args(*args):\n",
    "    value = 0\n",
    "    for n in args:\n",
    "        value += n\n",
    "    return value"
   ]
  },
  {
   "cell_type": "code",
   "execution_count": 66,
   "metadata": {
    "id": "LVGqUbFVVPGy"
   },
   "outputs": [
    {
     "data": {
      "text/plain": [
       "0"
      ]
     },
     "execution_count": 66,
     "metadata": {},
     "output_type": "execute_result"
    }
   ],
   "source": [
    "my_sum_args()"
   ]
  },
  {
   "cell_type": "code",
   "execution_count": 67,
   "metadata": {
    "id": "Lf4BCEfHVPGz"
   },
   "outputs": [
    {
     "data": {
      "text/plain": [
       "15"
      ]
     },
     "execution_count": 67,
     "metadata": {},
     "output_type": "execute_result"
    }
   ],
   "source": [
    "my_sum_args(6,9)"
   ]
  },
  {
   "cell_type": "code",
   "execution_count": 68,
   "metadata": {
    "id": "zZACnRNYVPGz"
   },
   "outputs": [
    {
     "data": {
      "text/plain": [
       "20"
      ]
     },
     "execution_count": 68,
     "metadata": {},
     "output_type": "execute_result"
    }
   ],
   "source": [
    "my_sum_args(6,9,5)"
   ]
  },
  {
   "cell_type": "markdown",
   "metadata": {},
   "source": [
    "**Ejercicio** Crea una función con un número de argumentos indeterminados, en donde ingreses los nombres de las personas que quieras saludar y que imprima el saludo, e.g. \n",
    "\n",
    "Hola Gaby!\n",
    "\n",
    "Hola Luis!"
   ]
  },
  {
   "cell_type": "code",
   "execution_count": 78,
   "metadata": {},
   "outputs": [],
   "source": [
    "def saludo(*args):\n",
    "    for nombre in args:\n",
    "        print(f'Hola {nombre}!')"
   ]
  },
  {
   "cell_type": "code",
   "execution_count": 79,
   "metadata": {},
   "outputs": [
    {
     "name": "stdout",
     "output_type": "stream",
     "text": [
      "Hola Roberto!\n",
      "Hola Luis!\n",
      "Hola Robert!\n",
      "Hola Maria!\n"
     ]
    }
   ],
   "source": [
    "saludo('Roberto', 'Luis', 'Robert', 'Maria')"
   ]
  },
  {
   "cell_type": "markdown",
   "metadata": {
    "id": "2g9CH-5rVPGz"
   },
   "source": [
    "## Agumentos keywords"
   ]
  },
  {
   "cell_type": "code",
   "execution_count": null,
   "metadata": {},
   "outputs": [],
   "source": []
  },
  {
   "cell_type": "markdown",
   "metadata": {},
   "source": [
    "En python *\\* kwargs permite a las funciones recibir un número variable de argumentos de tipo (clave valor)"
   ]
  },
  {
   "cell_type": "code",
   "execution_count": 69,
   "metadata": {
    "id": "ThWt0orUVPGz"
   },
   "outputs": [],
   "source": [
    "def my_function_kargs(**kwargs):\n",
    "    for key in kwargs.keys():\n",
    "        print('key:', key, 'has value: ', kwargs[key])"
   ]
  },
  {
   "cell_type": "code",
   "execution_count": 73,
   "metadata": {
    "id": "b9dPQj-GVPG0"
   },
   "outputs": [
    {
     "name": "stdout",
     "output_type": "stream",
     "text": [
      "key: daughter has value:  Phoebe\n",
      "key: son has value:  Adam\n"
     ]
    }
   ],
   "source": [
    "my_function_kargs(daughter='Phoebe', son='Adam')"
   ]
  },
  {
   "cell_type": "code",
   "execution_count": 113,
   "metadata": {
    "id": "gB18ViALVPG0"
   },
   "outputs": [],
   "source": [
    "def my_function_kargs2(c, **kwargs):\n",
    "    for key in kwargs.keys():\n",
    "        print('key:', key, 'has value: ', kwargs[key]+c)"
   ]
  },
  {
   "cell_type": "code",
   "execution_count": 114,
   "metadata": {
    "id": "-NwVMqd1VPG0"
   },
   "outputs": [
    {
     "name": "stdout",
     "output_type": "stream",
     "text": [
      "key: daughter has value:  15\n",
      "key: son has value:  13\n"
     ]
    }
   ],
   "source": [
    "my_function_kargs2(10, daughter=5, son=3)"
   ]
  },
  {
   "cell_type": "markdown",
   "metadata": {
    "id": "VD0J69Y0VPG0"
   },
   "source": [
    "**Ejercicio** Crea una función con argumentos indeterminados con valor determinado (keyword) y que imprima el nombre de la variable y el valor (key : kyword) usa esta funcion usando como entradas el nombre, la edad y el correo de una persona, de salida tienes que obtener\n",
    "\n",
    "nombre :  Gaby\n",
    "\n",
    "edad :  36\n",
    "\n",
    "correo :  gbdiaz@imp.mx\n"
   ]
  },
  {
   "cell_type": "code",
   "execution_count": null,
   "metadata": {
    "id": "6q5bD9LmVPG1"
   },
   "outputs": [],
   "source": [
    "def datos(**kwargs):\n",
    "    for key,word in kwargs.keys():\n",
    "        print(f'{kwargs.key}: kwargs{kwargs.word}')\n"
   ]
  },
  {
   "cell_type": "code",
   "execution_count": 156,
   "metadata": {},
   "outputs": [
    {
     "name": "stdout",
     "output_type": "stream",
     "text": [
      "{'nombre': 'Gaby', 'edad': '36', 'correo': 'gbdiaz@imp.mx'}\n"
     ]
    }
   ],
   "source": [
    "dicc = {'nombre': 'Gaby',\n",
    "        'edad': '36',\n",
    "        'correo': 'gbdiaz@imp.mx'}\n",
    "print(dicc)"
   ]
  },
  {
   "cell_type": "markdown",
   "metadata": {
    "id": "RAG3To1zVPG1"
   },
   "source": [
    "## Funciones anónimas\n",
    "\n",
    "Sí necesitamos usar una función que solo se usará una vez, no es necesario asignarle un nombre en específico. Es posible definir una función anónima, y que se usa en el momento en que es definida. Las funciones anónimas se definen con la keyword lambda y por eso a este tipo de funciones se les conoce como funciones lambda.\n",
    "\n",
    "**lambda** arguments : expression"
   ]
  },
  {
   "cell_type": "code",
   "execution_count": 159,
   "metadata": {
    "id": "MDGMM107VPG1"
   },
   "outputs": [],
   "source": [
    "square = lambda i : i*i"
   ]
  },
  {
   "cell_type": "code",
   "execution_count": 160,
   "metadata": {
    "id": "FOwiKyM6VPG1"
   },
   "outputs": [
    {
     "data": {
      "text/plain": [
       "25"
      ]
     },
     "execution_count": 160,
     "metadata": {},
     "output_type": "execute_result"
    }
   ],
   "source": [
    "square(5)"
   ]
  },
  {
   "cell_type": "markdown",
   "metadata": {
    "id": "T4AriOpjVPG1"
   },
   "source": [
    "## Variables locales y variables globales\n",
    "\n",
    "Las **variables globales** son accesiles desde cualquier parte del programa.\n",
    "\n",
    "Las **variables locales** se definen dentro del cuerpo de las funciones y no son accesibles o visibles afuera de la función. Las **variables locales** son de gran ayuda pare desarrollar un código modular, que se ha probado que es más fácil de mantener desarrollar y probar.\n",
    "\n",
    "\n",
    "Usualmente los desarrolladores tatan de minimizar el número de variables globales en sus programas dado que se puede acceder y modificar desde cualquier parte del cuerpo del programa y esto puede resultar en comportamientos inesperados del programa"
   ]
  },
  {
   "cell_type": "markdown",
   "metadata": {
    "id": "k6DXEx6dVPG1"
   },
   "source": [
    "## Variables locales"
   ]
  },
  {
   "cell_type": "code",
   "execution_count": 162,
   "metadata": {
    "id": "B2sJhZ8MVPG1"
   },
   "outputs": [],
   "source": [
    "def my_function():\n",
    "    a_variable = 100\n",
    "    print(a_variable)"
   ]
  },
  {
   "cell_type": "code",
   "execution_count": 163,
   "metadata": {
    "id": "teLgj5FKVPG1"
   },
   "outputs": [
    {
     "name": "stdout",
     "output_type": "stream",
     "text": [
      "100\n"
     ]
    }
   ],
   "source": [
    "my_function()"
   ]
  },
  {
   "cell_type": "code",
   "execution_count": 164,
   "metadata": {
    "id": "FnzpxrnzVPG1"
   },
   "outputs": [
    {
     "name": "stdout",
     "output_type": "stream",
     "text": [
      "100\n"
     ]
    },
    {
     "ename": "NameError",
     "evalue": "name 'a_variable' is not defined",
     "output_type": "error",
     "traceback": [
      "\u001b[31m---------------------------------------------------------------------------\u001b[39m",
      "\u001b[31mNameError\u001b[39m                                 Traceback (most recent call last)",
      "\u001b[36mCell\u001b[39m\u001b[36m \u001b[39m\u001b[32mIn[164]\u001b[39m\u001b[32m, line 2\u001b[39m\n\u001b[32m      1\u001b[39m my_function()\n\u001b[32m----> \u001b[39m\u001b[32m2\u001b[39m \u001b[38;5;28mprint\u001b[39m(a_variable)\n",
      "\u001b[31mNameError\u001b[39m: name 'a_variable' is not defined"
     ]
    }
   ],
   "source": [
    "my_function()\n",
    "print(a_variable)"
   ]
  },
  {
   "cell_type": "code",
   "execution_count": 165,
   "metadata": {
    "id": "6S9bWlXuVPG2"
   },
   "outputs": [
    {
     "name": "stdout",
     "output_type": "stream",
     "text": [
      "100\n",
      "25\n"
     ]
    }
   ],
   "source": [
    "a_variable = 25\n",
    "my_function()\n",
    "print(a_variable)"
   ]
  },
  {
   "cell_type": "markdown",
   "metadata": {
    "id": "vEo7kw19VPG3"
   },
   "source": [
    "## Variables Globales"
   ]
  },
  {
   "cell_type": "code",
   "execution_count": 166,
   "metadata": {
    "id": "XzvSOx4_VPG3"
   },
   "outputs": [
    {
     "name": "stdout",
     "output_type": "stream",
     "text": [
      "100\n"
     ]
    }
   ],
   "source": [
    "max = 100\n",
    "def print_max():\n",
    "    print(max)\n",
    "print_max()"
   ]
  },
  {
   "cell_type": "code",
   "execution_count": 167,
   "metadata": {
    "id": "K_CucvWVVPG4"
   },
   "outputs": [
    {
     "ename": "UnboundLocalError",
     "evalue": "cannot access local variable 'max' where it is not associated with a value",
     "output_type": "error",
     "traceback": [
      "\u001b[31m---------------------------------------------------------------------------\u001b[39m",
      "\u001b[31mUnboundLocalError\u001b[39m                         Traceback (most recent call last)",
      "\u001b[36mCell\u001b[39m\u001b[36m \u001b[39m\u001b[32mIn[167]\u001b[39m\u001b[32m, line 4\u001b[39m\n\u001b[32m      2\u001b[39m     \u001b[38;5;28mmax\u001b[39m = \u001b[38;5;28mmax\u001b[39m + \u001b[32m1\u001b[39m\n\u001b[32m      3\u001b[39m     \u001b[38;5;28mprint\u001b[39m(\u001b[38;5;28mmax\u001b[39m)\n\u001b[32m----> \u001b[39m\u001b[32m4\u001b[39m print_max()\n",
      "\u001b[36mCell\u001b[39m\u001b[36m \u001b[39m\u001b[32mIn[167]\u001b[39m\u001b[32m, line 2\u001b[39m, in \u001b[36mprint_max\u001b[39m\u001b[34m()\u001b[39m\n\u001b[32m      1\u001b[39m \u001b[38;5;28;01mdef\u001b[39;00m\u001b[38;5;250m \u001b[39m\u001b[34mprint_max\u001b[39m():\n\u001b[32m----> \u001b[39m\u001b[32m2\u001b[39m     \u001b[38;5;28mmax\u001b[39m = \u001b[38;5;28mmax\u001b[39m + \u001b[32m1\u001b[39m\n\u001b[32m      3\u001b[39m     \u001b[38;5;28mprint\u001b[39m(\u001b[38;5;28mmax\u001b[39m)\n",
      "\u001b[31mUnboundLocalError\u001b[39m: cannot access local variable 'max' where it is not associated with a value"
     ]
    }
   ],
   "source": [
    "def print_max():\n",
    "    max = max + 1\n",
    "    print(max)\n",
    "print_max()"
   ]
  },
  {
   "cell_type": "code",
   "execution_count": 168,
   "metadata": {
    "id": "MtN1AP_iVPG4"
   },
   "outputs": [],
   "source": [
    "def print_max():\n",
    "    global max\n",
    "    max = max + 1\n",
    "    print(max)"
   ]
  },
  {
   "cell_type": "code",
   "execution_count": 169,
   "metadata": {
    "id": "d8R58HCxVPG4"
   },
   "outputs": [
    {
     "name": "stdout",
     "output_type": "stream",
     "text": [
      "101\n",
      "101\n"
     ]
    }
   ],
   "source": [
    "print_max()\n",
    "print(max)"
   ]
  },
  {
   "cell_type": "markdown",
   "metadata": {
    "id": "NjQxshbtVPG5"
   },
   "source": [
    "**Ejercicio Calculadora**  Construye una función que lea una operacion y dos variables y que imprima los valores de entrada, la operación, el resultado y de como salida la operación seleccionada, e.g.\n",
    "\n",
    "```python\n",
    "calculadora()\n",
    "```\n",
    "\n",
    "```\n",
    "Da el primer numero:\n",
    "2\n",
    "Da el segundo:\n",
    "2\n",
    "Da la operación:\n",
    "*\n",
    "2*2= 4.0\n",
    "```"
   ]
  },
  {
   "cell_type": "code",
   "execution_count": null,
   "metadata": {},
   "outputs": [],
   "source": [
    "def calculadora():\n",
    "    primer_numero  = int(input('primer numero: '))\n",
    "    segundo_numero = int(input('segundo numero: '))\n",
    "    operacion = input('operacion: ')\n",
    "    if operacion == '+':\n",
    "        suma = primer_numero + segundo_numero\n",
    "        print(f'resultado: {primer_numero} + {segundo_numero} = {suma}')\n",
    "    elif operacion == '-':\n",
    "        resta = primer_numero - segundo_numero\n",
    "        print(f'resultado: {primer_numero} - {segundo_numero} = {resta}')\n",
    "\n",
    "\n"
   ]
  },
  {
   "cell_type": "code",
   "execution_count": 191,
   "metadata": {},
   "outputs": [
    {
     "name": "stdout",
     "output_type": "stream",
     "text": [
      "resultado: 2 + 6 = -4\n"
     ]
    }
   ],
   "source": [
    "calculadora()"
   ]
  },
  {
   "cell_type": "code",
   "execution_count": null,
   "metadata": {},
   "outputs": [],
   "source": []
  }
 ],
 "metadata": {
  "colab": {
   "provenance": []
  },
  "kernelspec": {
   "display_name": "python_curso_IMP",
   "language": "python",
   "name": "python3"
  },
  "language_info": {
   "codemirror_mode": {
    "name": "ipython",
    "version": 3
   },
   "file_extension": ".py",
   "mimetype": "text/x-python",
   "name": "python",
   "nbconvert_exporter": "python",
   "pygments_lexer": "ipython3",
   "version": "3.12.11"
  }
 },
 "nbformat": 4,
 "nbformat_minor": 4
}
