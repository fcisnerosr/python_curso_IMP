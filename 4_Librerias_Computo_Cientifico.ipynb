{
 "cells": [
  {
   "cell_type": "markdown",
   "id": "TzJ4wQ6xhSzh",
   "metadata": {
    "id": "TzJ4wQ6xhSzh"
   },
   "source": [
    "<div style=\"background-color:#f2f2f2; border-left: 8px solid #2e8b57; padding: 20px; border-radius: 10px; font-family: Arial, sans-serif;\">\n",
    "\n",
    "<center>\n",
    "\n",
    "<h1 style=\"color:#2e8b57;\">Introducción a la programación en Python</h1>\n",
    "<h2 style=\"color:#2e8b57;\">Instituto Mexicano del Petróleo</h2>\n",
    "\n",
    "<p style=\"font-size:16px; color:#333;\">\n",
    "<strong>Dra. Gabriela Berenice Díaz Cortés</strong><br>\n",
    "<em>gbdiaz@imp.mx</em>\n",
    "</p>\n",
    "\n",
    "<p style=\"font-size:16px; color:#333;\">\n",
    "<strong>Dr. Luis Antonio López Peña</strong><br>\n",
    "<em>llopezp@imp.mx</em>\n",
    "</p>\n",
    "\n",
    "<p style=\"font-size:15px; color:#555;\">\n",
    "Dirección de Investigación <br>\n",
    "Gerencia de Investigación en Explotación\n",
    "</p>\n",
    "\n",
    "</center>\n",
    "\n",
    "</div>\n"
   ]
  },
  {
   "cell_type": "markdown",
   "id": "50a5c995",
   "metadata": {
    "id": "50a5c995"
   },
   "source": [
    "# Librerías\n",
    "Como se mencionó anteriormente, las librerias son conjuntos de funciones específicas, algunas de ellas son:\n",
    "\n",
    "<img src=\"https://github.com/gbdiazc/Images/blob/f2031a840a330db98a65ac392e85a34acd040904/wrapper.png?raw=1\" width=\"600\">\n",
    "    \n",
    "\n",
    "## Instalación de librerías en equipo local\n",
    "Se puede crear el **entorno virtual** instalando desde la creación las librerías o crear el entorno virtual e ir añadiendo las librerías. Por temas de compatibilidad es recomendado crear el environment con todas las librerías requeridas.\n",
    "\n",
    "En windows o linux se abre la terminal (*Anaconda Prompt* en windows), y se siguen los siguientes pasos:\n",
    "\n",
    "\n",
    "Crear entorno virtual con librerías: \n",
    "\n",
    "`\\$conda create -n my_env python=3.5 numpy sympy`\n",
    "\n",
    "<img src=\"https://github.com/gbdiazc/Images/blob/933cad2a83e4b2ca815eea6dbf80faedc77e7f33/anaconda_promt.png?raw=1\" width=\"600\">\n",
    "\n",
    "Para revisar qué entornos se han creado con Conda, se puede usar el comando \n",
    "\n",
    "`conda env list` o `conda info --envs`\n",
    "\n",
    "Activar entorno virtual:\n",
    "\n",
    "`\\$conda activate my_env`\n",
    "\n",
    "Para revisar las librerías disponibles en un entorno, puedes usar\n",
    "\n",
    "`conda list`\n",
    "\n",
    "Instalar más librerías:\n",
    "\n",
    "`(my_env)\\$conda install sympy`\n",
    "\n",
    "Instalar jupyter-notebook:\n",
    "\n",
    "`(my_env)\\$conda install -c conda-forge jupyterlab`\n",
    "\n",
    "Abrir jupyter-notebook:\n",
    "\n",
    "`(my_env)\\$jupyter-notebook`\n",
    "\n",
    "\n",
    "\n",
    "## Instalar librerías en Anaconda navigator\n",
    "\n",
    "Se selecciona el entorno virtual y se buscan las librerías requeridas\n",
    "\n",
    "<img src=\"https://github.com/gbdiazc/Images/blob/6a8676672527a82efef51a8598ffd84c9255b71c/libreria.png?raw=1\" width=\"600\">\n",
    "    \n",
    "\n",
    "Se instalan las librerías requeridas\n",
    "\n",
    "<img src=\"https://github.com/gbdiazc/Images/blob/4a3ec3fde040e6181b82be8d9382c7321e031b43/install_libreria.png?raw=1\" width=\"600\">\n",
    "\n",
    "## Sympy\n",
    "\n",
    "Para llamar la librería de cálculo simbolico [sympy], esta se importa como sigue \n",
    "\n",
    "\\begin{array}{llL} \n",
    "import  & \\text{sympy }            &    as &   \\text{ sp}\\\\ \n",
    "\\end{array}\n",
    "\n",
    "Su propósito es realizar cálculos de manera simbolica, es decir con variables que no tienen un valor definido de la forma mas sencilla posible, estas variables simbolicas se tienen que declarar de forma explícita.\n",
    "\n",
    "Esta librería es capas de simplificar expresiones, calcular derivadas, integrales, limites, resolver ecuaciones, trabajar con matrices, etc.\n",
    "\n",
    "[sympy]: https://www.sympy.org/en/index.html\n"
   ]
  },
  {
   "cell_type": "code",
   "execution_count": 11,
   "id": "733bd054",
   "metadata": {
    "id": "733bd054"
   },
   "outputs": [
    {
     "data": {
      "text/latex": [
       "$\\displaystyle x + 2 y$"
      ],
      "text/plain": [
       "x + 2*y"
      ]
     },
     "execution_count": 11,
     "metadata": {},
     "output_type": "execute_result"
    }
   ],
   "source": [
    "from sympy import symbols, factor, simplify,expand\n",
    "x, y = symbols('x y')\n",
    "expr = x + 2*y\n",
    "expr\n"
   ]
  },
  {
   "cell_type": "code",
   "execution_count": 12,
   "id": "3c3c2002",
   "metadata": {
    "id": "3c3c2002"
   },
   "outputs": [
    {
     "data": {
      "text/latex": [
       "$\\displaystyle x + 2 y + 1$"
      ],
      "text/plain": [
       "x + 2*y + 1"
      ]
     },
     "execution_count": 12,
     "metadata": {},
     "output_type": "execute_result"
    }
   ],
   "source": [
    "expr + 1"
   ]
  },
  {
   "cell_type": "code",
   "execution_count": 13,
   "id": "f6168bad",
   "metadata": {
    "id": "f6168bad"
   },
   "outputs": [
    {
     "data": {
      "text/latex": [
       "$\\displaystyle 2 y$"
      ],
      "text/plain": [
       "2*y"
      ]
     },
     "execution_count": 13,
     "metadata": {},
     "output_type": "execute_result"
    }
   ],
   "source": [
    "expr - x"
   ]
  },
  {
   "cell_type": "code",
   "execution_count": 14,
   "id": "32146406",
   "metadata": {
    "id": "32146406"
   },
   "outputs": [
    {
     "data": {
      "text/latex": [
       "$\\displaystyle x \\left(x + 2 y\\right)$"
      ],
      "text/plain": [
       "x*(x + 2*y)"
      ]
     },
     "execution_count": 14,
     "metadata": {},
     "output_type": "execute_result"
    }
   ],
   "source": [
    "x*expr"
   ]
  },
  {
   "cell_type": "code",
   "execution_count": 15,
   "id": "bb48b894-16c2-4960-b2c4-689b1eea41b8",
   "metadata": {},
   "outputs": [
    {
     "name": "stdout",
     "output_type": "stream",
     "text": [
      "2*x*(x + 2*y) + 2*y*(x + 2*y)\n"
     ]
    }
   ],
   "source": [
    "expr1 = 2*x*expr+2*y*expr\n",
    "print(expr1)\n"
   ]
  },
  {
   "cell_type": "code",
   "execution_count": 16,
   "id": "f73abe3f-a6df-4dfd-b237-4ca20a5b7367",
   "metadata": {},
   "outputs": [
    {
     "data": {
      "text/latex": [
       "$\\displaystyle 2 \\left(x + y\\right) \\left(x + 2 y\\right)$"
      ],
      "text/plain": [
       "2*(x + y)*(x + 2*y)"
      ]
     },
     "execution_count": 16,
     "metadata": {},
     "output_type": "execute_result"
    }
   ],
   "source": [
    "simplify(expr1)"
   ]
  },
  {
   "cell_type": "code",
   "execution_count": 17,
   "id": "1d74d1c2-285b-4ac9-91a9-2494e2a2b0c0",
   "metadata": {},
   "outputs": [
    {
     "data": {
      "text/latex": [
       "$\\displaystyle 2 \\left(x + y\\right) \\left(x + 2 y\\right)$"
      ],
      "text/plain": [
       "2*(x + y)*(x + 2*y)"
      ]
     },
     "execution_count": 17,
     "metadata": {},
     "output_type": "execute_result"
    }
   ],
   "source": [
    "factor(expr1) "
   ]
  },
  {
   "cell_type": "code",
   "execution_count": 20,
   "id": "d43a0d33-0925-4054-b8c9-a390a398e09e",
   "metadata": {},
   "outputs": [
    {
     "data": {
      "text/latex": [
       "$\\displaystyle 2 x^{2} + 6 x y + 4 y^{2}$"
      ],
      "text/plain": [
       "2*x**2 + 6*x*y + 4*y**2"
      ]
     },
     "execution_count": 20,
     "metadata": {},
     "output_type": "execute_result"
    }
   ],
   "source": [
    "expand(expr1)"
   ]
  },
  {
   "cell_type": "code",
   "execution_count": 21,
   "id": "6cdb9fcd-5d2c-4e41-9cc8-ce2846999303",
   "metadata": {},
   "outputs": [
    {
     "name": "stdout",
     "output_type": "stream",
     "text": [
      "Expresión original: x**2 + x*y + 2*x + y + 1\n",
      "Expresión factorizada con factor(): (x + 1)*(x + y + 1)\n"
     ]
    }
   ],
   "source": [
    "x, y = symbols('x y')\n",
    "expr = x**2 + 2*x + 1 + y*x + y \n",
    "factored_expr = factor(expr)\n",
    "print(\"Expresión original:\", expr)\n",
    "print(\"Expresión factorizada con factor():\", factored_expr)\n"
   ]
  },
  {
   "cell_type": "code",
   "execution_count": 23,
   "id": "5082e35b-3bd0-4b57-9598-478cc65c6468",
   "metadata": {},
   "outputs": [
    {
     "name": "stdout",
     "output_type": "stream",
     "text": [
      "Expresión original: x**2 + x*y + 2*x + y + 1\n",
      "Expresión simplificada con simplify(): x**2 + x*y + 2*x + y + 1\n"
     ]
    }
   ],
   "source": [
    "simplified_expr = simplify(expr)\n",
    "print(\"Expresión original:\", expr)\n",
    "print(\"Expresión simplificada con simplify():\", simplified_expr)"
   ]
  },
  {
   "cell_type": "markdown",
   "id": "lt7hhJ0p5gJe",
   "metadata": {
    "id": "lt7hhJ0p5gJe"
   },
   "source": [
    "**Ejercicio**\n",
    "Crea las siguientes variables de manera simbólica\n",
    "\n",
    "$z = 3x + 8y + 2xy + x^2 + y^2$\n",
    "\n",
    "$w = 7x + 2y + 2xy + x^2 + y^2$\n",
    "\n",
    "suma ambas expresiones y simplificalas\n"
   ]
  },
  {
   "cell_type": "code",
   "execution_count": 40,
   "id": "AWf0HDS_6zpT",
   "metadata": {
    "id": "AWf0HDS_6zpT"
   },
   "outputs": [
    {
     "data": {
      "text/latex": [
       "$\\displaystyle 2 x^{2} + 4 x y + 10 x + 2 y^{2} + 10 y$"
      ],
      "text/plain": [
       "2*x**2 + 4*x*y + 10*x + 2*y**2 + 10*y"
      ]
     },
     "execution_count": 40,
     "metadata": {},
     "output_type": "execute_result"
    }
   ],
   "source": [
    "from sympy import symbols, factor, simplify,expand\n",
    "x, y = symbols('x y')\n",
    "z = 3*x + 8*y + 2*x*y + x**2 + y**2\n",
    "w = 7*x + 2*y + 2*x*y + x**2 + y**2\n",
    "expr = z + w\n",
    "expr"
   ]
  },
  {
   "cell_type": "code",
   "execution_count": 42,
   "id": "ff25061b-6b96-4af3-b94c-592f7e53b70c",
   "metadata": {},
   "outputs": [
    {
     "data": {
      "text/latex": [
       "$\\displaystyle 2 x^{2} + 4 x y + 10 x + 2 y^{2} + 10 y$"
      ],
      "text/plain": [
       "2*x**2 + 4*x*y + 10*x + 2*y**2 + 10*y"
      ]
     },
     "execution_count": 42,
     "metadata": {},
     "output_type": "execute_result"
    }
   ],
   "source": [
    "simplify(expr)"
   ]
  },
  {
   "cell_type": "markdown",
   "id": "1d8477d4",
   "metadata": {
    "id": "1d8477d4"
   },
   "source": [
    "\n",
    "## Numpy \n",
    "\n",
    "\n",
    "Con la librería de [numpy] se pueden crear vectores y matrices de la siguiente forma:\n",
    "\n",
    "\n",
    "* Vector con N entradas \n",
    "\n",
    "    `x = np.array([1, 2, ..., N])`\n",
    "\n",
    "* Vector en un intervalo dado [init,fin] en pasos de tamaño step, si el paso es 1 se puede omitir el step \n",
    "\n",
    "    `x = np.array(init,fin,step) `\n",
    "\n",
    "    `x = np.array(init,fin)` \n",
    " \n",
    "* Vector con N ceros    \n",
    "\n",
    "    `x = np.zeros(N)`\n",
    "\n",
    "\n",
    "* Vector con N unos  \n",
    "\n",
    "   ` x = np.ones(N)`\n",
    "    \n",
    "    \n",
    "* Matriz con (N,N) entradas \n",
    "\n",
    "   `A = np.array(([1, 2, ..., N],[1, 2, ..., N],[1, 2, ..., N],[1, 2, ..., N]))`\n",
    "\n",
    "[numpy]: https://www.numpy.org/devdocs/user/quickstart.html"
   ]
  },
  {
   "cell_type": "code",
   "execution_count": null,
   "id": "8c8b28b3",
   "metadata": {
    "id": "8c8b28b3"
   },
   "outputs": [],
   "source": [
    "# Ejemplos\n",
    "import numpy as np\n",
    "N = 4\n",
    "\n",
    "# Vector con 4 entradas distintas de cero\n",
    "x = np.array([1, 2, 3, 4])    \n",
    "print('x = {}'.format(x))\n",
    "print('tTipo de variable: {}'.format(type(x)))"
   ]
  },
  {
   "cell_type": "code",
   "execution_count": null,
   "id": "090e3563",
   "metadata": {
    "id": "090e3563"
   },
   "outputs": [],
   "source": [
    "# Vector con 4 entradas iguales a cero\n",
    "x = np.zeros(N)\n",
    "print('x = {}'.format(x))\n"
   ]
  },
  {
   "cell_type": "code",
   "execution_count": null,
   "id": "2c0d5441",
   "metadata": {
    "id": "2c0d5441"
   },
   "outputs": [],
   "source": [
    "# Vector con 4 entradas iguales a uno\n",
    "x = np.ones(N)\n",
    "print('x = {}'.format(x))\n"
   ]
  },
  {
   "cell_type": "code",
   "execution_count": null,
   "id": "67dacc9f",
   "metadata": {
    "id": "67dacc9f"
   },
   "outputs": [],
   "source": [
    "# Vector con numeros enteros del 0 al N\n",
    "x = np.arange(0,N+1,2)\n",
    "print('x = {}'.format(x))\n"
   ]
  },
  {
   "cell_type": "code",
   "execution_count": null,
   "id": "ccc46d32",
   "metadata": {
    "id": "ccc46d32"
   },
   "outputs": [],
   "source": [
    "# Vector conmultiplos de 5 del 0 al 100\n",
    "x = np.arange(0,100,5)\n",
    "print('x = {}'.format(x))\n",
    "\n"
   ]
  },
  {
   "cell_type": "code",
   "execution_count": null,
   "id": "CGMSRYVy4vWL",
   "metadata": {
    "id": "CGMSRYVy4vWL"
   },
   "outputs": [],
   "source": [
    "# Vector con 4 entradas aleatorias\n",
    "x = np.random.random(N)\n",
    "print('x = {}'.format(x))"
   ]
  },
  {
   "cell_type": "code",
   "execution_count": null,
   "id": "bd7c109f",
   "metadata": {
    "id": "bd7c109f"
   },
   "outputs": [],
   "source": [
    "# Seleccionar un elemento del vector x\n",
    "x_0 = x[0]\n",
    "print('x = {}'.format(x_0))\n"
   ]
  },
  {
   "cell_type": "code",
   "execution_count": null,
   "id": "c8223b4c",
   "metadata": {
    "id": "c8223b4c"
   },
   "outputs": [],
   "source": [
    "# Invertir el vector x\n",
    "x_1 = x[::-1]\n",
    "print('x = {}'.format(x_1))\n"
   ]
  },
  {
   "cell_type": "code",
   "execution_count": null,
   "id": "5d6a902d",
   "metadata": {
    "id": "5d6a902d"
   },
   "outputs": [],
   "source": [
    "# Encontrar los indices que no son ceros de un vector\n",
    "x = np.array([1,2,4,2,4,0,1,0,0,0,12,4,5,6,7,0])\n",
    "nz = np.argwhere( x!=0 )\n",
    "print('El vector x = {} no es cero en:\\n nz = {}'.format(x,nz))"
   ]
  },
  {
   "cell_type": "code",
   "execution_count": null,
   "id": "9832f554",
   "metadata": {
    "id": "9832f554"
   },
   "outputs": [],
   "source": [
    "print('x[1] = {}'.format(x[1]))"
   ]
  },
  {
   "cell_type": "code",
   "execution_count": null,
   "id": "c787507f-169b-4146-b0e3-590f6e598a0f",
   "metadata": {},
   "outputs": [],
   "source": [
    "A0 = np.array(([1,2,3],[4,5,6],[7,8,9]))\n",
    "A0"
   ]
  },
  {
   "cell_type": "code",
   "execution_count": null,
   "id": "81085b68-eb6e-457f-ba83-b31c5bf6cfb6",
   "metadata": {},
   "outputs": [],
   "source": [
    "np.arange(1,10)"
   ]
  },
  {
   "cell_type": "code",
   "execution_count": null,
   "id": "5873e991",
   "metadata": {
    "id": "5873e991"
   },
   "outputs": [],
   "source": [
    "# Crear una matriz 3x3 con valores de 0 a 8\n",
    "A = np.arange(0,9).reshape(3,3)\n",
    "print('A = \\n{}'.format(A))\n",
    "print('Tipo de variable: {}'.format(type(A)))"
   ]
  },
  {
   "cell_type": "code",
   "execution_count": null,
   "id": "ba7c3c49",
   "metadata": {
    "id": "ba7c3c49"
   },
   "outputs": [],
   "source": [
    "# Matrix de cuatro por cuatro\n",
    "A = np.array(([1, 2, 3, 4],[1, 2, 3, 4],[1, 2, 3, 4],[1, 2, 3, 4]))\n",
    "print('A = \\n{}'.format(A))\n"
   ]
  },
  {
   "cell_type": "code",
   "execution_count": null,
   "id": "5c00280d",
   "metadata": {
    "id": "5c00280d"
   },
   "outputs": [],
   "source": [
    "# Matriz de numeros aleatorios de 3x3x3\n",
    "A = np.random.random((3,3,3))\n",
    "print('A = \\n{}'.format(A))\n"
   ]
  },
  {
   "cell_type": "code",
   "execution_count": null,
   "id": "4b0f03fa-630e-49f5-a0d2-09a15f297c8c",
   "metadata": {},
   "outputs": [],
   "source": [
    "x = [1,2,3]\n",
    "a = 2\n",
    "y = []\n",
    "for xi in x:\n",
    "    print(xi)\n",
    "    y.append(xi*a)\n",
    "print(y)\n",
    "a*x"
   ]
  },
  {
   "cell_type": "code",
   "execution_count": null,
   "id": "0a409d3d-8d9b-432d-a614-368ecb469e3c",
   "metadata": {},
   "outputs": [],
   "source": [
    "x_vec = np.array(x)\n",
    "y_vec = a*x_vec\n",
    "y_vec"
   ]
  },
  {
   "cell_type": "code",
   "execution_count": null,
   "id": "fjMPwq95m8CB",
   "metadata": {
    "id": "fjMPwq95m8CB"
   },
   "outputs": [],
   "source": [
    "# Multplicación escalar vector\n",
    "x = np.arange(0,100,5)\n",
    "a = 10\n",
    "print(x)\n",
    "print(a)\n",
    "print(a*x)\n"
   ]
  },
  {
   "cell_type": "code",
   "execution_count": null,
   "id": "7XjqAreroWVu",
   "metadata": {
    "id": "7XjqAreroWVu"
   },
   "outputs": [],
   "source": [
    "# Producto punto\n",
    "x = np.array([2,2,2])\n",
    "y = np.array([2,2,2])\n",
    "c = np.dot(x,y)\n",
    "print(c, 'producto punto')"
   ]
  },
  {
   "cell_type": "code",
   "execution_count": null,
   "id": "hsBY48kxoyPX",
   "metadata": {
    "id": "hsBY48kxoyPX"
   },
   "outputs": [],
   "source": [
    "# Multiplicación matriz vector\n",
    "A = np.arange(0,9).reshape(3,3)\n",
    "x = np.arange(0,3)\n",
    "b = np.dot(A,x)\n",
    "print(A, 'A')\n",
    "print(x, 'x')\n",
    "print(b, 'b')"
   ]
  },
  {
   "cell_type": "code",
   "execution_count": null,
   "id": "99tpGMdkru6n",
   "metadata": {
    "id": "99tpGMdkru6n"
   },
   "outputs": [],
   "source": [
    "# Operaciones con arreglos\n",
    "\n",
    "x = np.array([2,2,2])\n",
    "y = np.exp(x)\n",
    "z = np.sqrt(x)\n",
    "\n",
    "print(y,'y')\n",
    "print(z,'z')"
   ]
  },
  {
   "cell_type": "code",
   "execution_count": null,
   "id": "ee08a5f6",
   "metadata": {
    "id": "ee08a5f6"
   },
   "outputs": [],
   "source": []
  },
  {
   "cell_type": "code",
   "execution_count": null,
   "id": "4bc4b090-b610-4dec-83b6-a3133c8406aa",
   "metadata": {},
   "outputs": [],
   "source": []
  },
  {
   "cell_type": "markdown",
   "id": "a8e8ec43",
   "metadata": {
    "id": "a8e8ec43"
   },
   "source": [
    "**Ejercicio**\n",
    "Crear un vector con valores dentro del rango 10 a 100 en pasos de 5\n",
    "\n",
    "Invierte el vector "
   ]
  },
  {
   "cell_type": "code",
   "execution_count": null,
   "id": "407bcf26",
   "metadata": {
    "id": "407bcf26"
   },
   "outputs": [],
   "source": []
  },
  {
   "cell_type": "code",
   "execution_count": null,
   "id": "67412637-2d62-4dc3-98ea-08039d914cd4",
   "metadata": {},
   "outputs": [],
   "source": []
  },
  {
   "cell_type": "markdown",
   "id": "89xtkpwLBPw_",
   "metadata": {
    "id": "89xtkpwLBPw_"
   },
   "source": [
    "**Ejercicio** Suma los elementos de la siguiente matriz\n",
    "\n",
    "A = [[1,2,3],\n",
    "     [4,5,6],\n",
    "     [7,8,9]]\n",
    "     "
   ]
  },
  {
   "cell_type": "code",
   "execution_count": null,
   "id": "1a9ee5b4-5702-476f-ac1d-4b0141b982c2",
   "metadata": {},
   "outputs": [],
   "source": []
  },
  {
   "cell_type": "code",
   "execution_count": null,
   "id": "Y81WK-nkBhae",
   "metadata": {
    "id": "Y81WK-nkBhae"
   },
   "outputs": [],
   "source": []
  },
  {
   "cell_type": "code",
   "execution_count": null,
   "id": "e5d7ec8f-1739-4a68-abed-97f101ea74f1",
   "metadata": {},
   "outputs": [],
   "source": []
  },
  {
   "cell_type": "markdown",
   "id": "1874c180",
   "metadata": {
    "id": "1874c180"
   },
   "source": [
    "### Condición np.where\n",
    "\n",
    "Regresa una tupla con los indices del arreglo numpy en donde se cumple la condición"
   ]
  },
  {
   "cell_type": "code",
   "execution_count": null,
   "id": "e8f73e0d",
   "metadata": {
    "id": "e8f73e0d"
   },
   "outputs": [],
   "source": [
    "import numpy as np\n",
    "import random\n",
    "\n",
    "x = np.array([2 , 6, 5, 9, 3, 9, 4, 6, 1, 8])\n",
    "print('x: ',x )"
   ]
  },
  {
   "cell_type": "code",
   "execution_count": null,
   "id": "d817008d",
   "metadata": {
    "id": "d817008d"
   },
   "outputs": [],
   "source": [
    "idx = np.where(x>5)\n",
    "print('Índices en donde x > 5 : ',idx)"
   ]
  },
  {
   "cell_type": "code",
   "execution_count": null,
   "id": "5bc9ac1b",
   "metadata": {
    "id": "5bc9ac1b"
   },
   "outputs": [],
   "source": [
    "print('Valores en donde x > 5 : ',x[idx])"
   ]
  },
  {
   "cell_type": "markdown",
   "id": "144a8cf1",
   "metadata": {
    "id": "144a8cf1"
   },
   "source": [
    "También se pueden poner dos condiciones"
   ]
  },
  {
   "cell_type": "code",
   "execution_count": null,
   "id": "88a483a6",
   "metadata": {
    "id": "88a483a6"
   },
   "outputs": [],
   "source": [
    "idx = np.where((x>5) & (x<9))\n",
    "print('Índices en donde x > 5 y x < 9 : ',idx)\n",
    "x[idx]"
   ]
  },
  {
   "cell_type": "markdown",
   "id": "fb4d3a72",
   "metadata": {
    "id": "fb4d3a72"
   },
   "source": [
    "Se pueden sustituir los valores seleccionados por un valor dado"
   ]
  },
  {
   "cell_type": "code",
   "execution_count": null,
   "id": "2ebe8009",
   "metadata": {
    "id": "2ebe8009"
   },
   "outputs": [],
   "source": [
    "print('x: ',x )\n",
    "x[idx] = 0\n",
    "print('Sustitir por cero valores en donde x > 5 y x < 9: \\n x:',x)"
   ]
  },
  {
   "cell_type": "markdown",
   "id": "0d70b307",
   "metadata": {
    "id": "0d70b307"
   },
   "source": [
    "**Ejercicio**\n",
    "Crea un arreglo de numpy que contenga los primeros 9 número naturales. Considera el cero como un número natural. \n",
    "\n",
    "Modifica el arreglo para que en las posiciones impares se le asigne el número -1\n",
    "\n",
    "Modifica el arreglo unidimensional en un arreglo de 2 dimensiones de 3x3, en donde los primeros 3 elementos del arreglo unidimensional sería el primer reglón del arreglo de 2 dimensiones"
   ]
  },
  {
   "cell_type": "code",
   "execution_count": null,
   "id": "8814df15-eb78-40a7-96cd-dcaac08ed4ed",
   "metadata": {},
   "outputs": [],
   "source": []
  },
  {
   "cell_type": "code",
   "execution_count": null,
   "id": "b0f3d2aa-03b9-4bdd-bcaf-89a5e45299c8",
   "metadata": {},
   "outputs": [],
   "source": []
  },
  {
   "cell_type": "markdown",
   "id": "415e7c04",
   "metadata": {
    "id": "415e7c04"
   },
   "source": [
    "### Dos condiciones np.where (condicion, [x, y])\n",
    "\n",
    "Donde la condición es verdadera, produce x, donde no produce y"
   ]
  },
  {
   "cell_type": "code",
   "execution_count": null,
   "id": "85ac2818",
   "metadata": {
    "id": "85ac2818"
   },
   "outputs": [],
   "source": [
    "x = np.array([2, 6, 5, 9, 3, 9, 4, 6, 1, 8])\n",
    "print('x_{original}: ',x )"
   ]
  },
  {
   "cell_type": "code",
   "execution_count": null,
   "id": "c62ad97d",
   "metadata": {
    "id": "c62ad97d"
   },
   "outputs": [],
   "source": [
    "idx = np.where((x>5) & (x<9))\n",
    "print('Índices en donde x > 5 y x < 9 : ',idx)"
   ]
  },
  {
   "cell_type": "code",
   "execution_count": null,
   "id": "8c5173f9",
   "metadata": {
    "id": "8c5173f9"
   },
   "outputs": [],
   "source": [
    "x1 = np.where((x>5) & (x<9), -1, x)\n",
    "print('x_{nuevo}: ',x1)"
   ]
  },
  {
   "cell_type": "markdown",
   "id": "3f0bd668",
   "metadata": {
    "id": "3f0bd668"
   },
   "source": [
    "**Ejercicio**\n",
    "Considera los siguientes arreglos de numpy\n",
    "\n",
    "a = np.array([1,2,3,2,3,4,3,4,5,6])\n",
    "\n",
    "b = np.array([7,2,10,2,7,4,9,4,9,8])\n",
    "\n",
    "¿Que se obtiene al aplicar el comando np.where(a==b)?\n",
    "\n",
    "Explica el significado de lo que resulta al aplicar el comando anterior\n",
    "\n",
    "Escribe los elementos del arreglo numpy b, que tienen valores entre 2 y 5"
   ]
  },
  {
   "cell_type": "code",
   "execution_count": null,
   "id": "526b691d",
   "metadata": {
    "id": "526b691d"
   },
   "outputs": [],
   "source": []
  },
  {
   "cell_type": "markdown",
   "id": "ed799fb2",
   "metadata": {
    "id": "ed799fb2"
   },
   "source": [
    "## Se pueden comparar dos arreglos"
   ]
  },
  {
   "cell_type": "code",
   "execution_count": null,
   "id": "89065226",
   "metadata": {
    "id": "89065226"
   },
   "outputs": [],
   "source": [
    "a = np.array([1,2,3,2,3,4,3,4,5,6])\n",
    "b = np.array([7,2,10,2,7,4,9,4,9,8])\n",
    "print('a: ',a )\n",
    "print('b: ',b )"
   ]
  },
  {
   "cell_type": "code",
   "execution_count": null,
   "id": "3dda519f",
   "metadata": {
    "id": "3dda519f"
   },
   "outputs": [],
   "source": [
    "idx = np.where(a==b)\n",
    "tidx = type(np.where(a==b))\n",
    "print(\"a es igual a b en las entradas: \",idx,\" que son de tipo: \", tidx)"
   ]
  },
  {
   "cell_type": "code",
   "execution_count": null,
   "id": "c9c3c8d3",
   "metadata": {
    "id": "c9c3c8d3"
   },
   "outputs": [],
   "source": [
    "print('a[idx]: ',a[idx] )\n",
    "print('b[idx]: ',b[idx] )"
   ]
  },
  {
   "cell_type": "markdown",
   "id": "f95c6a33",
   "metadata": {
    "id": "f95c6a33"
   },
   "source": [
    "### Máscaras en numpy "
   ]
  },
  {
   "cell_type": "code",
   "execution_count": null,
   "id": "475e2ab5",
   "metadata": {
    "id": "475e2ab5"
   },
   "outputs": [],
   "source": [
    "x = np.array([2 , 6, 5, 9, 3, 9, 4, 6, 1, 8])\n",
    "print('x: ',x )\n",
    "print((x>5) & (x<9))"
   ]
  },
  {
   "cell_type": "code",
   "execution_count": null,
   "id": "7a9a1ced",
   "metadata": {
    "id": "7a9a1ced"
   },
   "outputs": [],
   "source": [
    "y = (x>5) & (x<9)\n",
    "print('y: ',y )"
   ]
  },
  {
   "cell_type": "code",
   "execution_count": null,
   "id": "3feb4c95",
   "metadata": {
    "id": "3feb4c95"
   },
   "outputs": [],
   "source": [
    "print('Valores en donde x > 5 y x < 9: \\n x:',x[y])"
   ]
  },
  {
   "cell_type": "code",
   "execution_count": null,
   "id": "22259fb7",
   "metadata": {
    "id": "22259fb7"
   },
   "outputs": [],
   "source": [
    "x[y] = 0\n",
    "print('Sustitir por cero valores en donde x > 5 y x < 9: \\n x:',x)"
   ]
  },
  {
   "cell_type": "markdown",
   "id": "9cd3d308",
   "metadata": {
    "id": "9cd3d308"
   },
   "source": [
    "### Comparación entre arreglos bi dimensionales"
   ]
  },
  {
   "cell_type": "code",
   "execution_count": null,
   "id": "6ffa1c9f",
   "metadata": {
    "id": "6ffa1c9f"
   },
   "outputs": [],
   "source": [
    "a = np.random.randint(1,10,(3,3))\n",
    "b = np.random.randint(1,10,(3,3))\n",
    "print('a: \\n',a )\n",
    "print('b: \\n',b )"
   ]
  },
  {
   "cell_type": "code",
   "execution_count": null,
   "id": "99e83dd4",
   "metadata": {
    "id": "99e83dd4"
   },
   "outputs": [],
   "source": [
    "d = a == b\n",
    "print('d es la matriz que nos muestra donde son iguales a y b, \\n d:\\n',d )\n",
    "print(\"tipo de d: \",type(d))\n",
    "print(\"tamaño de d: \",np.shape(d))"
   ]
  },
  {
   "cell_type": "code",
   "execution_count": null,
   "id": "e38f2911",
   "metadata": {
    "id": "e38f2911"
   },
   "outputs": [],
   "source": [
    "print(\"mostrar las entradas en donde a==b : \",np.where(a==b))"
   ]
  },
  {
   "cell_type": "code",
   "execution_count": null,
   "id": "4ffe64d0",
   "metadata": {
    "id": "4ffe64d0"
   },
   "outputs": [],
   "source": [
    "print(\"valor de las entradas en donde a==b : \",a[d])"
   ]
  },
  {
   "cell_type": "code",
   "execution_count": null,
   "id": "61d63d6b",
   "metadata": {
    "id": "61d63d6b"
   },
   "outputs": [],
   "source": [
    "print(\"valor de las entradas en donde a==b : \",a[0,1])"
   ]
  },
  {
   "cell_type": "code",
   "execution_count": null,
   "id": "4f9c6a12",
   "metadata": {
    "id": "4f9c6a12"
   },
   "outputs": [],
   "source": [
    "a1 = a<5\n",
    "print(\"valor de a en donde a<5\\n\",a1)"
   ]
  },
  {
   "cell_type": "code",
   "execution_count": null,
   "id": "26c588e5",
   "metadata": {
    "id": "26c588e5"
   },
   "outputs": [],
   "source": [
    "a1 = a<5\n",
    "print(\"entradas de a en donde a<5\\n\",a[a1])"
   ]
  },
  {
   "cell_type": "code",
   "execution_count": null,
   "id": "2520c9d0",
   "metadata": {
    "id": "2520c9d0"
   },
   "outputs": [],
   "source": [
    "print(\" a:\\n\",a)\n",
    "a[a1]=0\n",
    "print(\"cambiar entradas de a en donde a<5 por cero\\n a:\\n\",a)"
   ]
  },
  {
   "cell_type": "markdown",
   "id": "3b607561",
   "metadata": {
    "id": "3b607561"
   },
   "source": [
    "### np.where con arreglos bidimensionales"
   ]
  },
  {
   "cell_type": "code",
   "execution_count": null,
   "id": "c3b50357",
   "metadata": {
    "id": "c3b50357"
   },
   "outputs": [],
   "source": [
    "c = np.random.randint(1,10,(3,3))\n",
    "d = np.random.randint(1,10,(3,3))\n",
    "print('c: \\n',c )\n",
    "print('d: \\n',d )"
   ]
  },
  {
   "cell_type": "code",
   "execution_count": null,
   "id": "d3498c06",
   "metadata": {
    "id": "d3498c06"
   },
   "outputs": [],
   "source": [
    "c = np.where(c==d, c, 10)\n",
    "print(\"sustituir las entradas diferentes en c y d por 10\\nc:\\n\",c)"
   ]
  },
  {
   "cell_type": "code",
   "execution_count": null,
   "id": "651c7dd3",
   "metadata": {
    "id": "651c7dd3"
   },
   "outputs": [],
   "source": [
    "print('d: \\n',d )\n",
    "d = np.where(d<5, 10,d)\n",
    "print(np.where(d<5))\n",
    "print(\"sustituir las entradas en d menores que 5\\nd:\\n\",d)"
   ]
  },
  {
   "cell_type": "markdown",
   "id": "1f0beb4f",
   "metadata": {
    "id": "1f0beb4f"
   },
   "source": [
    "**Ejercicio** \n",
    "Crea dos arreglos al azar A y B de tamaño 3x3, verificar si los arreglos son iguales componente a componente.\n",
    "\n",
    "Verifica si los arreglos son iguales"
   ]
  },
  {
   "cell_type": "code",
   "execution_count": null,
   "id": "01fce978",
   "metadata": {
    "id": "01fce978"
   },
   "outputs": [],
   "source": []
  },
  {
   "cell_type": "code",
   "execution_count": null,
   "id": "fbc2a7c7-effb-4eb3-b4cf-fb2837d18cd8",
   "metadata": {},
   "outputs": [],
   "source": []
  },
  {
   "cell_type": "code",
   "execution_count": null,
   "id": "b3a2589a-dec1-4887-9cb9-05221eb77c81",
   "metadata": {},
   "outputs": [],
   "source": []
  },
  {
   "cell_type": "code",
   "execution_count": null,
   "id": "acae48a3-13c3-4a2a-a1dc-e24d5a5e99c8",
   "metadata": {},
   "outputs": [],
   "source": []
  },
  {
   "cell_type": "code",
   "execution_count": null,
   "id": "2c04a20f-64d5-4e65-8c42-0eba6f698b37",
   "metadata": {},
   "outputs": [],
   "source": []
  },
  {
   "cell_type": "markdown",
   "id": "c9b24457",
   "metadata": {
    "id": "c9b24457"
   },
   "source": [
    "**Ejercicio**\n",
    "Construye dos matrices de enteros entre 1 y 10, A y B de tamaño 10x10, puedes usar el comando \n",
    "\n",
    "```\n",
    "np.random.randint(min,max,(N,N))\n",
    "```\n",
    "\n"
   ]
  },
  {
   "cell_type": "code",
   "execution_count": null,
   "id": "70548972",
   "metadata": {
    "id": "70548972"
   },
   "outputs": [],
   "source": []
  },
  {
   "cell_type": "markdown",
   "id": "j8J1fjPTf7PI",
   "metadata": {
    "id": "j8J1fjPTf7PI"
   },
   "source": [
    "**Ejercicio**\n",
    "Encuentra que entradas de los arreglos anteriores son iguales (si es que hay sustituye el valor en a por \"equal\")"
   ]
  },
  {
   "cell_type": "code",
   "execution_count": null,
   "id": "DcwQjKKYgK-x",
   "metadata": {
    "id": "DcwQjKKYgK-x"
   },
   "outputs": [],
   "source": []
  },
  {
   "cell_type": "code",
   "execution_count": null,
   "id": "25b92395-edd2-474c-9753-3f1b5a6bfc86",
   "metadata": {},
   "outputs": [],
   "source": []
  },
  {
   "cell_type": "code",
   "execution_count": null,
   "id": "552c1e44-e7b6-4ffd-a7b9-537bab569427",
   "metadata": {},
   "outputs": [],
   "source": []
  },
  {
   "cell_type": "markdown",
   "id": "IpDWqm3dwRNs",
   "metadata": {
    "id": "IpDWqm3dwRNs"
   },
   "source": [
    "# Visualización\n",
    "### Graficas 2D\n",
    "Python cuenta con varias librerias que contienen funciones predefinidas. Para usarlas, se tienen que importar con la función *import*. En este curso se utilizará una libreria con funciones matemáticas [numpy] y una librería para graficar [matplotlib](https://matplotlib.org/gallery/index.html#gallery). Si el nombre de la librería es muy largo, se pueden renombrar con *as*.\n",
    "\n",
    "\\begin{array}{llL} \n",
    "import  & \\text{numpy }            &    as &   \\text{ np}\\\\ \n",
    "import  & \\text{matplotlib.pyplot }&    as &   \\text{ plt}\\\\ \n",
    "\\end{array}\n",
    "\n",
    "#### Matplotlib\n",
    "Esta librería sirve para graficar funciones, la sintaxis básica es:\n",
    "\n",
    "import matplotlib.pyplot as plt\n",
    "%matplotlib notebook\n",
    "\n",
    "* Graficar x vs y \n",
    "\n",
    "*plt.plot(x,y)*\n",
    "* Agregar título \n",
    "\n",
    "*plt.title('Grafica de x vs y', fontsize=16)*\n",
    "* Agregar nombre al eje x \n",
    "\n",
    "*plt.xlabel('Valores', fontsize=14)*\n",
    "* Agregar nombre al eje y \n",
    "\n",
    "*plt.ylabel('Promedios', fontsize=14)*\n",
    "* Mostrar la gráfica\n",
    "\n",
    "*plt.show()*"
   ]
  },
  {
   "cell_type": "code",
   "execution_count": null,
   "id": "9vLdNVIZwMJM",
   "metadata": {
    "id": "9vLdNVIZwMJM"
   },
   "outputs": [],
   "source": [
    "# Ejemplo: Gráfica de la función $f(x)= 2x^2$\n",
    "\n",
    "import numpy as np\n",
    "import matplotlib.pyplot as plt\n",
    "N = 10\n",
    "x = np.array([x for x in range(N)]) \n",
    "y = 2 * x**2\n",
    "plt.plot(x,y)\n",
    "plt.title('Grafica de x vs $f(x)$', fontsize=16)\n",
    "plt.xlabel('x', fontsize=14)\n",
    "plt.ylabel('$f(x)$', fontsize=14)\n",
    "plt.show()\n"
   ]
  },
  {
   "cell_type": "code",
   "execution_count": null,
   "id": "7546a312-90e5-4390-b744-583e052b2dcf",
   "metadata": {},
   "outputs": [],
   "source": [
    "N = 10\n",
    "\n",
    "[x for x in range(N)]"
   ]
  },
  {
   "cell_type": "code",
   "execution_count": null,
   "id": "fc26befe-9a8d-4690-98ea-f37c6fc437af",
   "metadata": {},
   "outputs": [],
   "source": [
    "x = []\n",
    "for xi in range(N):\n",
    "    x.append(xi)\n",
    "print(x,type(x))  \n",
    "x= np.array(x)\n",
    "print(x,type(x)) \n",
    "y = 2 * x**2\n",
    "print(y,type(y)) "
   ]
  },
  {
   "cell_type": "markdown",
   "id": "DqWWH8IiwXpW",
   "metadata": {
    "id": "DqWWH8IiwXpW"
   },
   "source": [
    "Para modificar las lineas o el color, se pueden agregar opciones extra en la instrucción de graficar. Por ejemplo podemos agregar 'ro' para poner circulos rojos "
   ]
  },
  {
   "cell_type": "code",
   "execution_count": null,
   "id": "gv8Y7APswUvU",
   "metadata": {
    "id": "gv8Y7APswUvU"
   },
   "outputs": [],
   "source": [
    "N = 10\n",
    "plt.style.use('_classic_test_patch')\n",
    "plt.figure(figsize = (5,4))\n",
    "x = np.array([x for x in range(N)]) \n",
    "#x = np.linspace(0,N, 100)\n",
    "y = 2 * x**2\n",
    "plt.plot(x,y,linewidth=1,color= \"hotpink\",marker='o', markersize=3,linestyle=':')\n",
    "plt.title('Grafica de x vs $f(x)$', fontsize=16)\n",
    "plt.xlabel('x')\n",
    "plt.ylabel('$f(x)$')\n",
    "plt.show()"
   ]
  },
  {
   "cell_type": "markdown",
   "id": "8vE29E2QwgKa",
   "metadata": {
    "id": "8vE29E2QwgKa"
   },
   "source": [
    "Las posibilidades se muestran a continuación\n",
    "\n",
    "\n",
    "| Symbol  | Description  | Symbol  |  Description |\n",
    "|:---:|:---:|:---:|:---:|\n",
    "|  b | blue  |  T |  T |\n",
    "|  g | green |  s | square  |\n",
    "|  r |  red |  d |  diamond |\n",
    "|  c |  cyan |  v | triangle (down)  |\n",
    "|  m |  magenta | ^  | triangle (up)   |\n",
    "|  y |  yellow | <  | triangle (left)   |\n",
    "|  k | black  |  > |  triangle (right)  |\n",
    "|  w |  white | p  | pentagram  |\n",
    "|  . |  point |  h |  hexagram |\n",
    "|  o |  circle | -  |  solid |\n",
    "|  x | x-mark  |  : |  dotted |\n",
    "|  + |  plus | -.  | dashdot  |\n",
    "|  * |  star |  --  | dashed  |\n",
    "\n",
    "\n",
    "Tambien se pueden cambiar cualquier parte de la figura, el tamaño, los nombres de los ejes, su tamaño, con *fontsize*. "
   ]
  },
  {
   "cell_type": "code",
   "execution_count": null,
   "id": "fRimkrRN_rrr",
   "metadata": {
    "id": "fRimkrRN_rrr"
   },
   "outputs": [],
   "source": [
    "N = 10\n",
    "plt.figure(figsize = (8,6))\n",
    "x = np.array([x for x in range(N)]) \n",
    "#x = np.linspace(0,N, 100)\n",
    "y = 2 * x**2\n",
    "plt.plot(x,y,'ro')\n",
    "plt.title('Grafica de x vs $f(x)$', fontsize=20)\n",
    "plt.xlabel('x', fontsize=14)\n",
    "plt.ylabel('$f(x)$', fontsize=14)\n",
    "plt.show()"
   ]
  },
  {
   "cell_type": "markdown",
   "id": "qKqHyvzz_sK5",
   "metadata": {
    "id": "qKqHyvzz_sK5"
   },
   "source": [
    "Existen unos estilos predefinidos que tienen valores dados, las posibilidades se encuentran como sigue: "
   ]
  },
  {
   "cell_type": "code",
   "execution_count": null,
   "id": "ER7mYnZVwiO6",
   "metadata": {
    "id": "ER7mYnZVwiO6"
   },
   "outputs": [],
   "source": [
    "print(plt.style.available)"
   ]
  },
  {
   "cell_type": "code",
   "execution_count": null,
   "id": "oMp9Dq61wlTM",
   "metadata": {
    "id": "oMp9Dq61wlTM"
   },
   "outputs": [],
   "source": [
    "plt.style.use('_classic_test_patch')\n",
    "plt.figure(figsize = (10,6))\n",
    "N = 10\n",
    "x = np.array([x for x in range(N)]) \n",
    "#x = np.linspace(0,N, 100)\n",
    "y = 5 * x**2\n",
    "plt.plot(y, 'bo')\n",
    "y =  x**3\n",
    "plt.plot(y,'g*')\n",
    "plt.title('Grafica de x vs $f(x)$')\n",
    "plt.xlabel('x')\n",
    "plt.ylabel('$f(x)$')\n",
    "plt.show()"
   ]
  },
  {
   "cell_type": "markdown",
   "id": "c5t-ovrewuVg",
   "metadata": {
    "id": "c5t-ovrewuVg"
   },
   "source": [
    "Se puede agregar los nombres de cada grafica, usando la función *legend* y agregando un argumento llamado *label* en el comando de graficar *plot*. La función leyenda también toma el argumento *loc* para indicar en donde se ubican los nombres."
   ]
  },
  {
   "cell_type": "code",
   "execution_count": null,
   "id": "X5ogWuWBwnlW",
   "metadata": {
    "id": "X5ogWuWBwnlW"
   },
   "outputs": [],
   "source": [
    "plt.style.use('_classic_test_patch')\n",
    "plt.figure(figsize = (10,6))\n",
    "N = 10\n",
    "x = np.array([x for x in range(N)]) \n",
    "#x = np.linspace(0,N, 100)\n",
    "y = 5 * x**2\n",
    "plt.plot(x, y, 'bo', label = '$f(x) = 5x^2$')\n",
    "y =  x**3\n",
    "plt.plot(x, y, 'r*', label = '$f(x) = x^3$')\n",
    "plt.title('Grafica de x vs $f(x)$')\n",
    "plt.xlabel('x')\n",
    "plt.ylabel('$f(x)$')\n",
    "plt.legend(loc = 0)\n",
    "plt.show()"
   ]
  },
  {
   "cell_type": "markdown",
   "id": "sckjxrWGwz7C",
   "metadata": {
    "id": "sckjxrWGwz7C"
   },
   "source": [
    "También se pueden cambiar los límites de cada eje usando las funciones *xlim* o *ylim*, y agregar la funcion *grid* para agregar una malla a la figura. \n"
   ]
  },
  {
   "cell_type": "code",
   "execution_count": null,
   "id": "strK-h-9wwb6",
   "metadata": {
    "id": "strK-h-9wwb6"
   },
   "outputs": [],
   "source": [
    "\n",
    "plt.figure(figsize = (8,6))\n",
    "N = 10\n",
    "x = np.array([x for x in range(N)]) \n",
    "#x = np.linspace(0,N, 100)\n",
    "y = 5 * x**2\n",
    "plt.plot(x, y, 'bo', label = '$f(x) = 5x^2$')\n",
    "y =  x**3\n",
    "plt.plot(x, y, 'r*', label = '$f(x) = x^3$')\n",
    "plt.title('Grafica de x vs $f(x)$')\n",
    "plt.xlabel('x')\n",
    "plt.ylabel('$f(x)$')\n",
    "plt.legend(loc = 2)\n",
    "\n",
    "plt.xlim(-5,12)\n",
    "plt.ylim(-100,800)\n",
    "plt.grid()\n",
    "plt.show()"
   ]
  },
  {
   "cell_type": "markdown",
   "id": "xX9MnW2hxyF4",
   "metadata": {
    "id": "xX9MnW2hxyF4"
   },
   "source": [
    "Se puede hacer una tabla de graficas en una sola figura con la función  *subplot* que tiene 3 entradas: \n",
    "- Número de renglones \n",
    "- Número de columnas\n",
    "- Cual elemento de la tabla se va a graficar\n",
    "\n",
    "Adicionalmente, hay varias funciones que se pueden para realizar graficas específicas: \n",
    "- *scatter*:  es similar a plot solo que usa siempre circulos, scatter(x,y) es equivalente a  plot(x,y,'o')\n",
    "- *bar*: grafica barras centradas en x con altura y\n",
    "- *loglog*: escala logaritmica en los ejes x y y\n",
    "- *semilogx*: escala logaritmica en el eje x\n",
    "- *semilogy*: escala logaritmica en el eje "
   ]
  },
  {
   "cell_type": "code",
   "execution_count": null,
   "id": "ULD_ooBYz2KE",
   "metadata": {
    "id": "ULD_ooBYz2KE"
   },
   "outputs": [],
   "source": [
    "plt.style.use('_classic_test_patch')\n",
    "x = np.arange(11)\n",
    "y = x**2\n",
    "\n",
    "plt.figure(figsize = (14, 8))\n",
    "\n",
    "plt.subplot(2, 3, 1)\n",
    "plt.plot(x,y)\n",
    "plt.title('Plot')\n",
    "plt.xlabel('X')\n",
    "plt.ylabel('Y')\n",
    "plt.grid()\n",
    "\n",
    "plt.subplot(2, 3, 2)\n",
    "plt.scatter(x,y)\n",
    "plt.title('Scatter')\n",
    "plt.xlabel('X')\n",
    "plt.ylabel('Y')\n",
    "plt.grid()\n",
    "\n",
    "plt.subplot(2, 3, 3)\n",
    "plt.bar(x,y)\n",
    "plt.title('Bar')\n",
    "plt.xlabel('X')\n",
    "plt.ylabel('Y')\n",
    "plt.grid()\n",
    "\n",
    "plt.subplot(2, 3, 4)\n",
    "plt.loglog(x,y)\n",
    "plt.title('Loglog')\n",
    "plt.xlabel('X')\n",
    "plt.ylabel('Y')\n",
    "plt.grid(which='both')\n",
    "\n",
    "plt.subplot(2, 3, 5)\n",
    "plt.semilogx(x,y)\n",
    "plt.title('Semilogx')\n",
    "plt.xlabel('X')\n",
    "plt.ylabel('Y')\n",
    "plt.grid(which='both')\n",
    "\n",
    "plt.subplot(2, 3, 6)\n",
    "plt.semilogy(x,y)\n",
    "plt.title('Semilogy')\n",
    "plt.xlabel('X')\n",
    "plt.ylabel('Y')\n",
    "plt.grid()\n",
    "\n",
    "plt.tight_layout()\n",
    "\n",
    "plt.show()"
   ]
  },
  {
   "cell_type": "markdown",
   "id": "pAM1dSYYyTC_",
   "metadata": {
    "id": "pAM1dSYYyTC_"
   },
   "source": [
    "Para guardar las figuras se usa la función `plt.savefig`. "
   ]
  },
  {
   "cell_type": "code",
   "execution_count": null,
   "id": "Kwy4Jc12yMB1",
   "metadata": {
    "id": "Kwy4Jc12yMB1"
   },
   "outputs": [],
   "source": [
    "plt.figure(figsize = (8,6))\n",
    "plt.plot(x,y)\n",
    "plt.xlabel('X')\n",
    "plt.ylabel('Y')\n",
    "plt.savefig('figura.jpg') # pdf, jpg, png ..."
   ]
  },
  {
   "cell_type": "markdown",
   "id": "s3gRYt7ryWny",
   "metadata": {
    "id": "s3gRYt7ryWny"
   },
   "source": [
    "## Gráficas 3D\n",
    "Para hacer gráficas en 3D con matplotlib, se tiene que importar la herramienta *mplot3d*, que permite que matplotlib haga gráficas en 3D.\n",
    "\n",
    "Para crear los ejes en 3D se usa la función *ax = plt.axes(projection='3d')* y se agregan datos, nombres de los ejes, etc.\n",
    "\n"
   ]
  },
  {
   "cell_type": "code",
   "execution_count": null,
   "id": "MGkQU8goyWEr",
   "metadata": {
    "id": "MGkQU8goyWEr"
   },
   "outputs": [],
   "source": [
    "import numpy as np\n",
    "from mpl_toolkits import mplot3d\n",
    "import matplotlib.pyplot as plt\n",
    "fig = plt.figure(figsize = (10,10))\n",
    "ax = plt.axes(projection='3d')\n",
    "plt.show()"
   ]
  },
  {
   "cell_type": "code",
   "execution_count": null,
   "id": "Qo4qtXb1ya-T",
   "metadata": {
    "id": "Qo4qtXb1ya-T"
   },
   "outputs": [],
   "source": [
    "fig = plt.figure(figsize = (8,8))\n",
    "ax = plt.axes(projection='3d')\n",
    "ax.grid()\n",
    "t = np.arange(0, 10*np.pi, np.pi/50)\n",
    "x = np.sin(t)\n",
    "y = np.cos(t)\n",
    "\n",
    "ax.plot3D(x, y, t)\n",
    "ax.set_title('3D Parametric Plot')\n",
    "\n",
    "# Set axes label\n",
    "ax.set_xlabel('x', labelpad=20)\n",
    "ax.set_ylabel('y', labelpad=20)\n",
    "ax.set_zlabel('t', labelpad=20)\n",
    "\n",
    "plt.show()"
   ]
  },
  {
   "cell_type": "markdown",
   "id": "syRGJcK_zKyY",
   "metadata": {
    "id": "syRGJcK_zKyY"
   },
   "source": [
    "Para crear la malla es necesario convertir los vectores en matrices, esto se hace con la función *meshgrid*"
   ]
  },
  {
   "cell_type": "code",
   "execution_count": null,
   "id": "6RB6S2aUyovv",
   "metadata": {
    "id": "6RB6S2aUyovv"
   },
   "outputs": [],
   "source": [
    "x = [1, 2, 3, 4]\n",
    "y = [3, 4, 5]\n",
    "X, Y = np.meshgrid(x, y)\n",
    "print(X)"
   ]
  },
  {
   "cell_type": "code",
   "execution_count": null,
   "id": "iT3bMldHzRo_",
   "metadata": {
    "id": "iT3bMldHzRo_"
   },
   "outputs": [],
   "source": [
    "print(Y)"
   ]
  },
  {
   "cell_type": "markdown",
   "id": "A3RntDRlzQBs",
   "metadata": {
    "id": "A3RntDRlzQBs"
   },
   "source": [
    "Para graficar superficies, se usa la función *plot_surface(X,Y,Z)*, en donde la malla se genera con la función *meshgrid*, and $Z = f (X,Y)$ or $Z (i,j) = f (X (i,j),Y (i,j))$.\n",
    "Tambien se puede agregar un mapa de color [colormap][] con la opcion *plt.cm.cividis* en el comando que grafica la superficie.\n",
    "\n",
    "[colormap]:https://matplotlib.org/stable/tutorials/colors/colormaps.html"
   ]
  },
  {
   "cell_type": "code",
   "execution_count": null,
   "id": "18sAxWWezPYn",
   "metadata": {
    "id": "18sAxWWezPYn"
   },
   "outputs": [],
   "source": [
    "fig = plt.figure(figsize = (12,10))\n",
    "ax = plt.axes(projection='3d')\n",
    "\n",
    "x = np.arange(-5, 5.1, 0.2)\n",
    "y = np.arange(-5, 5.1, 0.2)\n",
    "\n",
    "X, Y = np.meshgrid(x, y)\n",
    "Z = np.sin(X)*np.cos(Y)\n",
    "\n",
    "#surf = ax.plot_surface(X, Y, Z, cmap = plt.cm.cividis)\n",
    "surf = ax.plot_surface(X, Y, Z, cmap = plt.cm.hsv)\n",
    "\n",
    "# Ejes\n",
    "ax.set_xlabel('x', labelpad=20)\n",
    "ax.set_ylabel('y', labelpad=20)\n",
    "ax.set_zlabel('z', labelpad=20)\n",
    "\n",
    "fig.colorbar(surf, shrink=0.2, aspect=7)\n",
    "\n",
    "plt.show()"
   ]
  },
  {
   "cell_type": "markdown",
   "id": "mqS8kI_Yzw5O",
   "metadata": {
    "id": "mqS8kI_Yzw5O"
   },
   "source": [
    "**Ejercicio**\n",
    "Graficar las funciones $f(x) = x^2$ y $f(x) = x^3$ en el intervalo $-5\\le x \\le 5$ con distintos colores, agregar el nombre de cada función como etiqueta y poner una malla.\n"
   ]
  },
  {
   "cell_type": "code",
   "execution_count": null,
   "id": "j8GtR7HRzjk0",
   "metadata": {
    "id": "j8GtR7HRzjk0"
   },
   "outputs": [],
   "source": []
  },
  {
   "cell_type": "code",
   "execution_count": null,
   "id": "caeabcca-4c21-48a7-842f-8c3018b431bf",
   "metadata": {},
   "outputs": [],
   "source": []
  },
  {
   "cell_type": "code",
   "execution_count": null,
   "id": "0aef0467-3b40-455c-8309-5f9d1ff51a68",
   "metadata": {},
   "outputs": [],
   "source": []
  },
  {
   "cell_type": "markdown",
   "id": "O1BkzzZWz2ej",
   "metadata": {
    "id": "O1BkzzZWz2ej"
   },
   "source": [
    "**Ejercicio**\n",
    "Realiza la grafica de las siguientes funciones en una sola figura (como sub plots) y pon como título la función que se esta graficando, y agrega nombre a los ejes, grafica en el intervalo $-5\\le x \\le 5$, agrega una malla \n",
    "*   $f(x) = x^2$ \n",
    "*   $f(x) = x^3$ \n",
    "*   $f(x) = x^4$ \n",
    "*   $f(x) = x^5$ \n"
   ]
  },
  {
   "cell_type": "code",
   "execution_count": null,
   "id": "xOwlYBLNzs96",
   "metadata": {
    "id": "xOwlYBLNzs96"
   },
   "outputs": [],
   "source": []
  },
  {
   "cell_type": "markdown",
   "id": "bfa203ae-2df5-43eb-b028-6fd454b87eca",
   "metadata": {},
   "source": [
    "# Números de punto flotante\n",
    "Los números reales se almacenan como números flotantes. Los números de punto flotante son números como $\\pi \\approx 3.141 592 6$, o el número de Avogadro $\\approx 6.03 × 10^{23}$, o la carga de un electrón $\\approx 1.602 1773 3 × 10 ^{-19} $ coulombs.\n",
    "\n",
    "Estos tienen la forma\n",
    "\n",
    "$$±x \\times b ^e$$\n",
    "\n",
    "donde $x$, las cifras significativas o *mantisa*, *e* es el exponente y *b* es la base del sistema de punto flotante. Si la mantisa está en el rango de 1 a m, entonces tiene la forma\n",
    "\n",
    "$$x = x_0x_1 x_2 x_3 . . . x_{m−1}$$\n",
    "\n",
    "en base b donde cada $x_i$ es un dígito de base-b (0, 1, 2, . . . , b − 1) y m es la longitud de la mantisa.\n",
    "\n",
    "La longitud de la mantisa describe con qué precisión se pueden aproximar los números. Ya que\n",
    "\n",
    "$$x \\times b^e = (x_0x_1 x_2 x_3 . . . x_{m−1} \\text{ base b) }\\times b^e$$\n",
    "$$= (x_0 + x_1 b^{ −1} + x_2 b^{−2 }+ x_3 b^{−3 }+ · · · + x_{m−1} b^{ −m+1} )\\times b^e .$$\n",
    "\n",
    "\n",
    "\n",
    "El sistema de punto flotante más conocido y más utilizado es el **sistema de punto flotante IEEE**, que a veces se denomina estándar IEEE 754.\n",
    "\n",
    "Esto especifica un conjunto de tres formatos diferentes de punto flotante: *precisión simple*, *precisión doble* y *precisión extendida*.\n",
    "\n",
    "La mayoría de los lenguajes de programación admiten sistemas de punto flotante de precisión simple y doble. Por lo general, los tipos real o float representan números de precisión simple, mientras que los tipos double, double precision o long real/longreal representan números de precisión doble.\n",
    "\n",
    "**Rango de los números de punto flotante:** ¿cuáles son los números de punto flotante más grande y más pequeño?\n",
    "\n",
    "Esto depende del rango del exponente. Si $−e_{max} \\leq e \\leq +e_{max}$ y $1/b \\leq x < 1$,\n",
    "entonces el número representable más grande está cerca de $b^{e_{max}}$ y el número representable más pequeño es $b^{ −e_ {max} −1}$. Por lo general, se da $b^{e_{ max}}$ para indicar el rango de los números de punto flotante.\n",
    "\n",
    "<img src=\"https://github.com/gbdiazc/Images/blob/e1e312c42286e801604e2d213e75df88633ddeaa/fp.png?raw=1\" width=\"600\">\n",
    "\n"
   ]
  },
  {
   "cell_type": "code",
   "execution_count": null,
   "id": "2d933c5a-76ee-4222-ab71-750afcdafc63",
   "metadata": {},
   "outputs": [],
   "source": [
    "import numpy as np\n",
    "print(2**15)\n",
    "x = np.float16(2**15)\n",
    "#x = np.float16(2**16)\n",
    "x"
   ]
  },
  {
   "cell_type": "code",
   "execution_count": null,
   "id": "e700302b-08e3-438c-a7c9-61a89d363fdf",
   "metadata": {},
   "outputs": [],
   "source": [
    "print(2**127)\n",
    "x = np.single(2**127)\n",
    "#x = np.single(2**128)\n",
    "print(x)"
   ]
  },
  {
   "cell_type": "code",
   "execution_count": null,
   "id": "9009480f-e553-4e84-a892-eb156b47e6f3",
   "metadata": {},
   "outputs": [],
   "source": [
    "print(2**1023)\n",
    "x = float(2**1023)\n",
    "#x = float(2**1024)\n",
    "print(x)"
   ]
  },
  {
   "cell_type": "code",
   "execution_count": null,
   "id": "86fa104c-54ab-428c-a0c4-66d30a3b9751",
   "metadata": {},
   "outputs": [],
   "source": [
    "print(2**1024)\n",
    "x = np.double(2**1023)\n",
    "#x = np.double(2**1024)\n",
    "#x = np.longdouble(2**1024)\n",
    "print(x)#"
   ]
  },
  {
   "cell_type": "code",
   "execution_count": null,
   "id": "8c7e36e1-c01a-4fa9-a841-88ea7fcd94ab",
   "metadata": {},
   "outputs": [],
   "source": [
    "print(2**1023)\n",
    "x = np.longdouble(2**1023)\n",
    "x = np.longdouble(2**1024)\n",
    "print(x)"
   ]
  }
 ],
 "metadata": {
  "colab": {
   "provenance": []
  },
  "kernelspec": {
   "display_name": "python_curso_IMP",
   "language": "python",
   "name": "python3"
  },
  "language_info": {
   "codemirror_mode": {
    "name": "ipython",
    "version": 3
   },
   "file_extension": ".py",
   "mimetype": "text/x-python",
   "name": "python",
   "nbconvert_exporter": "python",
   "pygments_lexer": "ipython3",
   "version": "3.12.2"
  }
 },
 "nbformat": 4,
 "nbformat_minor": 5
}
